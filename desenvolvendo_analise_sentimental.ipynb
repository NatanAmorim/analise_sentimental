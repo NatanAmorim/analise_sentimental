{
 "nbformat": 4,
 "nbformat_minor": 2,
 "metadata": {
  "language_info": {
   "name": "python",
   "codemirror_mode": {
    "name": "ipython",
    "version": 3
   }
  },
  "orig_nbformat": 2,
  "file_extension": ".py",
  "mimetype": "text/x-python",
  "name": "python",
  "npconvert_exporter": "python",
  "pygments_lexer": "ipython3",
  "version": 3
 },
 "cells": [
  {
   "cell_type": "markdown",
   "metadata": {},
   "source": [
    "# Desenvolvimento de analise sentimental\n",
    "* esse Jupyter Notebook está sendo desenvolvido o treinamento da analise sentimental"
   ]
  },
  {
   "cell_type": "code",
   "execution_count": null,
   "metadata": {},
   "outputs": [],
   "source": [
    "# Positivo🙂\n",
    "print(\"\\U0001f642\")\n",
    "# Negativo 🙁\n",
    "print(\"\\U0001f641\")\n",
    "# Neutro 😐\n",
    "print(\"\\U0001f610\")"
   ]
  }
 ]
}