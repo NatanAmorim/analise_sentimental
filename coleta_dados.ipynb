{
 "nbformat": 4,
 "nbformat_minor": 2,
 "metadata": {
  "language_info": {
   "name": "python",
   "codemirror_mode": {
    "name": "ipython",
    "version": 3
   },
   "version": "3.7.6-final"
  },
  "orig_nbformat": 2,
  "file_extension": ".py",
  "mimetype": "text/x-python",
  "name": "python",
  "npconvert_exporter": "python",
  "pygments_lexer": "ipython3",
  "version": 3,
  "kernelspec": {
   "name": "python3",
   "display_name": "Python 3"
  }
 },
 "cells": [
  {
   "cell_type": "markdown",
   "metadata": {},
   "source": [
    "# Coleta de dados\n",
    "- essa página mostra como é feita a coleta de dados"
   ],
   "execution_count": null,
   "outputs": []
  },
  {
   "cell_type": "code",
   "execution_count": 7,
   "metadata": {},
   "outputs": [
    {
     "output_type": "stream",
     "name": "stdout",
     "text": "No meio do caminho tinha uma pedra\nTinha uma pedra no meio do caminho\nTinha uma pedra\nNo meio do caminho tinha uma pedra\n\nNunca me esquecerei desse acontecimento\nNa vida de minhas retinas tão fatigadas\nNunca me esquecerei que no meio do caminho\nTinha uma pedra\nTinha uma pedra no meio do caminho\nNo meio do caminho tinha uma pedra\n"
    }
   ],
   "source": [
    "texto = \"\"\"No meio do caminho tinha uma pedra\n",
    "Tinha uma pedra no meio do caminho\n",
    "Tinha uma pedra\n",
    "No meio do caminho tinha uma pedra\n",
    "\n",
    "Nunca me esquecerei desse acontecimento\n",
    "Na vida de minhas retinas tão fatigadas\n",
    "Nunca me esquecerei que no meio do caminho\n",
    "Tinha uma pedra\n",
    "Tinha uma pedra no meio do caminho\n",
    "No meio do caminho tinha uma pedra\"\"\"\n",
    "\n",
    "print(texto)\n",
    "\n",
    ""
   ]
  },
  {
   "cell_type": "code",
   "execution_count": 9,
   "metadata": {},
   "outputs": [
    {
     "output_type": "stream",
     "name": "stdout",
     "text": "['No', 'meio', 'do', 'caminho', 'tinha', 'uma', 'pedra', 'Tinha', 'uma', 'pedra', 'no', 'meio', 'do', 'caminho', 'Tinha', 'uma', 'pedra', 'No', 'meio', 'do', 'caminho', 'tinha', 'uma', 'pedra', 'Nunca', 'me', 'esquecerei', 'desse', 'acontecimento', 'Na', 'vida', 'de', 'minhas', 'retinas', 'tão', 'fatigadas', 'Nunca', 'me', 'esquecerei', 'que', 'no', 'meio', 'do', 'caminho', 'Tinha', 'uma', 'pedra', 'Tinha', 'uma', 'pedra', 'no', 'meio', 'do', 'caminho', 'No', 'meio', 'do', 'caminho', 'tinha', 'uma', 'pedra']\n"
    }
   ],
   "source": [
    "import re # Regex (expressão regular)\n",
    "regex = r\"[-'a-zA-ZÀ-ÖØ-öø-ÿ0-9]+\"\n",
    "# identificação de palavras\n",
    "palavras = re.findall(regex, texto)\n",
    "\n",
    "print(palavras)"
   ]
  },
  {
   "cell_type": "code",
   "execution_count": null,
   "metadata": {},
   "outputs": [],
   "source": []
  }
 ]
}