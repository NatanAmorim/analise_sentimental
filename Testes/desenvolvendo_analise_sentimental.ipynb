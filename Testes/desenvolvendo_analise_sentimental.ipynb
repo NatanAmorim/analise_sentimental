{
 "nbformat": 4,
 "nbformat_minor": 2,
 "metadata": {
  "language_info": {
   "name": "python",
   "codemirror_mode": {
    "name": "ipython",
    "version": 3
   },
   "version": "3.7.6-final"
  },
  "orig_nbformat": 2,
  "file_extension": ".py",
  "mimetype": "text/x-python",
  "name": "python",
  "npconvert_exporter": "python",
  "pygments_lexer": "ipython3",
  "version": 3,
  "kernelspec": {
   "name": "python3",
   "display_name": "Python 3"
  }
 },
 "cells": [
  {
   "cell_type": "markdown",
   "metadata": {},
   "source": [
    "# Desenvolvimento de analise sentimental\n",
    "* esse Jupyter Notebook está sendo desenvolvido o treinamento da analise sentimental"
   ]
  },
  {
   "cell_type": "code",
   "execution_count": null,
   "metadata": {},
   "outputs": [],
   "source": [
    "!pip install pandas"
   ]
  },
  {
   "cell_type": "code",
   "execution_count": 2,
   "metadata": {},
   "outputs": [],
   "source": [
    "import csv\n",
    "import pandas as pd"
   ]
  },
  {
   "cell_type": "code",
   "execution_count": 2,
   "metadata": {},
   "outputs": [
    {
     "output_type": "stream",
     "name": "stdout",
     "text": "🙂\n🙁\n😐\n"
    }
   ],
   "source": [
    "sentimentos = [\"Positivo\", \"Negativo\", \"Neutro\"]\n",
    "# Positivo🙂\n",
    "print(\"\\U0001f642\")\n",
    "# Negativo 🙁\n",
    "print(\"\\U0001f641\")\n",
    "# Neutro 😐\n",
    "print(\"\\U0001f610\")"
   ]
  },
  {
   "cell_type": "code",
   "execution_count": null,
   "metadata": {},
   "outputs": [],
   "source": [
    "arquivos = list()\n",
    "dicionario = dict()\n",
    "\n",
    "with open(arquivos, encoding='UTF-8') as csvfile:\n",
    "    reader = list(csv.reader(csvfile, delimiter=\",\"))\n",
    "\n",
    "    for i in reader:\n",
    "        dicionario[i[3]] = i[1]"
   ]
  },
  {
   "cell_type": "code",
   "execution_count": 7,
   "metadata": {},
   "outputs": [
    {
     "output_type": "execute_result",
     "data": {
      "text/plain": "    A   B   C   D\n0  A1  B1  C1  D1\n1  A2  B2  C2  D2\n2  A3  B3  C3  D3\n3  A4  B4  C4  D4\n4  A5  B5  C5  D5\n5  A6  B6  C6  D6\n0  A1  B1  C1  D1\n1  A2  B2  C2  D2\n2  A3  B3  C3  D3\n3  A4  B4  C4  D4\n4  A5  B5  C5  D5\n5  A6  B6  C6  D6",
      "text/html": "<div>\n<style scoped>\n    .dataframe tbody tr th:only-of-type {\n        vertical-align: middle;\n    }\n\n    .dataframe tbody tr th {\n        vertical-align: top;\n    }\n\n    .dataframe thead th {\n        text-align: right;\n    }\n</style>\n<table border=\"1\" class=\"dataframe\">\n  <thead>\n    <tr style=\"text-align: right;\">\n      <th></th>\n      <th>A</th>\n      <th>B</th>\n      <th>C</th>\n      <th>D</th>\n    </tr>\n  </thead>\n  <tbody>\n    <tr>\n      <th>0</th>\n      <td>A1</td>\n      <td>B1</td>\n      <td>C1</td>\n      <td>D1</td>\n    </tr>\n    <tr>\n      <th>1</th>\n      <td>A2</td>\n      <td>B2</td>\n      <td>C2</td>\n      <td>D2</td>\n    </tr>\n    <tr>\n      <th>2</th>\n      <td>A3</td>\n      <td>B3</td>\n      <td>C3</td>\n      <td>D3</td>\n    </tr>\n    <tr>\n      <th>3</th>\n      <td>A4</td>\n      <td>B4</td>\n      <td>C4</td>\n      <td>D4</td>\n    </tr>\n    <tr>\n      <th>4</th>\n      <td>A5</td>\n      <td>B5</td>\n      <td>C5</td>\n      <td>D5</td>\n    </tr>\n    <tr>\n      <th>5</th>\n      <td>A6</td>\n      <td>B6</td>\n      <td>C6</td>\n      <td>D6</td>\n    </tr>\n    <tr>\n      <th>0</th>\n      <td>A1</td>\n      <td>B1</td>\n      <td>C1</td>\n      <td>D1</td>\n    </tr>\n    <tr>\n      <th>1</th>\n      <td>A2</td>\n      <td>B2</td>\n      <td>C2</td>\n      <td>D2</td>\n    </tr>\n    <tr>\n      <th>2</th>\n      <td>A3</td>\n      <td>B3</td>\n      <td>C3</td>\n      <td>D3</td>\n    </tr>\n    <tr>\n      <th>3</th>\n      <td>A4</td>\n      <td>B4</td>\n      <td>C4</td>\n      <td>D4</td>\n    </tr>\n    <tr>\n      <th>4</th>\n      <td>A5</td>\n      <td>B5</td>\n      <td>C5</td>\n      <td>D5</td>\n    </tr>\n    <tr>\n      <th>5</th>\n      <td>A6</td>\n      <td>B6</td>\n      <td>C6</td>\n      <td>D6</td>\n    </tr>\n  </tbody>\n</table>\n</div>"
     },
     "metadata": {},
     "execution_count": 7
    }
   ],
   "source": [
    "arquivo = 'exemplo.csv'\n",
    "df = pd.read_csv(arquivo, sep=\",\")\n",
    "\n",
    "df.head() # manda as primeiras 5 linhas\n",
    "\n",
    "af = df.append(df)\n",
    "\n",
    "af"
   ]
  },
  {
   "cell_type": "code",
   "execution_count": 16,
   "metadata": {},
   "outputs": [
    {
     "output_type": "execute_result",
     "data": {
      "text/plain": "RandomForestClassifier(bootstrap=True, ccp_alpha=0.0, class_weight=None,\n                       criterion='gini', max_depth=None, max_features='auto',\n                       max_leaf_nodes=None, max_samples=None,\n                       min_impurity_decrease=0.0, min_impurity_split=None,\n                       min_samples_leaf=1, min_samples_split=2,\n                       min_weight_fraction_leaf=0.0, n_estimators=100,\n                       n_jobs=None, oob_score=False, random_state=None,\n                       verbose=0, warm_start=False)"
     },
     "metadata": {},
     "execution_count": 16
    }
   ],
   "source": [
    "# Hora de iniciar um classificador Random Forest\n",
    "from sklearn.ensemble import RandomForestClassifier\n",
    "forest = RandomForestClassifier(n_estimators = 100)\n",
    "forest"
   ]
  },
  {
   "cell_type": "code",
   "execution_count": 8,
   "metadata": {},
   "outputs": [],
   "source": [
    "arquivos = [\n",
    "    'TweetsNeutralHash.csv',\n",
    "    'TweetsNeutralNews.csv',\n",
    "    'TweetsWithTheme.csv'\n",
    "]"
   ]
  },
  {
   "cell_type": "code",
   "execution_count": 18,
   "metadata": {},
   "outputs": [
    {
     "output_type": "execute_result",
     "data": {
      "text/plain": "                         id  \\\n0       1027376569449410562   \n1       1026566106599833600   \n2       1026445716808445952   \n3       1025980728356626434   \n4       1025531221978308608   \n...                     ...   \n344617  1055096632600080384   \n344618  1055204789058002949   \n344619  1054982223793938433   \n344620  1055144918451187714   \n344621  1055068278882791425   \n\n                                               tweet_text  \\\n0       @dilsonramoslima #Fato Acho que o Roger é um b...   \n1       #NOVIDADE! @LATAM_BRA acaba de anunciar novo v...   \n2       Quando tem #novidade😆 tem @novafm103 na área! ...   \n3       @RiodeNojeira #Novidade Taí o sucesso dos filh...   \n4       [Livro/Novidades] Segredos, uma história de Lu...   \n...                                                   ...   \n344617  As concorrentes estão prontas para tudo. :p Lo...   \n344618  @Frases_RCampos @vrr93 Falei de um já pensando...   \n344619  @njg00 @christophssj @pecesiqueira @cauemoura ...   \n344620  que coisa mais triste uma amiga defendendo um ...   \n344621  @ElevenSports_PT @AneisCinco @putente @sitioco...   \n\n                            tweet_date sentiment   query_used  \n0       Thu Aug 09 02:10:36 +0000 2018    Neutro        #fato  \n1       Mon Aug 06 20:30:07 +0000 2018    Neutro    #novidade  \n2       Mon Aug 06 12:31:43 +0000 2018    Neutro    #novidade  \n3       Sun Aug 05 05:44:02 +0000 2018    Neutro    #novidade  \n4       Fri Aug 03 23:57:51 +0000 2018    Neutro    #novidade  \n...                                ...       ...          ...  \n344617  Wed Oct 24 14:00:14 +0000 2018  Positivo        PT :)  \n344618  Wed Oct 24 21:10:01 +0000 2018  Positivo   governo :)  \n344619  Wed Oct 24 06:25:37 +0000 2018  Positivo   governo :)  \n344620  Wed Oct 24 17:12:06 +0000 2018  Negativo  fascista :(  \n344621  Wed Oct 24 12:07:34 +0000 2018  Positivo        PT :)  \n\n[344622 rows x 5 columns]",
      "text/html": "<div>\n<style scoped>\n    .dataframe tbody tr th:only-of-type {\n        vertical-align: middle;\n    }\n\n    .dataframe tbody tr th {\n        vertical-align: top;\n    }\n\n    .dataframe thead th {\n        text-align: right;\n    }\n</style>\n<table border=\"1\" class=\"dataframe\">\n  <thead>\n    <tr style=\"text-align: right;\">\n      <th></th>\n      <th>id</th>\n      <th>tweet_text</th>\n      <th>tweet_date</th>\n      <th>sentiment</th>\n      <th>query_used</th>\n    </tr>\n  </thead>\n  <tbody>\n    <tr>\n      <th>0</th>\n      <td>1027376569449410562</td>\n      <td>@dilsonramoslima #Fato Acho que o Roger é um b...</td>\n      <td>Thu Aug 09 02:10:36 +0000 2018</td>\n      <td>Neutro</td>\n      <td>#fato</td>\n    </tr>\n    <tr>\n      <th>1</th>\n      <td>1026566106599833600</td>\n      <td>#NOVIDADE! @LATAM_BRA acaba de anunciar novo v...</td>\n      <td>Mon Aug 06 20:30:07 +0000 2018</td>\n      <td>Neutro</td>\n      <td>#novidade</td>\n    </tr>\n    <tr>\n      <th>2</th>\n      <td>1026445716808445952</td>\n      <td>Quando tem #novidade😆 tem @novafm103 na área! ...</td>\n      <td>Mon Aug 06 12:31:43 +0000 2018</td>\n      <td>Neutro</td>\n      <td>#novidade</td>\n    </tr>\n    <tr>\n      <th>3</th>\n      <td>1025980728356626434</td>\n      <td>@RiodeNojeira #Novidade Taí o sucesso dos filh...</td>\n      <td>Sun Aug 05 05:44:02 +0000 2018</td>\n      <td>Neutro</td>\n      <td>#novidade</td>\n    </tr>\n    <tr>\n      <th>4</th>\n      <td>1025531221978308608</td>\n      <td>[Livro/Novidades] Segredos, uma história de Lu...</td>\n      <td>Fri Aug 03 23:57:51 +0000 2018</td>\n      <td>Neutro</td>\n      <td>#novidade</td>\n    </tr>\n    <tr>\n      <th>...</th>\n      <td>...</td>\n      <td>...</td>\n      <td>...</td>\n      <td>...</td>\n      <td>...</td>\n    </tr>\n    <tr>\n      <th>344617</th>\n      <td>1055096632600080384</td>\n      <td>As concorrentes estão prontas para tudo. :p Lo...</td>\n      <td>Wed Oct 24 14:00:14 +0000 2018</td>\n      <td>Positivo</td>\n      <td>PT :)</td>\n    </tr>\n    <tr>\n      <th>344618</th>\n      <td>1055204789058002949</td>\n      <td>@Frases_RCampos @vrr93 Falei de um já pensando...</td>\n      <td>Wed Oct 24 21:10:01 +0000 2018</td>\n      <td>Positivo</td>\n      <td>governo :)</td>\n    </tr>\n    <tr>\n      <th>344619</th>\n      <td>1054982223793938433</td>\n      <td>@njg00 @christophssj @pecesiqueira @cauemoura ...</td>\n      <td>Wed Oct 24 06:25:37 +0000 2018</td>\n      <td>Positivo</td>\n      <td>governo :)</td>\n    </tr>\n    <tr>\n      <th>344620</th>\n      <td>1055144918451187714</td>\n      <td>que coisa mais triste uma amiga defendendo um ...</td>\n      <td>Wed Oct 24 17:12:06 +0000 2018</td>\n      <td>Negativo</td>\n      <td>fascista :(</td>\n    </tr>\n    <tr>\n      <th>344621</th>\n      <td>1055068278882791425</td>\n      <td>@ElevenSports_PT @AneisCinco @putente @sitioco...</td>\n      <td>Wed Oct 24 12:07:34 +0000 2018</td>\n      <td>Positivo</td>\n      <td>PT :)</td>\n    </tr>\n  </tbody>\n</table>\n<p>344622 rows × 5 columns</p>\n</div>"
     },
     "metadata": {},
     "execution_count": 18
    }
   ],
   "source": [
    "arquivos = [\n",
    "    'TweetsNeutralHash.csv',\n",
    "    'TweetsNeutralNews.csv',\n",
    "    'TweetsWithTheme.csv'\n",
    "]\n",
    "lista = list()\n",
    "\n",
    "for arquivo in arquivos:\n",
    "    df = pd.read_csv(arquivo, sep=\",\", index_col=None, header=0)\n",
    "    li.append(df)\n",
    "\n",
    "frame = pd.concat(li, axis=0, ignore_index=True)\n",
    "\n",
    "frame"
   ]
  }
 ]
}