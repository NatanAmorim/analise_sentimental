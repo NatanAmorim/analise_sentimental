{
 "nbformat": 4,
 "nbformat_minor": 2,
 "metadata": {
  "language_info": {
   "name": "python",
   "codemirror_mode": {
    "name": "ipython",
    "version": 3
   },
   "version": "3.7.6-final"
  },
  "orig_nbformat": 2,
  "file_extension": ".py",
  "mimetype": "text/x-python",
  "name": "python",
  "npconvert_exporter": "python",
  "pygments_lexer": "ipython3",
  "version": 3,
  "kernelspec": {
   "name": "python3",
   "display_name": "Python 3"
  }
 },
 "cells": [
  {
   "cell_type": "markdown",
   "metadata": {},
   "source": [
    "# Desenvolvimento de analise sentimental\n",
    "* esse Jupyter Notebook está sendo desenvolvido o treinamento da analise sentimental"
   ]
  },
  {
   "cell_type": "code",
   "execution_count": null,
   "metadata": {},
   "outputs": [],
   "source": [
    "!pip install pandas"
   ]
  },
  {
   "cell_type": "code",
   "execution_count": 1,
   "metadata": {},
   "outputs": [],
   "source": [
    "import csv\n",
    "import pandas as pd"
   ]
  },
  {
   "cell_type": "code",
   "execution_count": 2,
   "metadata": {},
   "outputs": [
    {
     "output_type": "stream",
     "name": "stdout",
     "text": "🙂\n🙁\n😐\n"
    }
   ],
   "source": [
    "# Positivo🙂\n",
    "print(\"\\U0001f642\")\n",
    "# Negativo 🙁\n",
    "print(\"\\U0001f641\")\n",
    "# Neutro 😐\n",
    "print(\"\\U0001f610\")"
   ]
  },
  {
   "cell_type": "code",
   "execution_count": null,
   "metadata": {},
   "outputs": [],
   "source": [
    "arquivos = list()\n",
    "dicionario = dict()\n",
    "\n",
    "with open(arquivos, encoding='UTF-8') as csvfile:\n",
    "    reader = list(csv.reader(csvfile, delimiter=\",\"))\n",
    "\n",
    "    for i in reader:\n",
    "        dicionario[i[3]] = i[1]"
   ]
  },
  {
   "cell_type": "code",
   "execution_count": null,
   "metadata": {},
   "outputs": [],
   "source": [
    "arquivos = 'teste.csv'\n",
    "df = pd.read_csv(arquivos, sep=';')\n",
    "\n",
    "df.head() # manda as primeiras 5 linhas"
   ]
  }
 ]
}