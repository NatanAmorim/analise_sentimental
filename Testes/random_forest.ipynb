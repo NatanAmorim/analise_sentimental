{
 "cells": [
  {
   "cell_type": "code",
   "execution_count": 1,
   "metadata": {},
   "outputs": [
    {
     "output_type": "stream",
     "name": "stdout",
     "text": "Requirement already satisfied: unidecode in c:\\users\\natan\\appdata\\local\\programs\\python\\python38\\lib\\site-packages (1.1.1)\nRequirement already satisfied: nltk in c:\\users\\natan\\appdata\\local\\programs\\python\\python38\\lib\\site-packages (3.5)\nRequirement already satisfied: click in c:\\users\\natan\\appdata\\local\\programs\\python\\python38\\lib\\site-packages (from nltk) (7.1.1)\nRequirement already satisfied: joblib in c:\\users\\natan\\appdata\\local\\programs\\python\\python38\\lib\\site-packages (from nltk) (0.14.1)\nRequirement already satisfied: regex in c:\\users\\natan\\appdata\\local\\programs\\python\\python38\\lib\\site-packages (from nltk) (2020.4.4)\nRequirement already satisfied: tqdm in c:\\users\\natan\\appdata\\local\\programs\\python\\python38\\lib\\site-packages (from nltk) (4.45.0)\nRequirement already satisfied: sklearn in c:\\users\\natan\\appdata\\local\\programs\\python\\python38\\lib\\site-packages (0.0)\nRequirement already satisfied: scikit-learn in c:\\users\\natan\\appdata\\local\\programs\\python\\python38\\lib\\site-packages (from sklearn) (0.22.2.post1)\nRequirement already satisfied: joblib>=0.11 in c:\\users\\natan\\appdata\\local\\programs\\python\\python38\\lib\\site-packages (from scikit-learn->sklearn) (0.14.1)\nRequirement already satisfied: scipy>=0.17.0 in c:\\users\\natan\\appdata\\local\\programs\\python\\python38\\lib\\site-packages (from scikit-learn->sklearn) (1.4.1)\nRequirement already satisfied: numpy>=1.11.0 in c:\\users\\natan\\appdata\\local\\programs\\python\\python38\\lib\\site-packages (from scikit-learn->sklearn) (1.18.3)\nRequirement already satisfied: pandas in c:\\users\\natan\\appdata\\local\\programs\\python\\python38\\lib\\site-packages (1.0.3)\nRequirement already satisfied: pytz>=2017.2 in c:\\users\\natan\\appdata\\local\\programs\\python\\python38\\lib\\site-packages (from pandas) (2019.3)\nRequirement already satisfied: python-dateutil>=2.6.1 in c:\\users\\natan\\appdata\\local\\programs\\python\\python38\\lib\\site-packages (from pandas) (2.8.1)\nRequirement already satisfied: numpy>=1.13.3 in c:\\users\\natan\\appdata\\local\\programs\\python\\python38\\lib\\site-packages (from pandas) (1.18.3)\nRequirement already satisfied: six>=1.5 in c:\\users\\natan\\appdata\\local\\programs\\python\\python38\\lib\\site-packages (from python-dateutil>=2.6.1->pandas) (1.14.0)\nRequirement already satisfied: seaborn in c:\\users\\natan\\appdata\\local\\programs\\python\\python38\\lib\\site-packages (0.10.0)\nRequirement already satisfied: matplotlib>=2.1.2 in c:\\users\\natan\\appdata\\local\\programs\\python\\python38\\lib\\site-packages (from seaborn) (3.2.1)\nRequirement already satisfied: scipy>=1.0.1 in c:\\users\\natan\\appdata\\local\\programs\\python\\python38\\lib\\site-packages (from seaborn) (1.4.1)\nRequirement already satisfied: numpy>=1.13.3 in c:\\users\\natan\\appdata\\local\\programs\\python\\python38\\lib\\site-packages (from seaborn) (1.18.3)\nRequirement already satisfied: pandas>=0.22.0 in c:\\users\\natan\\appdata\\local\\programs\\python\\python38\\lib\\site-packages (from seaborn) (1.0.3)\nRequirement already satisfied: cycler>=0.10 in c:\\users\\natan\\appdata\\local\\programs\\python\\python38\\lib\\site-packages (from matplotlib>=2.1.2->seaborn) (0.10.0)\nRequirement already satisfied: pyparsing!=2.0.4,!=2.1.2,!=2.1.6,>=2.0.1 in c:\\users\\natan\\appdata\\local\\programs\\python\\python38\\lib\\site-packages (from matplotlib>=2.1.2->seaborn) (2.4.7)\nRequirement already satisfied: kiwisolver>=1.0.1 in c:\\users\\natan\\appdata\\local\\programs\\python\\python38\\lib\\site-packages (from matplotlib>=2.1.2->seaborn) (1.2.0)\nRequirement already satisfied: python-dateutil>=2.1 in c:\\users\\natan\\appdata\\local\\programs\\python\\python38\\lib\\site-packages (from matplotlib>=2.1.2->seaborn) (2.8.1)\nRequirement already satisfied: pytz>=2017.2 in c:\\users\\natan\\appdata\\local\\programs\\python\\python38\\lib\\site-packages (from pandas>=0.22.0->seaborn) (2019.3)\nRequirement already satisfied: six in c:\\users\\natan\\appdata\\local\\programs\\python\\python38\\lib\\site-packages (from cycler>=0.10->matplotlib>=2.1.2->seaborn) (1.14.0)\nRequirement already satisfied: matplotlib in c:\\users\\natan\\appdata\\local\\programs\\python\\python38\\lib\\site-packages (3.2.1)\nRequirement already satisfied: python-dateutil>=2.1 in c:\\users\\natan\\appdata\\local\\programs\\python\\python38\\lib\\site-packages (from matplotlib) (2.8.1)\nRequirement already satisfied: pyparsing!=2.0.4,!=2.1.2,!=2.1.6,>=2.0.1 in c:\\users\\natan\\appdata\\local\\programs\\python\\python38\\lib\\site-packages (from matplotlib) (2.4.7)\nRequirement already satisfied: cycler>=0.10 in c:\\users\\natan\\appdata\\local\\programs\\python\\python38\\lib\\site-packages (from matplotlib) (0.10.0)\nRequirement already satisfied: kiwisolver>=1.0.1 in c:\\users\\natan\\appdata\\local\\programs\\python\\python38\\lib\\site-packages (from matplotlib) (1.2.0)\nRequirement already satisfied: numpy>=1.11 in c:\\users\\natan\\appdata\\local\\programs\\python\\python38\\lib\\site-packages (from matplotlib) (1.18.3)\nRequirement already satisfied: six>=1.5 in c:\\users\\natan\\appdata\\local\\programs\\python\\python38\\lib\\site-packages (from python-dateutil>=2.1->matplotlib) (1.14.0)\n\n\u001b[1m\u001b[93mImportações feitas com sucesso!\n"
    }
   ],
   "source": [
    "#import string\n",
    "import re # Regex (expressão regular)\n",
    "!pip install unidecode\n",
    "from unicodedata import normalize # utíl para tratamento de texto e compatibilidade\n",
    "!pip install nltk\n",
    "import nltk # Ferramentas de PLN\n",
    "!pip install sklearn\n",
    "import sklearn # Ferramentas de aprendizado de máquina\n",
    "!pip install pandas\n",
    "import pandas as pd\n",
    "!pip install seaborn\n",
    "import seaborn as sns\n",
    "!pip install matplotlib\n",
    "import matplotlib.pyplot as plt # Plotagem de gráficos\n",
    "\n",
    "print(\"\\n\" + '\\033[1m' + '\\033[93m' + \"Importações feitas com sucesso!\")"
   ]
  },
  {
   "cell_type": "markdown",
   "metadata": {},
   "source": [
    "## Dados\n",
    "* As seguintes CSV foram baixados em [Portuguese Tweets for Sentiment Analysis](https://www.kaggle.com/augustop/portuguese-tweets-for-sentiment-analysis) criado por [augustop](https://www.kaggle.com/augustop) "
   ]
  },
  {
   "cell_type": "code",
   "execution_count": 2,
   "metadata": {},
   "outputs": [
    {
     "output_type": "execute_result",
     "data": {
      "text/plain": "                                              tweet_text sentiment  score\n0      Esquerda e direita empatam na Suécia; ultranac...    Neutro      0\n1      Ao vivo: Estadão e TV Gazeta realizam terceiro...    Neutro      0\n2      FOTOS: Apoiadores de Jair Bolsonaro realizam a...    Neutro      0\n3      Barroso ameaça barrar propaganda se PT insisti...    Neutro      0\n4      Serena Williams é multada pelo comportamento d...    Neutro      0\n...                                                  ...       ...    ...\n99142  As concorrentes estão prontas para tudo. :p Lo...  Positivo      1\n99143  @Frases_RCampos @vrr93 Falei de um já pensando...  Positivo      1\n99144  @njg00 @christophssj @pecesiqueira @cauemoura ...  Positivo      1\n99145  que coisa mais triste uma amiga defendendo um ...  Negativo     -1\n99146  @ElevenSports_PT @AneisCinco @putente @sitioco...  Positivo      1\n\n[99147 rows x 3 columns]",
      "text/html": "<div>\n<style scoped>\n    .dataframe tbody tr th:only-of-type {\n        vertical-align: middle;\n    }\n\n    .dataframe tbody tr th {\n        vertical-align: top;\n    }\n\n    .dataframe thead th {\n        text-align: right;\n    }\n</style>\n<table border=\"1\" class=\"dataframe\">\n  <thead>\n    <tr style=\"text-align: right;\">\n      <th></th>\n      <th>tweet_text</th>\n      <th>sentiment</th>\n      <th>score</th>\n    </tr>\n  </thead>\n  <tbody>\n    <tr>\n      <th>0</th>\n      <td>Esquerda e direita empatam na Suécia; ultranac...</td>\n      <td>Neutro</td>\n      <td>0</td>\n    </tr>\n    <tr>\n      <th>1</th>\n      <td>Ao vivo: Estadão e TV Gazeta realizam terceiro...</td>\n      <td>Neutro</td>\n      <td>0</td>\n    </tr>\n    <tr>\n      <th>2</th>\n      <td>FOTOS: Apoiadores de Jair Bolsonaro realizam a...</td>\n      <td>Neutro</td>\n      <td>0</td>\n    </tr>\n    <tr>\n      <th>3</th>\n      <td>Barroso ameaça barrar propaganda se PT insisti...</td>\n      <td>Neutro</td>\n      <td>0</td>\n    </tr>\n    <tr>\n      <th>4</th>\n      <td>Serena Williams é multada pelo comportamento d...</td>\n      <td>Neutro</td>\n      <td>0</td>\n    </tr>\n    <tr>\n      <th>...</th>\n      <td>...</td>\n      <td>...</td>\n      <td>...</td>\n    </tr>\n    <tr>\n      <th>99142</th>\n      <td>As concorrentes estão prontas para tudo. :p Lo...</td>\n      <td>Positivo</td>\n      <td>1</td>\n    </tr>\n    <tr>\n      <th>99143</th>\n      <td>@Frases_RCampos @vrr93 Falei de um já pensando...</td>\n      <td>Positivo</td>\n      <td>1</td>\n    </tr>\n    <tr>\n      <th>99144</th>\n      <td>@njg00 @christophssj @pecesiqueira @cauemoura ...</td>\n      <td>Positivo</td>\n      <td>1</td>\n    </tr>\n    <tr>\n      <th>99145</th>\n      <td>que coisa mais triste uma amiga defendendo um ...</td>\n      <td>Negativo</td>\n      <td>-1</td>\n    </tr>\n    <tr>\n      <th>99146</th>\n      <td>@ElevenSports_PT @AneisCinco @putente @sitioco...</td>\n      <td>Positivo</td>\n      <td>1</td>\n    </tr>\n  </tbody>\n</table>\n<p>99147 rows × 3 columns</p>\n</div>"
     },
     "metadata": {},
     "execution_count": 2
    }
   ],
   "source": [
    "# https://www.kaggle.com/augustop/portuguese-tweets-for-sentiment-analysis\n",
    "arquivos = [\n",
    "    'TweetsNeutralNews.csv',\n",
    "    'TweetsWithTheme.csv'\n",
    "]\n",
    "\n",
    "lista = list()\n",
    "\n",
    "for arquivo in arquivos:\n",
    "    df = pd.read_csv( \"../dados/\" + arquivo, sep=\",\", index_col=None, header=0)\n",
    "    lista.append(df[['tweet_text','sentiment']])\n",
    "\n",
    "tweets = pd.concat(lista, axis=0, ignore_index=True)\n",
    "\n",
    "tweets['score'] = tweets['sentiment'].replace(['Negativo','Neutro', 'Positivo'], [-1, 0, 1])\n",
    "\n",
    "tweets"
   ]
  },
  {
   "cell_type": "code",
   "execution_count": 3,
   "metadata": {},
   "outputs": [
    {
     "output_type": "execute_result",
     "data": {
      "text/plain": "Neutro      37556\nPositivo    32744\nNegativo    28847\nName: sentiment, dtype: int64"
     },
     "metadata": {},
     "execution_count": 3
    }
   ],
   "source": [
    "tweets['sentiment'].value_counts()"
   ]
  },
  {
   "cell_type": "code",
   "execution_count": 4,
   "metadata": {},
   "outputs": [
    {
     "output_type": "execute_result",
     "data": {
      "text/plain": "0        esquerda e direita empatam na suécia; ultranac...\n1        ao vivo: estadão e tv gazeta realizam terceiro...\n2        fotos: apoiadores de jair bolsonaro realizam a...\n3        barroso ameaça barrar propaganda se pt insisti...\n4        serena williams é multada pelo comportamento d...\n                               ...                        \n99142    as concorrentes estão prontas para tudo. :p lo...\n99143    @frases_rcampos @vrr93 falei de um já pensando...\n99144    @njg00 @christophssj @pecesiqueira @cauemoura ...\n99145    que coisa mais triste uma amiga defendendo um ...\n99146    @elevensports_pt @aneiscinco @putente @sitioco...\nName: tweet_text, Length: 99147, dtype: object"
     },
     "metadata": {},
     "execution_count": 4
    }
   ],
   "source": [
    "# Deixando tudo em minúsculo\n",
    "tweets['tweet_text'] = tweets['tweet_text'].str.lower()\n",
    "\n",
    "tweets['tweet_text']"
   ]
  },
  {
   "cell_type": "code",
   "execution_count": 5,
   "metadata": {},
   "outputs": [
    {
     "output_type": "execute_result",
     "data": {
      "text/plain": "0        esquerda e direita empatam na suécia; ultranac...\n1        ao vivo: estadão e tv gazeta realizam terceiro...\n2        fotos: apoiadores de jair bolsonaro realizam a...\n3        barroso ameaça barrar propaganda se pt insisti...\n4        serena williams é multada pelo comportamento d...\n                               ...                        \n99142    as concorrentes estão prontas para tudo. :p lo...\n99143    @frases_rcampos @vrr93 falei de um já pensando...\n99144    @njg00 @christophssj @pecesiqueira @cauemoura ...\n99145    que coisa mais triste uma amiga defendendo um ...\n99146    @elevensports_pt @aneiscinco @putente @sitioco...\nName: tweet_text, Length: 99147, dtype: object"
     },
     "metadata": {},
     "execution_count": 5
    }
   ],
   "source": [
    "# Removendo tudo entre []\n",
    "tweets['tweet_text'] = tweets['tweet_text'].replace(to_replace='\\[.*?\\]', value='', regex=True)\n",
    "\n",
    "tweets['tweet_text']\n",
    ""
   ]
  },
  {
   "cell_type": "code",
   "execution_count": 6,
   "metadata": {},
   "outputs": [],
   "source": [
    "# remover links\n",
    "tweets['tweet_text'] = tweets['tweet_text'].replace(to_replace='https?://[A-Za-z0-9./]+', value='', regex=True)\n",
    "tweets['tweet_text'] = tweets['tweet_text'].replace(to_replace='http?://[A-Za-z0-9./]+', value='', regex=True)\n",
    "tweets['tweet_text'] = tweets['tweet_text'].replace(to_replace='wwww?://[A-Za-z0-9./]+', value='', regex=True)\n",
    "tweets['tweet_text'] = tweets['tweet_text'].replace(to_replace='ftp?://[A-Za-z0-9./]+', value='', regex=True)"
   ]
  },
  {
   "cell_type": "code",
   "execution_count": 7,
   "metadata": {},
   "outputs": [],
   "source": [
    "# remover emails"
   ]
  },
  {
   "cell_type": "code",
   "execution_count": 8,
   "metadata": {},
   "outputs": [
    {
     "output_type": "execute_result",
     "data": {
      "text/plain": "0        esquerda e direita empatam na suécia; ultranac...\n1        ao vivo: estadão e tv gazeta realizam terceiro...\n2        fotos: apoiadores de jair bolsonaro realizam a...\n3        barroso ameaça barrar propaganda se pt insisti...\n4        serena williams é multada pelo comportamento d...\n                               ...                        \n99142    as concorrentes estão prontas para tudo. :p lo...\n99143    @frases_rcampos @vrr falei de um já pensando e...\n99144    @njg @christophssj @pecesiqueira @cauemoura @r...\n99145    que coisa mais triste uma amiga defendendo um ...\n99146    @elevensports_pt @aneiscinco @putente @sitioco...\nName: tweet_text, Length: 99147, dtype: object"
     },
     "metadata": {},
     "execution_count": 8
    }
   ],
   "source": [
    "# Removendo números\n",
    "tweets['tweet_text'] = tweets['tweet_text'].replace(to_replace='\\d+', value='', regex=True)\n",
    "\n",
    "tweets['tweet_text']"
   ]
  },
  {
   "cell_type": "code",
   "execution_count": 9,
   "metadata": {},
   "outputs": [
    {
     "output_type": "execute_result",
     "data": {
      "text/plain": "0        esquerda e direita empatam na suécia; ultranac...\n1        ao vivo: estadão e tv gazeta realizam terceiro...\n2        fotos: apoiadores de jair bolsonaro realizam a...\n3        barroso ameaça barrar propaganda se pt insisti...\n4        serena williams é multada pelo comportamento d...\n                               ...                        \n99142    as concorrentes estão prontas para tudo. :p lo...\n99143    @frases_rcampos @vrr falei de um já pensando e...\n99144    @njg @christophssj @pecesiqueira @cauemoura @r...\n99145    que coisa mais triste uma amiga defendendo um ...\n99146    @elevensports_pt @aneiscinco @putente @sitioco...\nName: tweet_text, Length: 99147, dtype: object"
     },
     "metadata": {},
     "execution_count": 9
    }
   ],
   "source": [
    "# Removendo #rashtags\n",
    "tweets['tweet_text'] = tweets['tweet_text'].replace(to_replace=r'(\\#\\w+)', value='', regex=True)\n",
    "\n",
    "tweets['tweet_text']"
   ]
  },
  {
   "cell_type": "code",
   "execution_count": 10,
   "metadata": {},
   "outputs": [
    {
     "output_type": "execute_result",
     "data": {
      "text/plain": "0        esquerda e direita empatam na suécia; ultranac...\n1        ao vivo: estadão e tv gazeta realizam terceiro...\n2        fotos: apoiadores de jair bolsonaro realizam a...\n3        barroso ameaça barrar propaganda se pt insisti...\n4        serena williams é multada pelo comportamento d...\n                               ...                        \n99142    as concorrentes estão prontas para tudo. :p lo...\n99143      falei de um já pensando em conectar com o go...\n99144         eu comecei isentao, pesquisei bastante, b...\n99145    que coisa mais triste uma amiga defendendo um ...\n99146             obrigado pela declaração de intenções :)\nName: tweet_text, Length: 99147, dtype: object"
     },
     "metadata": {},
     "execution_count": 10
    }
   ],
   "source": [
    "# Removendo @Mentions\n",
    "tweets['tweet_text'] = tweets['tweet_text'].replace(to_replace=r'(\\@\\w+)', value='', regex=True)\n",
    "\n",
    "tweets['tweet_text']"
   ]
  },
  {
   "cell_type": "code",
   "execution_count": 11,
   "metadata": {},
   "outputs": [
    {
     "output_type": "execute_result",
     "data": {
      "text/plain": "0        esquerda e direita empatam na suécia ultranaci...\n1        ao vivo estadão e tv gazeta realizam terceiro ...\n2        fotos apoiadores de jair bolsonaro realizam at...\n3        barroso ameaça barrar propaganda se pt insisti...\n4        serena williams é multada pelo comportamento d...\n                               ...                        \n99142    as concorrentes estão prontas para tudo p love...\n99143      falei de um já pensando em conectar com o go...\n99144         eu comecei isentao pesquisei bastante bai...\n99145    que coisa mais triste uma amiga defendendo um ...\n99146               obrigado pela declaração de intenções \nName: tweet_text, Length: 99147, dtype: object"
     },
     "metadata": {},
     "execution_count": 11
    }
   ],
   "source": [
    "# Removendo a pontuação (EX: \"!?.,/|#$%¨&\")\n",
    "tweets['tweet_text'] = tweets['tweet_text'].replace(to_replace=r'[^\\w\\s]', value='', regex=True)\n",
    "\n",
    "tweets['tweet_text']"
   ]
  },
  {
   "cell_type": "code",
   "execution_count": 12,
   "metadata": {},
   "outputs": [
    {
     "output_type": "execute_result",
     "data": {
      "text/plain": "0        esquerda e direita empatam na suecia ultranaci...\n1        ao vivo estadao e tv gazeta realizam terceiro ...\n2        fotos apoiadores de jair bolsonaro realizam at...\n3        barroso ameaca barrar propaganda se pt insisti...\n4        serena williams e multada pelo comportamento d...\n                               ...                        \n99142    as concorrentes estao prontas para tudo p love...\n99143      falei de um ja pensando em conectar com o go...\n99144         eu comecei isentao pesquisei bastante bai...\n99145    que coisa mais triste uma amiga defendendo um ...\n99146               obrigado pela declaracao de intencoes \nName: tweet_text, Length: 99147, dtype: object"
     },
     "metadata": {},
     "execution_count": 12
    }
   ],
   "source": [
    "# Removendo acentuação\n",
    "tweets['tweet_text'] = tweets['tweet_text'].str.normalize('NFKD').str.encode('ASCII', errors='ignore').str.decode('UTF-8')\n",
    "\n",
    "tweets['tweet_text']"
   ]
  },
  {
   "cell_type": "code",
   "execution_count": 13,
   "metadata": {},
   "outputs": [
    {
     "output_type": "stream",
     "name": "stderr",
     "text": "[nltk_data] Downloading package stopwords to\n[nltk_data]     C:\\Users\\natan\\AppData\\Roaming\\nltk_data...\n[nltk_data]   Package stopwords is already up-to-date!\n[nltk_data] Downloading package rslp to\n[nltk_data]     C:\\Users\\natan\\AppData\\Roaming\\nltk_data...\n[nltk_data]   Package rslp is already up-to-date!\n"
    },
    {
     "output_type": "execute_result",
     "data": {
      "text/plain": "True"
     },
     "metadata": {},
     "execution_count": 13
    }
   ],
   "source": [
    "# Uma stopword pode ser considerada uma palavra irrelevante para a análise\n",
    "nltk.download('stopwords')\n",
    "# RSLP(Removedor de Sufixos da Língua Portuguesa)\n",
    "nltk.download('rslp')"
   ]
  },
  {
   "cell_type": "code",
   "execution_count": 14,
   "metadata": {},
   "outputs": [],
   "source": [
    "# Criando uma lista de stopWords\n",
    "stopWords = set(nltk.corpus.stopwords.words('portuguese'))\n",
    "# O processo de stemming consiste em reduzir a palavra à sua raiz (sem levar em conta a classe gramatical)\n",
    "stemmer = nltk.stem.RSLPStemmer() # RSLP(Removedor de Sufixos da Língua Portuguesa)\n",
    "# Separa por tokens (tokens = palavras)\n",
    "tokenizer = nltk.tokenize.WordPunctTokenizer()"
   ]
  },
  {
   "cell_type": "code",
   "execution_count": 15,
   "metadata": {
    "tags": [
     "outputPrepend",
     "outputPrepend",
     "outputPrepend",
     "outputPrepend",
     "outputPrepend",
     "outputPrepend",
     "outputPrepend",
     "outputPrepend",
     "outputPrepend",
     "outputPrepend",
     "outputPrepend",
     "outputPrepend",
     "outputPrepend",
     "outputPrepend",
     "outputPrepend",
     "outputPrepend",
     "outputPrepend",
     "outputPrepend",
     "outputPrepend",
     "outputPrepend",
     "outputPrepend",
     "outputPrepend",
     "outputPrepend",
     "outputPrepend",
     "outputPrepend",
     "outputPrepend",
     "outputPrepend",
     "outputPrepend",
     "outputPrepend",
     "outputPrepend",
     "outputPrepend",
     "outputPrepend",
     "outputPrepend",
     "outputPrepend",
     "outputPrepend",
     "outputPrepend",
     "outputPrepend",
     "outputPrepend",
     "outputPrepend",
     "outputPrepend",
     "outputPrepend",
     "outputPrepend",
     "outputPrepend",
     "outputPrepend",
     "outputPrepend",
     "outputPrepend",
     "outputPrepend",
     "outputPrepend",
     "outputPrepend",
     "outputPrepend",
     "outputPrepend",
     "outputPrepend",
     "outputPrepend",
     "outputPrepend",
     "outputPrepend",
     "outputPrepend",
     "outputPrepend",
     "outputPrepend",
     "outputPrepend",
     "outputPrepend",
     "outputPrepend",
     "outputPrepend",
     "outputPrepend",
     "outputPrepend",
     "outputPrepend",
     "outputPrepend",
     "outputPrepend",
     "outputPrepend",
     "outputPrepend",
     "outputPrepend",
     "outputPrepend",
     "outputPrepend",
     "outputPrepend",
     "outputPrepend",
     "outputPrepend",
     "outputPrepend",
     "outputPrepend",
     "outputPrepend",
     "outputPrepend",
     "outputPrepend",
     "outputPrepend",
     "outputPrepend",
     "outputPrepend",
     "outputPrepend",
     "outputPrepend",
     "outputPrepend",
     "outputPrepend",
     "outputPrepend",
     "outputPrepend",
     "outputPrepend",
     "outputPrepend",
     "outputPrepend",
     "outputPrepend",
     "outputPrepend",
     "outputPrepend",
     "outputPrepend",
     "outputPrepend",
     "outputPrepend",
     "outputPrepend",
     "outputPrepend",
     "outputPrepend",
     "outputPrepend",
     "outputPrepend",
     "outputPrepend",
     "outputPrepend",
     "outputPrepend",
     "outputPrepend",
     "outputPrepend",
     "outputPrepend",
     "outputPrepend",
     "outputPrepend",
     "outputPrepend",
     "outputPrepend",
     "outputPrepend",
     "outputPrepend",
     "outputPrepend",
     "outputPrepend",
     "outputPrepend",
     "outputPrepend",
     "outputPrepend",
     "outputPrepend",
     "outputPrepend",
     "outputPrepend",
     "outputPrepend",
     "outputPrepend",
     "outputPrepend",
     "outputPrepend",
     "outputPrepend",
     "outputPrepend",
     "outputPrepend",
     "outputPrepend",
     "outputPrepend",
     "outputPrepend",
     "outputPrepend",
     "outputPrepend",
     "outputPrepend",
     "outputPrepend",
     "outputPrepend",
     "outputPrepend",
     "outputPrepend",
     "outputPrepend",
     "outputPrepend",
     "outputPrepend",
     "outputPrepend",
     "outputPrepend",
     "outputPrepend",
     "outputPrepend",
     "outputPrepend",
     "outputPrepend",
     "outputPrepend",
     "outputPrepend",
     "outputPrepend",
     "outputPrepend",
     "outputPrepend",
     "outputPrepend",
     "outputPrepend",
     "outputPrepend",
     "outputPrepend",
     "outputPrepend",
     "outputPrepend",
     "outputPrepend",
     "outputPrepend",
     "outputPrepend",
     "outputPrepend",
     "outputPrepend",
     "outputPrepend",
     "outputPrepend",
     "outputPrepend",
     "outputPrepend",
     "outputPrepend",
     "outputPrepend",
     "outputPrepend",
     "outputPrepend",
     "outputPrepend",
     "outputPrepend",
     "outputPrepend",
     "outputPrepend",
     "outputPrepend",
     "outputPrepend",
     "outputPrepend",
     "outputPrepend",
     "outputPrepend",
     "outputPrepend",
     "outputPrepend",
     "outputPrepend",
     "outputPrepend",
     "outputPrepend",
     "outputPrepend",
     "outputPrepend",
     "outputPrepend",
     "outputPrepend",
     "outputPrepend",
     "outputPrepend",
     "outputPrepend",
     "outputPrepend",
     "outputPrepend",
     "outputPrepend",
     "outputPrepend",
     "outputPrepend",
     "outputPrepend",
     "outputPrepend",
     "outputPrepend",
     "outputPrepend",
     "outputPrepend"
    ]
   },
   "outputs": [],
   "source": [
    "todasPalavras = ' '.join([text for text in tweets['tweet_text']])"
   ]
  },
  {
   "cell_type": "code",
   "execution_count": 16,
   "metadata": {},
   "outputs": [],
   "source": [
    "tokenizer = nltk.tokenize.WordPunctTokenizer()"
   ]
  },
  {
   "cell_type": "code",
   "execution_count": 17,
   "metadata": {},
   "outputs": [
    {
     "output_type": "execute_result",
     "data": {
      "text/plain": "['esquerda',\n 'e',\n 'direita',\n 'empatam',\n 'na',\n 'suecia',\n 'ultranacionalistas',\n 'avancam',\n 'ao',\n 'vivo',\n 'estadao',\n 'e',\n 'tv',\n 'gazeta',\n 'realizam',\n 'terceiro',\n 'debate',\n 'presidencial',\n 'fotos',\n 'apoiadores',\n 'de',\n 'jair',\n 'bolsonaro',\n 'realizam',\n 'atos',\n 'pelo',\n 'pais',\n 'barroso',\n 'ameaca',\n 'barrar',\n 'propaganda',\n 'se',\n 'pt',\n 'insistir',\n 'em',\n 'mostrar',\n 'lula',\n 'candidato',\n 'serena',\n 'williams',\n 'e',\n 'multada',\n 'pelo',\n 'comportamento',\n 'durante',\n 'final',\n 'do',\n 'us',\n 'open',\n 'apoiadores',\n 'de',\n 'jair',\n 'bolsonaro',\n 'realizam',\n 'atos',\n 'em',\n 'tres',\n 'cidades',\n 'villas',\n 'boas',\n 'legitimidade',\n 'de',\n 'novo',\n 'governo',\n 'pode',\n 'ate',\n 'ser',\n 'questionada',\n 'policia',\n 'australiana',\n 'encontra',\n 'cinco',\n 'corpos',\n 'em',\n 'casa',\n 'de',\n 'perth',\n 'megasena',\n 'acumula',\n 'e',\n 'pagara',\n 'r',\n 'milhoes',\n 'jair',\n 'bolsonaro',\n 'tem',\n 'nitida',\n 'melhora',\n 'clinica',\n 'diz',\n 'novo',\n 'boletim',\n 'de',\n 'hospital',\n 'suecia',\n 'vai',\n 'as',\n 'urnas',\n 'em',\n 'meio',\n 'ao',\n 'avanco',\n 'da',\n 'extremadireita',\n 'defesa',\n 'de',\n 'lula',\n 'pede',\n 'a',\n 'rosa',\n 'weber',\n 'mais',\n 'tempo',\n 'para',\n 'substituir',\n 'candidato',\n 'brasileirao',\n 'flamengo',\n 'despacha',\n 'chapecoense',\n 'e',\n 'sobe',\n 'na',\n 'tabela',\n 'bolsonaro',\n 'passou',\n 'meia',\n 'hora',\n 'sentado',\n 'e',\n 'andou',\n 'por',\n 'cinco',\n 'minutos',\n 'policia',\n 'federal',\n 'anuncia',\n 'mais',\n 'seguranca',\n 'para',\n 'os',\n 'presidenciaveis',\n 'familia',\n 'de',\n 'jair',\n 'bolsonaro',\n 'quer',\n 'que',\n 'pf',\n 'escolte',\n 'mulher',\n 'do',\n 'presidenciavel',\n 'espanha',\n 'vence',\n 'inglaterra',\n 'de',\n 'virada',\n 'pela',\n 'liga',\n 'das',\n 'nacoes',\n 'brasileirao',\n 'magrao',\n 'defende',\n 'penalti',\n 'e',\n 'evita',\n 'derrota',\n 'do',\n 'cruzeiro',\n 'para',\n 'o',\n 'sport',\n 'adversaria',\n 'do',\n 'brasil',\n 'na',\n 'copa',\n 'suica',\n 'goleia',\n 'islandia',\n 'na',\n 'liga',\n 'das',\n 'nacoes',\n 'como',\n 'o',\n 'brasil',\n 'perdeu',\n 'um',\n 'imenso',\n 'e',\n 'valioso',\n 'acervo',\n 'do',\n 'museu',\n 'nacional',\n 'do',\n 'rio',\n 'por',\n 'pura',\n 'negligencia',\n 'eua',\n 'discutiram',\n 'golpe',\n 'de',\n 'estado',\n 'com',\n 'militares',\n 'da',\n 'venezuela',\n 'diz',\n 'nyt',\n 'chega',\n 'ao',\n 'fim',\n 'o',\n 'casamento',\n 'da',\n 'cantora',\n 'anitta',\n 'autor',\n 'do',\n 'ataque',\n 'contra',\n 'bolsonaro',\n 'chega',\n 'a',\n 'campo',\n 'grande',\n 'confrontos',\n 'entre',\n 'curdos',\n 'e',\n 'forcas',\n 'do',\n 'regime',\n 'sirio',\n 'deixam',\n 'mortos',\n 'aliado',\n 'de',\n 'bolsonaro',\n 'defende',\n 'usar',\n 'imagens',\n 'de',\n 'atentado',\n 'na',\n 'campanha',\n 'pesquisa',\n 'indica',\n 'que',\n 'dos',\n 'cariocas',\n 'querem',\n 'prorrogar',\n 'intervencao',\n 'no',\n 'rj',\n 'homem',\n 'armado',\n 'com',\n 'faca',\n 'deixa',\n 'feridos',\n 'em',\n 'ataque',\n 'em',\n 'paris',\n 'irmao',\n 'da',\n 'exginasta',\n 'lais',\n 'souza',\n 'morre',\n 'durante',\n 'pesca',\n 'em',\n 'miguelopolis',\n 'paulo',\n 'guedes',\n 'visita',\n 'hospital',\n 'em',\n 'que',\n 'bolsonaro',\n 'esta',\n 'internado',\n 'filho',\n 'publica',\n 'foto',\n 'de',\n 'bolsonaro',\n 'sentado',\n 'e',\n 'fazendo',\n 'gesto',\n 'que',\n 'imita',\n 'armas',\n 'finalista',\n 'do',\n 'us',\n 'open',\n 'djokovic',\n 'garante',\n 'lugar',\n 'no',\n 'atp',\n 'finals',\n 'chega',\n 'a',\n 'numero',\n 'de',\n 'mortos',\n 'por',\n 'terremoto',\n 'no',\n 'japao',\n 'campanha',\n 'petista',\n 'nao',\n 'mudara',\n 'de',\n 'estrategia',\n 'apos',\n 'atentado',\n 'diz',\n 'haddad',\n 'bolsonaro',\n 'mantem',\n 'boas',\n 'condicoes',\n 'clinicas',\n 'e',\n 'nao',\n 'tem',\n 'sinais',\n 'de',\n 'infeccao',\n 'restaurante',\n 'judeu',\n 'foi',\n 'atacado',\n 'na',\n 'alemanha',\n 'durante',\n 'confrontos',\n 'em',\n 'chemnitz',\n 'agressor',\n 'de',\n 'bolsonaro',\n 'alugou',\n 'quarto',\n 'duas',\n 'semanas',\n 'antes',\n 'de',\n 'ataque',\n 'novo',\n 'documentario',\n 'de',\n 'michael',\n 'moore',\n 'compara',\n 'trump',\n 'a',\n 'hitler',\n 'agressor',\n 'de',\n 'bolsonaro',\n 'e',\n 'transferido',\n 'pela',\n 'pf',\n 'para',\n 'presidio',\n 'federal',\n 'mumias',\n 'destruidas',\n 'no',\n 'museu',\n 'foram',\n 'mal',\n 'recebidas',\n 'pelos',\n 'cariocas',\n 'como',\n 'o',\n 'pt',\n 'pretende',\n 'transformar',\n 'haddad',\n 'em',\n 'lula',\n 'neymar',\n 'marca',\n 'de',\n 'penalti',\n 'e',\n 'brasil',\n 'inicia',\n 'novo',\n 'ciclo',\n 'batendo',\n 'fregueses',\n 'justica',\n 'ouvira',\n 'delegados',\n 'da',\n 'lava',\n 'jato',\n 'em',\n 'acao',\n 'movida',\n 'por',\n 'marisa',\n 'leticia',\n 'steven',\n 'seagal',\n 'e',\n 'nomeado',\n 'enviado',\n 'especial',\n 'da',\n 'russia',\n 'nos',\n 'eua',\n 'brasileiro',\n 'e',\n 'venezuelano',\n 'morrem',\n 'apos',\n 'suspeita',\n 'de',\n 'furto',\n 'em',\n 'roraima',\n 'morte',\n 'passou',\n 'a',\n 'dois',\n 'milimetros',\n 'de',\n 'mim',\n 'diz',\n 'jair',\n 'bolsonaro',\n 'exassessor',\n 'de',\n 'trump',\n 'e',\n 'condenado',\n 'a',\n 'dias',\n 'de',\n 'prisao',\n 'por',\n 'mentir',\n 'ao',\n 'fbi',\n 'rapper',\n 'mac',\n 'miller',\n 'e',\n 'encontrado',\n 'morto',\n 'aos',\n 'anos',\n 'extecnica',\n 'da',\n 'selecao',\n 'de',\n 'ginastica',\n 'dos',\n 'eua',\n 'e',\n 'processada',\n 'por',\n 'abusos',\n 'homem',\n 'que',\n 'esfaqueou',\n 'bolsonaro',\n 'sera',\n 'transferido',\n 'a',\n 'presidio',\n 'federal',\n 'obama',\n 'diz',\n 'que',\n 'trump',\n 'usa',\n 'medo',\n 'e',\n 'raiva',\n 'para',\n 'se',\n 'promover',\n 'israel',\n 'fechara',\n 'cisjordania',\n 'e',\n 'gaza',\n 'por',\n 'dias',\n 'por',\n 'conta',\n 'do',\n 'ano',\n 'novo',\n 'judaico',\n 'lula',\n 'nas',\n 'capas',\n 'de',\n 'veja',\n 'de',\n 'sindicalista',\n 'a',\n 'encarcerado',\n 'morre',\n 'mc',\n 'naldinho',\n 'do',\n 'funk',\n 'um',\n 'tapinha',\n 'nao',\n 'doi',\n 'defesa',\n 'de',\n 'lula',\n 'pede',\n 'para',\n 'segunda',\n 'turma',\n 'julgar',\n 'recurso',\n 'por',\n 'candidatura',\n 'tesla',\n 'sofre',\n 'novo',\n 'abalo',\n 'com',\n 'video',\n 'de',\n 'musk',\n 'fumando',\n 'maconha',\n 'onu',\n 'condena',\n 'ataque',\n 'contra',\n 'jair',\n 'bolsonaro',\n 'selecao',\n 'brasileira',\n 'visita',\n 'os',\n 'estados',\n 'unidos',\n 'no',\n 'primeiro',\n 'jogo',\n 'poscopa',\n 'saiba',\n 'tudo',\n 'sobre',\n 'o',\n 'atentado',\n 'ao',\n 'candidato',\n 'jair',\n 'bolsonaro',\n 'em',\n 'minutos',\n 'veja',\n 'em',\n 'filho',\n 'de',\n 'temer',\n 'faz',\n 'gesto',\n 'imitando',\n 'arma',\n 'durante',\n 'desfile',\n 'de',\n 'de',\n 'setembro',\n 'trump',\n 'chama',\n 'livro',\n 'do',\n 'jornalista',\n 'bob',\n 'woodward',\n 'de',\n 'fraude',\n 'varejo',\n 'online',\n 'fecha',\n 'parcerias',\n 'para',\n 'desatar',\n 'no',\n 'do',\n 'atraso',\n 'nas',\n 'entregas',\n 'pm',\n 'diz',\n 'que',\n 'ataque',\n 'a',\n 'bolsonaro',\n 'foi',\n 'premeditado',\n 'e',\n 'pf',\n 'vai',\n 'investigar',\n 'bolsonaro',\n 'sera',\n 'transferido',\n 'para',\n 'sao',\n 'paulo',\n 'nesta',\n 'sexta',\n 'diz',\n 'filho',\n 'russiagate',\n 'todos',\n 'os',\n 'homens',\n 'do',\n 'presidente',\n 'trump',\n 'democracia',\n 'ferida',\n 'em',\n 'video',\n 'apos',\n 'facada',\n 'bolsonaro',\n 'diz',\n 'que',\n 'nunca',\n 'fez',\n 'mal',\n 'a',\n 'ninguem',\n 'atentado',\n 'deixa',\n 'incerteza',\n 'sobre',\n 'retorno',\n 'de',\n 'bolsonaro',\n 'a',\n 'campanha',\n 'de',\n 'rua',\n 'eleicoes',\n 'todas',\n 'as',\n 'pesquisas',\n 'para',\n 'presidente',\n 'e',\n 'governador',\n 'eleicoes',\n 'todas',\n 'as',\n 'pesquisas',\n 'para',\n 'governador',\n 'do',\n 'acre',\n 'eleicoes',\n 'todas',\n 'as',\n 'pesquisas',\n 'para',\n 'governador',\n 'de',\n 'alagoas',\n 'eleicoes',\n 'todas',\n 'as',\n 'pesquisas',\n 'para',\n 'governador',\n 'do',\n 'amapa',\n 'eleicoes',\n 'todas',\n 'as',\n 'pesquisas',\n 'para',\n 'governador',\n 'de',\n 'minas',\n 'gerais',\n 'eleicoes',\n 'todas',\n 'as',\n 'pesquisas',\n 'para',\n 'governador',\n 'de',\n 'roraima',\n 'eduardo',\n 'paes',\n 'se',\n 'isola',\n 'na',\n 'lideranca',\n 'pelo',\n 'governo',\n 'do',\n 'rj',\n 'aponta',\n 'datafolha',\n 'homem',\n 'que',\n 'esfaqueou',\n 'bolsonaro',\n 'foi',\n 'filiado',\n 'ao',\n 'psol',\n 'correios',\n 'abre',\n 'refis',\n 'e',\n 'permite',\n 'parcelamento',\n 'de',\n 'debito',\n 'com',\n 'desconto',\n 'pt',\n 'e',\n 'dilma',\n 'escolheram',\n 'temer',\n 'e',\n 'ele',\n 'esta',\n 'de',\n 'mal',\n 'comigo',\n 'diz',\n 'alckmin',\n 'corinthians',\n 'anuncia',\n 'contratacao',\n 'de',\n 'jair',\n 'ventura',\n 'temer',\n 'lembra',\n 'apoio',\n 'do',\n 'psdb',\n 'ao',\n 'governo',\n 'e',\n 'faz',\n 'novo',\n 'video',\n 'criticando',\n 'alckmin',\n 'magazine',\n 'luiza',\n 'prepara',\n 'nova',\n 'promocao',\n 'as',\n 'escuras',\n 'no',\n 'stories',\n 'fachin',\n 'nega',\n 'recurso',\n 'de',\n 'lula',\n 'por',\n 'candidatura',\n 'companhia',\n 'aerea',\n 'de',\n 'baixo',\n 'custo',\n 'quer',\n 'operar',\n 'voos',\n 'entre',\n 'brasil',\n 'e',\n 'chile',\n 'o',\n 'atacante',\n 'cristaldo',\n 'sofreu',\n 'com',\n 'depressao',\n 'pensei',\n 'em',\n 'me',\n 'matar',\n 'ana',\n 'furtado',\n 'comemora',\n 'ultima',\n 'sessao',\n 'de',\n 'quimioterapia',\n 'vitoria',\n 'andreas',\n 'paqueta',\n 'e',\n 'richarlison',\n 'passam',\n 'por',\n 'trote',\n 'na',\n 'selecao',\n 'reino',\n 'unido',\n 'indicia',\n 'russos',\n 'por',\n 'caso',\n 'de',\n 'envenenamento',\n 'de',\n 'exespiao',\n 'fotos',\n 'tv',\n 'gazeta',\n 'realiza',\n 'terceiro',\n 'debate',\n 'entre',\n 'presidenciaveis',\n 'eleicoes',\n 'todas',\n 'as',\n 'pesquisas',\n 'para',\n 'governador',\n 'de',\n 'mato',\n 'grosso',\n 'do',\n 'sul',\n 'eleicoes',\n 'todas',\n 'as',\n 'pesquisas',\n 'para',\n 'governador',\n 'de',\n 'rondonia',\n 'datafolha',\n 'camara',\n 'psb',\n 'sobe',\n 'para',\n 'em',\n 'pe',\n 'monteiro',\n 'ptb',\n 'tem',\n 'probioticos',\n 'podem',\n 'nao',\n 'ser',\n 'tao',\n 'eficazes',\n 'quanto',\n 'os',\n 'cientistas',\n 'acreditavam',\n 'trump',\n 'prepara',\n 'demissao',\n 'do',\n 'general',\n 'mattis',\n 'do',\n 'pentagono',\n 'fifa',\n 'cristiano',\n 'neymar',\n 'e',\n 'outros',\n 'craques',\n 'protestam',\n 'contra',\n 'nota',\n 'do',\n 'game',\n 'classicos',\n 'ausentes',\n 'em',\n 'poderao',\n 'retornar',\n 'a',\n 'serie',\n 'a',\n 'nos',\n 'proximos',\n 'anos',\n 'segundo',\n 'sol',\n 'da',\n 'inicio',\n 'ao',\n 'misterio',\n 'quem',\n 'matou',\n 'remy',\n 'samuel',\n 'l',\n 'jackson',\n 'rejuvenesce',\n 'para',\n 'capita',\n 'marvel',\n 'veja',\n 'fotos',\n 'do',\n 'filme',\n 'celso',\n 'de',\n 'mello',\n 'e',\n 'o',\n 'relator',\n 'de',\n 'terceiro',\n 'recurso',\n 'de',\n 'lula',\n 'por',\n 'candidatura',\n 'leia',\n 'mais',\n 'trump',\n 'sugere',\n 'mudanca',\n 'na',\n 'lei',\n 'de',\n 'difamacao',\n 'apos',\n 'livro',\n 'explosivo',\n 'golpe',\n 'do',\n 'mcdonalds',\n 'promete',\n 'dois',\n 'combos',\n 'de',\n 'graca',\n 'mp',\n 'acusa',\n 'alckmin',\n 'de',\n 'improbidade',\n 'e',\n 'pede',\n 'suspensao',\n 'de',\n 'direitos',\n 'politicos',\n 'chega',\n 'a',\n 'sao',\n 'paulo',\n 'escola',\n 'popular',\n 'a',\n 'partir',\n 'de',\n 'r',\n 'ao',\n 'mes',\n 'com',\n ...]"
     },
     "metadata": {},
     "execution_count": 17
    }
   ],
   "source": [
    "tokensPalavras = tokenizer.tokenize(todasPalavras)\n",
    "\n",
    "tokensPalavras"
   ]
  },
  {
   "cell_type": "code",
   "execution_count": 18,
   "metadata": {},
   "outputs": [],
   "source": [
    "# Removendo StopWord do nosso texto\n",
    "todasPalavrasFiltradas = [palavra for palavra in tokensPalavras if palavra not in stopWords and len(palavra) > 4]"
   ]
  },
  {
   "cell_type": "code",
   "execution_count": 19,
   "metadata": {},
   "outputs": [],
   "source": [
    "frequenciaPalavras = nltk.FreqDist(todasPalavrasFiltradas)"
   ]
  },
  {
   "cell_type": "code",
   "execution_count": 20,
   "metadata": {},
   "outputs": [],
   "source": [
    "df_frequencia_palavras = pd.DataFrame({\n",
    "    'palavra': list(frequenciaPalavras.keys()),\n",
    "    'frequencia': list(frequenciaPalavras.values())\n",
    "})\n",
    ""
   ]
  },
  {
   "cell_type": "code",
   "execution_count": 21,
   "metadata": {},
   "outputs": [],
   "source": [
    "maisFrequentes = df_frequencia_palavras.nlargest(columns='frequencia', n=10)"
   ]
  },
  {
   "cell_type": "code",
   "execution_count": 22,
   "metadata": {},
   "outputs": [
    {
     "output_type": "display_data",
     "data": {
      "text/plain": "<Figure size 864x576 with 1 Axes>",
      "image/svg+xml": "<?xml version=\"1.0\" encoding=\"utf-8\" standalone=\"no\"?>\r\n<!DOCTYPE svg PUBLIC \"-//W3C//DTD SVG 1.1//EN\"\r\n  \"http://www.w3.org/Graphics/SVG/1.1/DTD/svg11.dtd\">\r\n<!-- Created with matplotlib (https://matplotlib.org/) -->\r\n<svg height=\"479.63625pt\" version=\"1.1\" viewBox=\"0 0 736.490625 479.63625\" width=\"736.490625pt\" xmlns=\"http://www.w3.org/2000/svg\" xmlns:xlink=\"http://www.w3.org/1999/xlink\">\r\n <defs>\r\n  <style type=\"text/css\">\r\n*{stroke-linecap:butt;stroke-linejoin:round;}\r\n  </style>\r\n </defs>\r\n <g id=\"figure_1\">\r\n  <g id=\"patch_1\">\r\n   <path d=\"M 0 479.63625 \r\nL 736.490625 479.63625 \r\nL 736.490625 0 \r\nL 0 0 \r\nz\r\n\" style=\"fill:none;\"/>\r\n  </g>\r\n  <g id=\"axes_1\">\r\n   <g id=\"patch_2\">\r\n    <path d=\"M 59.690625 442.08 \r\nL 729.290625 442.08 \r\nL 729.290625 7.2 \r\nL 59.690625 7.2 \r\nz\r\n\" style=\"fill:#ffffff;\"/>\r\n   </g>\r\n   <g id=\"patch_3\">\r\n    <path clip-path=\"url(#pbb3e46549a)\" d=\"M 66.386625 442.08 \r\nL 119.954625 442.08 \r\nL 119.954625 27.908571 \r\nL 66.386625 27.908571 \r\nz\r\n\" style=\"fill:#3274a1;\"/>\r\n   </g>\r\n   <g id=\"patch_4\">\r\n    <path clip-path=\"url(#pbb3e46549a)\" d=\"M 133.346625 442.08 \r\nL 186.914625 442.08 \r\nL 186.914625 203.874705 \r\nL 133.346625 203.874705 \r\nz\r\n\" style=\"fill:#e1812c;\"/>\r\n   </g>\r\n   <g id=\"patch_5\">\r\n    <path clip-path=\"url(#pbb3e46549a)\" d=\"M 200.306625 442.08 \r\nL 253.874625 442.08 \r\nL 253.874625 267.754495 \r\nL 200.306625 267.754495 \r\nz\r\n\" style=\"fill:#3a923a;\"/>\r\n   </g>\r\n   <g id=\"patch_6\">\r\n    <path clip-path=\"url(#pbb3e46549a)\" d=\"M 267.266625 442.08 \r\nL 320.834625 442.08 \r\nL 320.834625 278.505848 \r\nL 267.266625 278.505848 \r\nz\r\n\" style=\"fill:#c03d3e;\"/>\r\n   </g>\r\n   <g id=\"patch_7\">\r\n    <path clip-path=\"url(#pbb3e46549a)\" d=\"M 334.226625 442.08 \r\nL 387.794625 442.08 \r\nL 387.794625 280.181383 \r\nL 334.226625 280.181383 \r\nz\r\n\" style=\"fill:#9372b2;\"/>\r\n   </g>\r\n   <g id=\"patch_8\">\r\n    <path clip-path=\"url(#pbb3e46549a)\" d=\"M 401.186625 442.08 \r\nL 454.754625 442.08 \r\nL 454.754625 285.90613 \r\nL 401.186625 285.90613 \r\nz\r\n\" style=\"fill:#845b53;\"/>\r\n   </g>\r\n   <g id=\"patch_9\">\r\n    <path clip-path=\"url(#pbb3e46549a)\" d=\"M 468.146625 442.08 \r\nL 521.714625 442.08 \r\nL 521.714625 299.031158 \r\nL 468.146625 299.031158 \r\nz\r\n\" style=\"fill:#d684bd;\"/>\r\n   </g>\r\n   <g id=\"patch_10\">\r\n    <path clip-path=\"url(#pbb3e46549a)\" d=\"M 535.106625 442.08 \r\nL 588.674625 442.08 \r\nL 588.674625 315.297815 \r\nL 535.106625 315.297815 \r\nz\r\n\" style=\"fill:#7f7f7f;\"/>\r\n   </g>\r\n   <g id=\"patch_11\">\r\n    <path clip-path=\"url(#pbb3e46549a)\" d=\"M 602.066625 442.08 \r\nL 655.634625 442.08 \r\nL 655.634625 316.589373 \r\nL 602.066625 316.589373 \r\nz\r\n\" style=\"fill:#a9aa35;\"/>\r\n   </g>\r\n   <g id=\"patch_12\">\r\n    <path clip-path=\"url(#pbb3e46549a)\" d=\"M 669.026625 442.08 \r\nL 722.594625 442.08 \r\nL 722.594625 329.26061 \r\nL 669.026625 329.26061 \r\nz\r\n\" style=\"fill:#2eabb8;\"/>\r\n   </g>\r\n   <g id=\"matplotlib.axis_1\">\r\n    <g id=\"xtick_1\">\r\n     <g id=\"line2d_1\">\r\n      <defs>\r\n       <path d=\"M 0 0 \r\nL 0 3.5 \r\n\" id=\"m0620856c3a\" style=\"stroke:#000000;stroke-width:0.8;\"/>\r\n      </defs>\r\n      <g>\r\n       <use style=\"stroke:#000000;stroke-width:0.8;\" x=\"93.170625\" xlink:href=\"#m0620856c3a\" y=\"442.08\"/>\r\n      </g>\r\n     </g>\r\n     <g id=\"text_1\">\r\n      <!-- bolsonaro -->\r\n      <defs>\r\n       <path d=\"M 48.6875 27.296875 \r\nQ 48.6875 37.203125 44.609375 42.84375 \r\nQ 40.53125 48.484375 33.40625 48.484375 \r\nQ 26.265625 48.484375 22.1875 42.84375 \r\nQ 18.109375 37.203125 18.109375 27.296875 \r\nQ 18.109375 17.390625 22.1875 11.75 \r\nQ 26.265625 6.109375 33.40625 6.109375 \r\nQ 40.53125 6.109375 44.609375 11.75 \r\nQ 48.6875 17.390625 48.6875 27.296875 \r\nz\r\nM 18.109375 46.390625 \r\nQ 20.953125 51.265625 25.265625 53.625 \r\nQ 29.59375 56 35.59375 56 \r\nQ 45.5625 56 51.78125 48.09375 \r\nQ 58.015625 40.1875 58.015625 27.296875 \r\nQ 58.015625 14.40625 51.78125 6.484375 \r\nQ 45.5625 -1.421875 35.59375 -1.421875 \r\nQ 29.59375 -1.421875 25.265625 0.953125 \r\nQ 20.953125 3.328125 18.109375 8.203125 \r\nL 18.109375 0 \r\nL 9.078125 0 \r\nL 9.078125 75.984375 \r\nL 18.109375 75.984375 \r\nz\r\n\" id=\"DejaVuSans-98\"/>\r\n       <path d=\"M 30.609375 48.390625 \r\nQ 23.390625 48.390625 19.1875 42.75 \r\nQ 14.984375 37.109375 14.984375 27.296875 \r\nQ 14.984375 17.484375 19.15625 11.84375 \r\nQ 23.34375 6.203125 30.609375 6.203125 \r\nQ 37.796875 6.203125 41.984375 11.859375 \r\nQ 46.1875 17.53125 46.1875 27.296875 \r\nQ 46.1875 37.015625 41.984375 42.703125 \r\nQ 37.796875 48.390625 30.609375 48.390625 \r\nz\r\nM 30.609375 56 \r\nQ 42.328125 56 49.015625 48.375 \r\nQ 55.71875 40.765625 55.71875 27.296875 \r\nQ 55.71875 13.875 49.015625 6.21875 \r\nQ 42.328125 -1.421875 30.609375 -1.421875 \r\nQ 18.84375 -1.421875 12.171875 6.21875 \r\nQ 5.515625 13.875 5.515625 27.296875 \r\nQ 5.515625 40.765625 12.171875 48.375 \r\nQ 18.84375 56 30.609375 56 \r\nz\r\n\" id=\"DejaVuSans-111\"/>\r\n       <path d=\"M 9.421875 75.984375 \r\nL 18.40625 75.984375 \r\nL 18.40625 0 \r\nL 9.421875 0 \r\nz\r\n\" id=\"DejaVuSans-108\"/>\r\n       <path d=\"M 44.28125 53.078125 \r\nL 44.28125 44.578125 \r\nQ 40.484375 46.53125 36.375 47.5 \r\nQ 32.28125 48.484375 27.875 48.484375 \r\nQ 21.1875 48.484375 17.84375 46.4375 \r\nQ 14.5 44.390625 14.5 40.28125 \r\nQ 14.5 37.15625 16.890625 35.375 \r\nQ 19.28125 33.59375 26.515625 31.984375 \r\nL 29.59375 31.296875 \r\nQ 39.15625 29.25 43.1875 25.515625 \r\nQ 47.21875 21.78125 47.21875 15.09375 \r\nQ 47.21875 7.46875 41.1875 3.015625 \r\nQ 35.15625 -1.421875 24.609375 -1.421875 \r\nQ 20.21875 -1.421875 15.453125 -0.5625 \r\nQ 10.6875 0.296875 5.421875 2 \r\nL 5.421875 11.28125 \r\nQ 10.40625 8.6875 15.234375 7.390625 \r\nQ 20.0625 6.109375 24.8125 6.109375 \r\nQ 31.15625 6.109375 34.5625 8.28125 \r\nQ 37.984375 10.453125 37.984375 14.40625 \r\nQ 37.984375 18.0625 35.515625 20.015625 \r\nQ 33.0625 21.96875 24.703125 23.78125 \r\nL 21.578125 24.515625 \r\nQ 13.234375 26.265625 9.515625 29.90625 \r\nQ 5.8125 33.546875 5.8125 39.890625 \r\nQ 5.8125 47.609375 11.28125 51.796875 \r\nQ 16.75 56 26.8125 56 \r\nQ 31.78125 56 36.171875 55.265625 \r\nQ 40.578125 54.546875 44.28125 53.078125 \r\nz\r\n\" id=\"DejaVuSans-115\"/>\r\n       <path d=\"M 54.890625 33.015625 \r\nL 54.890625 0 \r\nL 45.90625 0 \r\nL 45.90625 32.71875 \r\nQ 45.90625 40.484375 42.875 44.328125 \r\nQ 39.84375 48.1875 33.796875 48.1875 \r\nQ 26.515625 48.1875 22.3125 43.546875 \r\nQ 18.109375 38.921875 18.109375 30.90625 \r\nL 18.109375 0 \r\nL 9.078125 0 \r\nL 9.078125 54.6875 \r\nL 18.109375 54.6875 \r\nL 18.109375 46.1875 \r\nQ 21.34375 51.125 25.703125 53.5625 \r\nQ 30.078125 56 35.796875 56 \r\nQ 45.21875 56 50.046875 50.171875 \r\nQ 54.890625 44.34375 54.890625 33.015625 \r\nz\r\n\" id=\"DejaVuSans-110\"/>\r\n       <path d=\"M 34.28125 27.484375 \r\nQ 23.390625 27.484375 19.1875 25 \r\nQ 14.984375 22.515625 14.984375 16.5 \r\nQ 14.984375 11.71875 18.140625 8.90625 \r\nQ 21.296875 6.109375 26.703125 6.109375 \r\nQ 34.1875 6.109375 38.703125 11.40625 \r\nQ 43.21875 16.703125 43.21875 25.484375 \r\nL 43.21875 27.484375 \r\nz\r\nM 52.203125 31.203125 \r\nL 52.203125 0 \r\nL 43.21875 0 \r\nL 43.21875 8.296875 \r\nQ 40.140625 3.328125 35.546875 0.953125 \r\nQ 30.953125 -1.421875 24.3125 -1.421875 \r\nQ 15.921875 -1.421875 10.953125 3.296875 \r\nQ 6 8.015625 6 15.921875 \r\nQ 6 25.140625 12.171875 29.828125 \r\nQ 18.359375 34.515625 30.609375 34.515625 \r\nL 43.21875 34.515625 \r\nL 43.21875 35.40625 \r\nQ 43.21875 41.609375 39.140625 45 \r\nQ 35.0625 48.390625 27.6875 48.390625 \r\nQ 23 48.390625 18.546875 47.265625 \r\nQ 14.109375 46.140625 10.015625 43.890625 \r\nL 10.015625 52.203125 \r\nQ 14.9375 54.109375 19.578125 55.046875 \r\nQ 24.21875 56 28.609375 56 \r\nQ 40.484375 56 46.34375 49.84375 \r\nQ 52.203125 43.703125 52.203125 31.203125 \r\nz\r\n\" id=\"DejaVuSans-97\"/>\r\n       <path d=\"M 41.109375 46.296875 \r\nQ 39.59375 47.171875 37.8125 47.578125 \r\nQ 36.03125 48 33.890625 48 \r\nQ 26.265625 48 22.1875 43.046875 \r\nQ 18.109375 38.09375 18.109375 28.8125 \r\nL 18.109375 0 \r\nL 9.078125 0 \r\nL 9.078125 54.6875 \r\nL 18.109375 54.6875 \r\nL 18.109375 46.1875 \r\nQ 20.953125 51.171875 25.484375 53.578125 \r\nQ 30.03125 56 36.53125 56 \r\nQ 37.453125 56 38.578125 55.875 \r\nQ 39.703125 55.765625 41.0625 55.515625 \r\nz\r\n\" id=\"DejaVuSans-114\"/>\r\n      </defs>\r\n      <g transform=\"translate(68.64875 456.678437)scale(0.1 -0.1)\">\r\n       <use xlink:href=\"#DejaVuSans-98\"/>\r\n       <use x=\"63.476562\" xlink:href=\"#DejaVuSans-111\"/>\r\n       <use x=\"124.658203\" xlink:href=\"#DejaVuSans-108\"/>\r\n       <use x=\"152.441406\" xlink:href=\"#DejaVuSans-115\"/>\r\n       <use x=\"204.541016\" xlink:href=\"#DejaVuSans-111\"/>\r\n       <use x=\"265.722656\" xlink:href=\"#DejaVuSans-110\"/>\r\n       <use x=\"329.101562\" xlink:href=\"#DejaVuSans-97\"/>\r\n       <use x=\"390.380859\" xlink:href=\"#DejaVuSans-114\"/>\r\n       <use x=\"429.244141\" xlink:href=\"#DejaVuSans-111\"/>\r\n      </g>\r\n     </g>\r\n    </g>\r\n    <g id=\"xtick_2\">\r\n     <g id=\"line2d_2\">\r\n      <g>\r\n       <use style=\"stroke:#000000;stroke-width:0.8;\" x=\"160.130625\" xlink:href=\"#m0620856c3a\" y=\"442.08\"/>\r\n      </g>\r\n     </g>\r\n     <g id=\"text_2\">\r\n      <!-- haddad -->\r\n      <defs>\r\n       <path d=\"M 54.890625 33.015625 \r\nL 54.890625 0 \r\nL 45.90625 0 \r\nL 45.90625 32.71875 \r\nQ 45.90625 40.484375 42.875 44.328125 \r\nQ 39.84375 48.1875 33.796875 48.1875 \r\nQ 26.515625 48.1875 22.3125 43.546875 \r\nQ 18.109375 38.921875 18.109375 30.90625 \r\nL 18.109375 0 \r\nL 9.078125 0 \r\nL 9.078125 75.984375 \r\nL 18.109375 75.984375 \r\nL 18.109375 46.1875 \r\nQ 21.34375 51.125 25.703125 53.5625 \r\nQ 30.078125 56 35.796875 56 \r\nQ 45.21875 56 50.046875 50.171875 \r\nQ 54.890625 44.34375 54.890625 33.015625 \r\nz\r\n\" id=\"DejaVuSans-104\"/>\r\n       <path d=\"M 45.40625 46.390625 \r\nL 45.40625 75.984375 \r\nL 54.390625 75.984375 \r\nL 54.390625 0 \r\nL 45.40625 0 \r\nL 45.40625 8.203125 \r\nQ 42.578125 3.328125 38.25 0.953125 \r\nQ 33.9375 -1.421875 27.875 -1.421875 \r\nQ 17.96875 -1.421875 11.734375 6.484375 \r\nQ 5.515625 14.40625 5.515625 27.296875 \r\nQ 5.515625 40.1875 11.734375 48.09375 \r\nQ 17.96875 56 27.875 56 \r\nQ 33.9375 56 38.25 53.625 \r\nQ 42.578125 51.265625 45.40625 46.390625 \r\nz\r\nM 14.796875 27.296875 \r\nQ 14.796875 17.390625 18.875 11.75 \r\nQ 22.953125 6.109375 30.078125 6.109375 \r\nQ 37.203125 6.109375 41.296875 11.75 \r\nQ 45.40625 17.390625 45.40625 27.296875 \r\nQ 45.40625 37.203125 41.296875 42.84375 \r\nQ 37.203125 48.484375 30.078125 48.484375 \r\nQ 22.953125 48.484375 18.875 42.84375 \r\nQ 14.796875 37.203125 14.796875 27.296875 \r\nz\r\n\" id=\"DejaVuSans-100\"/>\r\n      </defs>\r\n      <g transform=\"translate(141.311094 456.678437)scale(0.1 -0.1)\">\r\n       <use xlink:href=\"#DejaVuSans-104\"/>\r\n       <use x=\"63.378906\" xlink:href=\"#DejaVuSans-97\"/>\r\n       <use x=\"124.658203\" xlink:href=\"#DejaVuSans-100\"/>\r\n       <use x=\"188.134766\" xlink:href=\"#DejaVuSans-100\"/>\r\n       <use x=\"251.611328\" xlink:href=\"#DejaVuSans-97\"/>\r\n       <use x=\"312.890625\" xlink:href=\"#DejaVuSans-100\"/>\r\n      </g>\r\n     </g>\r\n    </g>\r\n    <g id=\"xtick_3\">\r\n     <g id=\"line2d_3\">\r\n      <g>\r\n       <use style=\"stroke:#000000;stroke-width:0.8;\" x=\"227.090625\" xlink:href=\"#m0620856c3a\" y=\"442.08\"/>\r\n      </g>\r\n     </g>\r\n     <g id=\"text_3\">\r\n      <!-- votar -->\r\n      <defs>\r\n       <path d=\"M 2.984375 54.6875 \r\nL 12.5 54.6875 \r\nL 29.59375 8.796875 \r\nL 46.6875 54.6875 \r\nL 56.203125 54.6875 \r\nL 35.6875 0 \r\nL 23.484375 0 \r\nz\r\n\" id=\"DejaVuSans-118\"/>\r\n       <path d=\"M 18.3125 70.21875 \r\nL 18.3125 54.6875 \r\nL 36.8125 54.6875 \r\nL 36.8125 47.703125 \r\nL 18.3125 47.703125 \r\nL 18.3125 18.015625 \r\nQ 18.3125 11.328125 20.140625 9.421875 \r\nQ 21.96875 7.515625 27.59375 7.515625 \r\nL 36.8125 7.515625 \r\nL 36.8125 0 \r\nL 27.59375 0 \r\nQ 17.1875 0 13.234375 3.875 \r\nQ 9.28125 7.765625 9.28125 18.015625 \r\nL 9.28125 47.703125 \r\nL 2.6875 47.703125 \r\nL 2.6875 54.6875 \r\nL 9.28125 54.6875 \r\nL 9.28125 70.21875 \r\nz\r\n\" id=\"DejaVuSans-116\"/>\r\n      </defs>\r\n      <g transform=\"translate(213.992188 456.678437)scale(0.1 -0.1)\">\r\n       <use xlink:href=\"#DejaVuSans-118\"/>\r\n       <use x=\"59.179688\" xlink:href=\"#DejaVuSans-111\"/>\r\n       <use x=\"120.361328\" xlink:href=\"#DejaVuSans-116\"/>\r\n       <use x=\"159.570312\" xlink:href=\"#DejaVuSans-97\"/>\r\n       <use x=\"220.849609\" xlink:href=\"#DejaVuSans-114\"/>\r\n      </g>\r\n     </g>\r\n    </g>\r\n    <g id=\"xtick_4\">\r\n     <g id=\"line2d_4\">\r\n      <g>\r\n       <use style=\"stroke:#000000;stroke-width:0.8;\" x=\"294.050625\" xlink:href=\"#m0620856c3a\" y=\"442.08\"/>\r\n      </g>\r\n     </g>\r\n     <g id=\"text_4\">\r\n      <!-- candidato -->\r\n      <defs>\r\n       <path d=\"M 48.78125 52.59375 \r\nL 48.78125 44.1875 \r\nQ 44.96875 46.296875 41.140625 47.34375 \r\nQ 37.3125 48.390625 33.40625 48.390625 \r\nQ 24.65625 48.390625 19.8125 42.84375 \r\nQ 14.984375 37.3125 14.984375 27.296875 \r\nQ 14.984375 17.28125 19.8125 11.734375 \r\nQ 24.65625 6.203125 33.40625 6.203125 \r\nQ 37.3125 6.203125 41.140625 7.25 \r\nQ 44.96875 8.296875 48.78125 10.40625 \r\nL 48.78125 2.09375 \r\nQ 45.015625 0.34375 40.984375 -0.53125 \r\nQ 36.96875 -1.421875 32.421875 -1.421875 \r\nQ 20.0625 -1.421875 12.78125 6.34375 \r\nQ 5.515625 14.109375 5.515625 27.296875 \r\nQ 5.515625 40.671875 12.859375 48.328125 \r\nQ 20.21875 56 33.015625 56 \r\nQ 37.15625 56 41.109375 55.140625 \r\nQ 45.0625 54.296875 48.78125 52.59375 \r\nz\r\n\" id=\"DejaVuSans-99\"/>\r\n       <path d=\"M 9.421875 54.6875 \r\nL 18.40625 54.6875 \r\nL 18.40625 0 \r\nL 9.421875 0 \r\nz\r\nM 9.421875 75.984375 \r\nL 18.40625 75.984375 \r\nL 18.40625 64.59375 \r\nL 9.421875 64.59375 \r\nz\r\n\" id=\"DejaVuSans-105\"/>\r\n      </defs>\r\n      <g transform=\"translate(269.2475 456.678437)scale(0.1 -0.1)\">\r\n       <use xlink:href=\"#DejaVuSans-99\"/>\r\n       <use x=\"54.980469\" xlink:href=\"#DejaVuSans-97\"/>\r\n       <use x=\"116.259766\" xlink:href=\"#DejaVuSans-110\"/>\r\n       <use x=\"179.638672\" xlink:href=\"#DejaVuSans-100\"/>\r\n       <use x=\"243.115234\" xlink:href=\"#DejaVuSans-105\"/>\r\n       <use x=\"270.898438\" xlink:href=\"#DejaVuSans-100\"/>\r\n       <use x=\"334.375\" xlink:href=\"#DejaVuSans-97\"/>\r\n       <use x=\"395.654297\" xlink:href=\"#DejaVuSans-116\"/>\r\n       <use x=\"434.863281\" xlink:href=\"#DejaVuSans-111\"/>\r\n      </g>\r\n     </g>\r\n    </g>\r\n    <g id=\"xtick_5\">\r\n     <g id=\"line2d_5\">\r\n      <g>\r\n       <use style=\"stroke:#000000;stroke-width:0.8;\" x=\"361.010625\" xlink:href=\"#m0620856c3a\" y=\"442.08\"/>\r\n      </g>\r\n     </g>\r\n     <g id=\"text_5\">\r\n      <!-- sobre -->\r\n      <defs>\r\n       <path d=\"M 56.203125 29.59375 \r\nL 56.203125 25.203125 \r\nL 14.890625 25.203125 \r\nQ 15.484375 15.921875 20.484375 11.0625 \r\nQ 25.484375 6.203125 34.421875 6.203125 \r\nQ 39.59375 6.203125 44.453125 7.46875 \r\nQ 49.3125 8.734375 54.109375 11.28125 \r\nL 54.109375 2.78125 \r\nQ 49.265625 0.734375 44.1875 -0.34375 \r\nQ 39.109375 -1.421875 33.890625 -1.421875 \r\nQ 20.796875 -1.421875 13.15625 6.1875 \r\nQ 5.515625 13.8125 5.515625 26.8125 \r\nQ 5.515625 40.234375 12.765625 48.109375 \r\nQ 20.015625 56 32.328125 56 \r\nQ 43.359375 56 49.78125 48.890625 \r\nQ 56.203125 41.796875 56.203125 29.59375 \r\nz\r\nM 47.21875 32.234375 \r\nQ 47.125 39.59375 43.09375 43.984375 \r\nQ 39.0625 48.390625 32.421875 48.390625 \r\nQ 24.90625 48.390625 20.390625 44.140625 \r\nQ 15.875 39.890625 15.1875 32.171875 \r\nz\r\n\" id=\"DejaVuSans-101\"/>\r\n      </defs>\r\n      <g transform=\"translate(347.152812 456.678437)scale(0.1 -0.1)\">\r\n       <use xlink:href=\"#DejaVuSans-115\"/>\r\n       <use x=\"52.099609\" xlink:href=\"#DejaVuSans-111\"/>\r\n       <use x=\"113.28125\" xlink:href=\"#DejaVuSans-98\"/>\r\n       <use x=\"176.757812\" xlink:href=\"#DejaVuSans-114\"/>\r\n       <use x=\"215.621094\" xlink:href=\"#DejaVuSans-101\"/>\r\n      </g>\r\n     </g>\r\n    </g>\r\n    <g id=\"xtick_6\">\r\n     <g id=\"line2d_6\">\r\n      <g>\r\n       <use style=\"stroke:#000000;stroke-width:0.8;\" x=\"427.970625\" xlink:href=\"#m0620856c3a\" y=\"442.08\"/>\r\n      </g>\r\n     </g>\r\n     <g id=\"text_6\">\r\n      <!-- politica -->\r\n      <defs>\r\n       <path d=\"M 18.109375 8.203125 \r\nL 18.109375 -20.796875 \r\nL 9.078125 -20.796875 \r\nL 9.078125 54.6875 \r\nL 18.109375 54.6875 \r\nL 18.109375 46.390625 \r\nQ 20.953125 51.265625 25.265625 53.625 \r\nQ 29.59375 56 35.59375 56 \r\nQ 45.5625 56 51.78125 48.09375 \r\nQ 58.015625 40.1875 58.015625 27.296875 \r\nQ 58.015625 14.40625 51.78125 6.484375 \r\nQ 45.5625 -1.421875 35.59375 -1.421875 \r\nQ 29.59375 -1.421875 25.265625 0.953125 \r\nQ 20.953125 3.328125 18.109375 8.203125 \r\nz\r\nM 48.6875 27.296875 \r\nQ 48.6875 37.203125 44.609375 42.84375 \r\nQ 40.53125 48.484375 33.40625 48.484375 \r\nQ 26.265625 48.484375 22.1875 42.84375 \r\nQ 18.109375 37.203125 18.109375 27.296875 \r\nQ 18.109375 17.390625 22.1875 11.75 \r\nQ 26.265625 6.109375 33.40625 6.109375 \r\nQ 40.53125 6.109375 44.609375 11.75 \r\nQ 48.6875 17.390625 48.6875 27.296875 \r\nz\r\n\" id=\"DejaVuSans-112\"/>\r\n      </defs>\r\n      <g transform=\"translate(409.796406 456.678437)scale(0.1 -0.1)\">\r\n       <use xlink:href=\"#DejaVuSans-112\"/>\r\n       <use x=\"63.476562\" xlink:href=\"#DejaVuSans-111\"/>\r\n       <use x=\"124.658203\" xlink:href=\"#DejaVuSans-108\"/>\r\n       <use x=\"152.441406\" xlink:href=\"#DejaVuSans-105\"/>\r\n       <use x=\"180.224609\" xlink:href=\"#DejaVuSans-116\"/>\r\n       <use x=\"219.433594\" xlink:href=\"#DejaVuSans-105\"/>\r\n       <use x=\"247.216797\" xlink:href=\"#DejaVuSans-99\"/>\r\n       <use x=\"302.197266\" xlink:href=\"#DejaVuSans-97\"/>\r\n      </g>\r\n     </g>\r\n    </g>\r\n    <g id=\"xtick_7\">\r\n     <g id=\"line2d_7\">\r\n      <g>\r\n       <use style=\"stroke:#000000;stroke-width:0.8;\" x=\"494.930625\" xlink:href=\"#m0620856c3a\" y=\"442.08\"/>\r\n      </g>\r\n     </g>\r\n     <g id=\"text_7\">\r\n      <!-- gente -->\r\n      <defs>\r\n       <path d=\"M 45.40625 27.984375 \r\nQ 45.40625 37.75 41.375 43.109375 \r\nQ 37.359375 48.484375 30.078125 48.484375 \r\nQ 22.859375 48.484375 18.828125 43.109375 \r\nQ 14.796875 37.75 14.796875 27.984375 \r\nQ 14.796875 18.265625 18.828125 12.890625 \r\nQ 22.859375 7.515625 30.078125 7.515625 \r\nQ 37.359375 7.515625 41.375 12.890625 \r\nQ 45.40625 18.265625 45.40625 27.984375 \r\nz\r\nM 54.390625 6.78125 \r\nQ 54.390625 -7.171875 48.1875 -13.984375 \r\nQ 42 -20.796875 29.203125 -20.796875 \r\nQ 24.46875 -20.796875 20.265625 -20.09375 \r\nQ 16.0625 -19.390625 12.109375 -17.921875 \r\nL 12.109375 -9.1875 \r\nQ 16.0625 -11.328125 19.921875 -12.34375 \r\nQ 23.78125 -13.375 27.78125 -13.375 \r\nQ 36.625 -13.375 41.015625 -8.765625 \r\nQ 45.40625 -4.15625 45.40625 5.171875 \r\nL 45.40625 9.625 \r\nQ 42.625 4.78125 38.28125 2.390625 \r\nQ 33.9375 0 27.875 0 \r\nQ 17.828125 0 11.671875 7.65625 \r\nQ 5.515625 15.328125 5.515625 27.984375 \r\nQ 5.515625 40.671875 11.671875 48.328125 \r\nQ 17.828125 56 27.875 56 \r\nQ 33.9375 56 38.28125 53.609375 \r\nQ 42.625 51.21875 45.40625 46.390625 \r\nL 45.40625 54.6875 \r\nL 54.390625 54.6875 \r\nz\r\n\" id=\"DejaVuSans-103\"/>\r\n      </defs>\r\n      <g transform=\"translate(480.474375 456.678437)scale(0.1 -0.1)\">\r\n       <use xlink:href=\"#DejaVuSans-103\"/>\r\n       <use x=\"63.476562\" xlink:href=\"#DejaVuSans-101\"/>\r\n       <use x=\"125\" xlink:href=\"#DejaVuSans-110\"/>\r\n       <use x=\"188.378906\" xlink:href=\"#DejaVuSans-116\"/>\r\n       <use x=\"227.587891\" xlink:href=\"#DejaVuSans-101\"/>\r\n      </g>\r\n     </g>\r\n    </g>\r\n    <g id=\"xtick_8\">\r\n     <g id=\"line2d_8\">\r\n      <g>\r\n       <use style=\"stroke:#000000;stroke-width:0.8;\" x=\"561.890625\" xlink:href=\"#m0620856c3a\" y=\"442.08\"/>\r\n      </g>\r\n     </g>\r\n     <g id=\"text_8\">\r\n      <!-- brasil -->\r\n      <g transform=\"translate(548.214062 456.678437)scale(0.1 -0.1)\">\r\n       <use xlink:href=\"#DejaVuSans-98\"/>\r\n       <use x=\"63.476562\" xlink:href=\"#DejaVuSans-114\"/>\r\n       <use x=\"104.589844\" xlink:href=\"#DejaVuSans-97\"/>\r\n       <use x=\"165.869141\" xlink:href=\"#DejaVuSans-115\"/>\r\n       <use x=\"217.96875\" xlink:href=\"#DejaVuSans-105\"/>\r\n       <use x=\"245.751953\" xlink:href=\"#DejaVuSans-108\"/>\r\n      </g>\r\n     </g>\r\n    </g>\r\n    <g id=\"xtick_9\">\r\n     <g id=\"line2d_9\">\r\n      <g>\r\n       <use style=\"stroke:#000000;stroke-width:0.8;\" x=\"628.850625\" xlink:href=\"#m0620856c3a\" y=\"442.08\"/>\r\n      </g>\r\n     </g>\r\n     <g id=\"text_9\">\r\n      <!-- turno -->\r\n      <defs>\r\n       <path d=\"M 8.5 21.578125 \r\nL 8.5 54.6875 \r\nL 17.484375 54.6875 \r\nL 17.484375 21.921875 \r\nQ 17.484375 14.15625 20.5 10.265625 \r\nQ 23.53125 6.390625 29.59375 6.390625 \r\nQ 36.859375 6.390625 41.078125 11.03125 \r\nQ 45.3125 15.671875 45.3125 23.6875 \r\nL 45.3125 54.6875 \r\nL 54.296875 54.6875 \r\nL 54.296875 0 \r\nL 45.3125 0 \r\nL 45.3125 8.40625 \r\nQ 42.046875 3.421875 37.71875 1 \r\nQ 33.40625 -1.421875 27.6875 -1.421875 \r\nQ 18.265625 -1.421875 13.375 4.4375 \r\nQ 8.5 10.296875 8.5 21.578125 \r\nz\r\nM 31.109375 56 \r\nz\r\n\" id=\"DejaVuSans-117\"/>\r\n      </defs>\r\n      <g transform=\"translate(615.525625 456.678437)scale(0.1 -0.1)\">\r\n       <use xlink:href=\"#DejaVuSans-116\"/>\r\n       <use x=\"39.208984\" xlink:href=\"#DejaVuSans-117\"/>\r\n       <use x=\"102.587891\" xlink:href=\"#DejaVuSans-114\"/>\r\n       <use x=\"141.951172\" xlink:href=\"#DejaVuSans-110\"/>\r\n       <use x=\"205.330078\" xlink:href=\"#DejaVuSans-111\"/>\r\n      </g>\r\n     </g>\r\n    </g>\r\n    <g id=\"xtick_10\">\r\n     <g id=\"line2d_10\">\r\n      <g>\r\n       <use style=\"stroke:#000000;stroke-width:0.8;\" x=\"695.810625\" xlink:href=\"#m0620856c3a\" y=\"442.08\"/>\r\n      </g>\r\n     </g>\r\n     <g id=\"text_10\">\r\n      <!-- governo -->\r\n      <g transform=\"translate(675.345 456.678437)scale(0.1 -0.1)\">\r\n       <use xlink:href=\"#DejaVuSans-103\"/>\r\n       <use x=\"63.476562\" xlink:href=\"#DejaVuSans-111\"/>\r\n       <use x=\"124.658203\" xlink:href=\"#DejaVuSans-118\"/>\r\n       <use x=\"183.837891\" xlink:href=\"#DejaVuSans-101\"/>\r\n       <use x=\"245.361328\" xlink:href=\"#DejaVuSans-114\"/>\r\n       <use x=\"284.724609\" xlink:href=\"#DejaVuSans-110\"/>\r\n       <use x=\"348.103516\" xlink:href=\"#DejaVuSans-111\"/>\r\n      </g>\r\n     </g>\r\n    </g>\r\n    <g id=\"text_11\">\r\n     <!-- palavra -->\r\n     <g transform=\"translate(375.720313 470.356562)scale(0.1 -0.1)\">\r\n      <use xlink:href=\"#DejaVuSans-112\"/>\r\n      <use x=\"63.476562\" xlink:href=\"#DejaVuSans-97\"/>\r\n      <use x=\"124.755859\" xlink:href=\"#DejaVuSans-108\"/>\r\n      <use x=\"152.539062\" xlink:href=\"#DejaVuSans-97\"/>\r\n      <use x=\"213.818359\" xlink:href=\"#DejaVuSans-118\"/>\r\n      <use x=\"272.998047\" xlink:href=\"#DejaVuSans-114\"/>\r\n      <use x=\"314.111328\" xlink:href=\"#DejaVuSans-97\"/>\r\n     </g>\r\n    </g>\r\n   </g>\r\n   <g id=\"matplotlib.axis_2\">\r\n    <g id=\"ytick_1\">\r\n     <g id=\"line2d_11\">\r\n      <defs>\r\n       <path d=\"M 0 0 \r\nL -3.5 0 \r\n\" id=\"m94207526a4\" style=\"stroke:#000000;stroke-width:0.8;\"/>\r\n      </defs>\r\n      <g>\r\n       <use style=\"stroke:#000000;stroke-width:0.8;\" x=\"59.690625\" xlink:href=\"#m94207526a4\" y=\"442.08\"/>\r\n      </g>\r\n     </g>\r\n     <g id=\"text_12\">\r\n      <!-- 0 -->\r\n      <defs>\r\n       <path d=\"M 31.78125 66.40625 \r\nQ 24.171875 66.40625 20.328125 58.90625 \r\nQ 16.5 51.421875 16.5 36.375 \r\nQ 16.5 21.390625 20.328125 13.890625 \r\nQ 24.171875 6.390625 31.78125 6.390625 \r\nQ 39.453125 6.390625 43.28125 13.890625 \r\nQ 47.125 21.390625 47.125 36.375 \r\nQ 47.125 51.421875 43.28125 58.90625 \r\nQ 39.453125 66.40625 31.78125 66.40625 \r\nz\r\nM 31.78125 74.21875 \r\nQ 44.046875 74.21875 50.515625 64.515625 \r\nQ 56.984375 54.828125 56.984375 36.375 \r\nQ 56.984375 17.96875 50.515625 8.265625 \r\nQ 44.046875 -1.421875 31.78125 -1.421875 \r\nQ 19.53125 -1.421875 13.0625 8.265625 \r\nQ 6.59375 17.96875 6.59375 36.375 \r\nQ 6.59375 54.828125 13.0625 64.515625 \r\nQ 19.53125 74.21875 31.78125 74.21875 \r\nz\r\n\" id=\"DejaVuSans-48\"/>\r\n      </defs>\r\n      <g transform=\"translate(46.328125 445.879219)scale(0.1 -0.1)\">\r\n       <use xlink:href=\"#DejaVuSans-48\"/>\r\n      </g>\r\n     </g>\r\n    </g>\r\n    <g id=\"ytick_2\">\r\n     <g id=\"line2d_12\">\r\n      <g>\r\n       <use style=\"stroke:#000000;stroke-width:0.8;\" x=\"59.690625\" xlink:href=\"#m94207526a4\" y=\"372.266021\"/>\r\n      </g>\r\n     </g>\r\n     <g id=\"text_13\">\r\n      <!-- 2000 -->\r\n      <defs>\r\n       <path d=\"M 19.1875 8.296875 \r\nL 53.609375 8.296875 \r\nL 53.609375 0 \r\nL 7.328125 0 \r\nL 7.328125 8.296875 \r\nQ 12.9375 14.109375 22.625 23.890625 \r\nQ 32.328125 33.6875 34.8125 36.53125 \r\nQ 39.546875 41.84375 41.421875 45.53125 \r\nQ 43.3125 49.21875 43.3125 52.78125 \r\nQ 43.3125 58.59375 39.234375 62.25 \r\nQ 35.15625 65.921875 28.609375 65.921875 \r\nQ 23.96875 65.921875 18.8125 64.3125 \r\nQ 13.671875 62.703125 7.8125 59.421875 \r\nL 7.8125 69.390625 \r\nQ 13.765625 71.78125 18.9375 73 \r\nQ 24.125 74.21875 28.421875 74.21875 \r\nQ 39.75 74.21875 46.484375 68.546875 \r\nQ 53.21875 62.890625 53.21875 53.421875 \r\nQ 53.21875 48.921875 51.53125 44.890625 \r\nQ 49.859375 40.875 45.40625 35.40625 \r\nQ 44.1875 33.984375 37.640625 27.21875 \r\nQ 31.109375 20.453125 19.1875 8.296875 \r\nz\r\n\" id=\"DejaVuSans-50\"/>\r\n      </defs>\r\n      <g transform=\"translate(27.240625 376.06524)scale(0.1 -0.1)\">\r\n       <use xlink:href=\"#DejaVuSans-50\"/>\r\n       <use x=\"63.623047\" xlink:href=\"#DejaVuSans-48\"/>\r\n       <use x=\"127.246094\" xlink:href=\"#DejaVuSans-48\"/>\r\n       <use x=\"190.869141\" xlink:href=\"#DejaVuSans-48\"/>\r\n      </g>\r\n     </g>\r\n    </g>\r\n    <g id=\"ytick_3\">\r\n     <g id=\"line2d_13\">\r\n      <g>\r\n       <use style=\"stroke:#000000;stroke-width:0.8;\" x=\"59.690625\" xlink:href=\"#m94207526a4\" y=\"302.452043\"/>\r\n      </g>\r\n     </g>\r\n     <g id=\"text_14\">\r\n      <!-- 4000 -->\r\n      <defs>\r\n       <path d=\"M 37.796875 64.3125 \r\nL 12.890625 25.390625 \r\nL 37.796875 25.390625 \r\nz\r\nM 35.203125 72.90625 \r\nL 47.609375 72.90625 \r\nL 47.609375 25.390625 \r\nL 58.015625 25.390625 \r\nL 58.015625 17.1875 \r\nL 47.609375 17.1875 \r\nL 47.609375 0 \r\nL 37.796875 0 \r\nL 37.796875 17.1875 \r\nL 4.890625 17.1875 \r\nL 4.890625 26.703125 \r\nz\r\n\" id=\"DejaVuSans-52\"/>\r\n      </defs>\r\n      <g transform=\"translate(27.240625 306.251261)scale(0.1 -0.1)\">\r\n       <use xlink:href=\"#DejaVuSans-52\"/>\r\n       <use x=\"63.623047\" xlink:href=\"#DejaVuSans-48\"/>\r\n       <use x=\"127.246094\" xlink:href=\"#DejaVuSans-48\"/>\r\n       <use x=\"190.869141\" xlink:href=\"#DejaVuSans-48\"/>\r\n      </g>\r\n     </g>\r\n    </g>\r\n    <g id=\"ytick_4\">\r\n     <g id=\"line2d_14\">\r\n      <g>\r\n       <use style=\"stroke:#000000;stroke-width:0.8;\" x=\"59.690625\" xlink:href=\"#m94207526a4\" y=\"232.638064\"/>\r\n      </g>\r\n     </g>\r\n     <g id=\"text_15\">\r\n      <!-- 6000 -->\r\n      <defs>\r\n       <path d=\"M 33.015625 40.375 \r\nQ 26.375 40.375 22.484375 35.828125 \r\nQ 18.609375 31.296875 18.609375 23.390625 \r\nQ 18.609375 15.53125 22.484375 10.953125 \r\nQ 26.375 6.390625 33.015625 6.390625 \r\nQ 39.65625 6.390625 43.53125 10.953125 \r\nQ 47.40625 15.53125 47.40625 23.390625 \r\nQ 47.40625 31.296875 43.53125 35.828125 \r\nQ 39.65625 40.375 33.015625 40.375 \r\nz\r\nM 52.59375 71.296875 \r\nL 52.59375 62.3125 \r\nQ 48.875 64.0625 45.09375 64.984375 \r\nQ 41.3125 65.921875 37.59375 65.921875 \r\nQ 27.828125 65.921875 22.671875 59.328125 \r\nQ 17.53125 52.734375 16.796875 39.40625 \r\nQ 19.671875 43.65625 24.015625 45.921875 \r\nQ 28.375 48.1875 33.59375 48.1875 \r\nQ 44.578125 48.1875 50.953125 41.515625 \r\nQ 57.328125 34.859375 57.328125 23.390625 \r\nQ 57.328125 12.15625 50.6875 5.359375 \r\nQ 44.046875 -1.421875 33.015625 -1.421875 \r\nQ 20.359375 -1.421875 13.671875 8.265625 \r\nQ 6.984375 17.96875 6.984375 36.375 \r\nQ 6.984375 53.65625 15.1875 63.9375 \r\nQ 23.390625 74.21875 37.203125 74.21875 \r\nQ 40.921875 74.21875 44.703125 73.484375 \r\nQ 48.484375 72.75 52.59375 71.296875 \r\nz\r\n\" id=\"DejaVuSans-54\"/>\r\n      </defs>\r\n      <g transform=\"translate(27.240625 236.437283)scale(0.1 -0.1)\">\r\n       <use xlink:href=\"#DejaVuSans-54\"/>\r\n       <use x=\"63.623047\" xlink:href=\"#DejaVuSans-48\"/>\r\n       <use x=\"127.246094\" xlink:href=\"#DejaVuSans-48\"/>\r\n       <use x=\"190.869141\" xlink:href=\"#DejaVuSans-48\"/>\r\n      </g>\r\n     </g>\r\n    </g>\r\n    <g id=\"ytick_5\">\r\n     <g id=\"line2d_15\">\r\n      <g>\r\n       <use style=\"stroke:#000000;stroke-width:0.8;\" x=\"59.690625\" xlink:href=\"#m94207526a4\" y=\"162.824085\"/>\r\n      </g>\r\n     </g>\r\n     <g id=\"text_16\">\r\n      <!-- 8000 -->\r\n      <defs>\r\n       <path d=\"M 31.78125 34.625 \r\nQ 24.75 34.625 20.71875 30.859375 \r\nQ 16.703125 27.09375 16.703125 20.515625 \r\nQ 16.703125 13.921875 20.71875 10.15625 \r\nQ 24.75 6.390625 31.78125 6.390625 \r\nQ 38.8125 6.390625 42.859375 10.171875 \r\nQ 46.921875 13.96875 46.921875 20.515625 \r\nQ 46.921875 27.09375 42.890625 30.859375 \r\nQ 38.875 34.625 31.78125 34.625 \r\nz\r\nM 21.921875 38.8125 \r\nQ 15.578125 40.375 12.03125 44.71875 \r\nQ 8.5 49.078125 8.5 55.328125 \r\nQ 8.5 64.0625 14.71875 69.140625 \r\nQ 20.953125 74.21875 31.78125 74.21875 \r\nQ 42.671875 74.21875 48.875 69.140625 \r\nQ 55.078125 64.0625 55.078125 55.328125 \r\nQ 55.078125 49.078125 51.53125 44.71875 \r\nQ 48 40.375 41.703125 38.8125 \r\nQ 48.828125 37.15625 52.796875 32.3125 \r\nQ 56.78125 27.484375 56.78125 20.515625 \r\nQ 56.78125 9.90625 50.3125 4.234375 \r\nQ 43.84375 -1.421875 31.78125 -1.421875 \r\nQ 19.734375 -1.421875 13.25 4.234375 \r\nQ 6.78125 9.90625 6.78125 20.515625 \r\nQ 6.78125 27.484375 10.78125 32.3125 \r\nQ 14.796875 37.15625 21.921875 38.8125 \r\nz\r\nM 18.3125 54.390625 \r\nQ 18.3125 48.734375 21.84375 45.5625 \r\nQ 25.390625 42.390625 31.78125 42.390625 \r\nQ 38.140625 42.390625 41.71875 45.5625 \r\nQ 45.3125 48.734375 45.3125 54.390625 \r\nQ 45.3125 60.0625 41.71875 63.234375 \r\nQ 38.140625 66.40625 31.78125 66.40625 \r\nQ 25.390625 66.40625 21.84375 63.234375 \r\nQ 18.3125 60.0625 18.3125 54.390625 \r\nz\r\n\" id=\"DejaVuSans-56\"/>\r\n      </defs>\r\n      <g transform=\"translate(27.240625 166.623304)scale(0.1 -0.1)\">\r\n       <use xlink:href=\"#DejaVuSans-56\"/>\r\n       <use x=\"63.623047\" xlink:href=\"#DejaVuSans-48\"/>\r\n       <use x=\"127.246094\" xlink:href=\"#DejaVuSans-48\"/>\r\n       <use x=\"190.869141\" xlink:href=\"#DejaVuSans-48\"/>\r\n      </g>\r\n     </g>\r\n    </g>\r\n    <g id=\"ytick_6\">\r\n     <g id=\"line2d_16\">\r\n      <g>\r\n       <use style=\"stroke:#000000;stroke-width:0.8;\" x=\"59.690625\" xlink:href=\"#m94207526a4\" y=\"93.010107\"/>\r\n      </g>\r\n     </g>\r\n     <g id=\"text_17\">\r\n      <!-- 10000 -->\r\n      <defs>\r\n       <path d=\"M 12.40625 8.296875 \r\nL 28.515625 8.296875 \r\nL 28.515625 63.921875 \r\nL 10.984375 60.40625 \r\nL 10.984375 69.390625 \r\nL 28.421875 72.90625 \r\nL 38.28125 72.90625 \r\nL 38.28125 8.296875 \r\nL 54.390625 8.296875 \r\nL 54.390625 0 \r\nL 12.40625 0 \r\nz\r\n\" id=\"DejaVuSans-49\"/>\r\n      </defs>\r\n      <g transform=\"translate(20.878125 96.809325)scale(0.1 -0.1)\">\r\n       <use xlink:href=\"#DejaVuSans-49\"/>\r\n       <use x=\"63.623047\" xlink:href=\"#DejaVuSans-48\"/>\r\n       <use x=\"127.246094\" xlink:href=\"#DejaVuSans-48\"/>\r\n       <use x=\"190.869141\" xlink:href=\"#DejaVuSans-48\"/>\r\n       <use x=\"254.492188\" xlink:href=\"#DejaVuSans-48\"/>\r\n      </g>\r\n     </g>\r\n    </g>\r\n    <g id=\"ytick_7\">\r\n     <g id=\"line2d_17\">\r\n      <g>\r\n       <use style=\"stroke:#000000;stroke-width:0.8;\" x=\"59.690625\" xlink:href=\"#m94207526a4\" y=\"23.196128\"/>\r\n      </g>\r\n     </g>\r\n     <g id=\"text_18\">\r\n      <!-- 12000 -->\r\n      <g transform=\"translate(20.878125 26.995347)scale(0.1 -0.1)\">\r\n       <use xlink:href=\"#DejaVuSans-49\"/>\r\n       <use x=\"63.623047\" xlink:href=\"#DejaVuSans-50\"/>\r\n       <use x=\"127.246094\" xlink:href=\"#DejaVuSans-48\"/>\r\n       <use x=\"190.869141\" xlink:href=\"#DejaVuSans-48\"/>\r\n       <use x=\"254.492188\" xlink:href=\"#DejaVuSans-48\"/>\r\n      </g>\r\n     </g>\r\n    </g>\r\n    <g id=\"text_19\">\r\n     <!-- frequencia -->\r\n     <defs>\r\n      <path d=\"M 37.109375 75.984375 \r\nL 37.109375 68.5 \r\nL 28.515625 68.5 \r\nQ 23.6875 68.5 21.796875 66.546875 \r\nQ 19.921875 64.59375 19.921875 59.515625 \r\nL 19.921875 54.6875 \r\nL 34.71875 54.6875 \r\nL 34.71875 47.703125 \r\nL 19.921875 47.703125 \r\nL 19.921875 0 \r\nL 10.890625 0 \r\nL 10.890625 47.703125 \r\nL 2.296875 47.703125 \r\nL 2.296875 54.6875 \r\nL 10.890625 54.6875 \r\nL 10.890625 58.5 \r\nQ 10.890625 67.625 15.140625 71.796875 \r\nQ 19.390625 75.984375 28.609375 75.984375 \r\nz\r\n\" id=\"DejaVuSans-102\"/>\r\n      <path d=\"M 14.796875 27.296875 \r\nQ 14.796875 17.390625 18.875 11.75 \r\nQ 22.953125 6.109375 30.078125 6.109375 \r\nQ 37.203125 6.109375 41.296875 11.75 \r\nQ 45.40625 17.390625 45.40625 27.296875 \r\nQ 45.40625 37.203125 41.296875 42.84375 \r\nQ 37.203125 48.484375 30.078125 48.484375 \r\nQ 22.953125 48.484375 18.875 42.84375 \r\nQ 14.796875 37.203125 14.796875 27.296875 \r\nz\r\nM 45.40625 8.203125 \r\nQ 42.578125 3.328125 38.25 0.953125 \r\nQ 33.9375 -1.421875 27.875 -1.421875 \r\nQ 17.96875 -1.421875 11.734375 6.484375 \r\nQ 5.515625 14.40625 5.515625 27.296875 \r\nQ 5.515625 40.1875 11.734375 48.09375 \r\nQ 17.96875 56 27.875 56 \r\nQ 33.9375 56 38.25 53.625 \r\nQ 42.578125 51.265625 45.40625 46.390625 \r\nL 45.40625 54.6875 \r\nL 54.390625 54.6875 \r\nL 54.390625 -20.796875 \r\nL 45.40625 -20.796875 \r\nz\r\n\" id=\"DejaVuSans-113\"/>\r\n     </defs>\r\n     <g transform=\"translate(14.798438 251.210312)rotate(-90)scale(0.1 -0.1)\">\r\n      <use xlink:href=\"#DejaVuSans-102\"/>\r\n      <use x=\"35.205078\" xlink:href=\"#DejaVuSans-114\"/>\r\n      <use x=\"74.068359\" xlink:href=\"#DejaVuSans-101\"/>\r\n      <use x=\"135.591797\" xlink:href=\"#DejaVuSans-113\"/>\r\n      <use x=\"199.068359\" xlink:href=\"#DejaVuSans-117\"/>\r\n      <use x=\"262.447266\" xlink:href=\"#DejaVuSans-101\"/>\r\n      <use x=\"323.970703\" xlink:href=\"#DejaVuSans-110\"/>\r\n      <use x=\"387.349609\" xlink:href=\"#DejaVuSans-99\"/>\r\n      <use x=\"442.330078\" xlink:href=\"#DejaVuSans-105\"/>\r\n      <use x=\"470.113281\" xlink:href=\"#DejaVuSans-97\"/>\r\n     </g>\r\n    </g>\r\n   </g>\r\n   <g id=\"line2d_18\">\r\n    <path clip-path=\"url(#pbb3e46549a)\" d=\"M 0 0 \r\n\" style=\"fill:none;stroke:#424242;stroke-linecap:square;stroke-width:2.7;\"/>\r\n   </g>\r\n   <g id=\"line2d_19\">\r\n    <path clip-path=\"url(#pbb3e46549a)\" d=\"M 0 0 \r\n\" style=\"fill:none;stroke:#424242;stroke-linecap:square;stroke-width:2.7;\"/>\r\n   </g>\r\n   <g id=\"line2d_20\">\r\n    <path clip-path=\"url(#pbb3e46549a)\" d=\"M 0 0 \r\n\" style=\"fill:none;stroke:#424242;stroke-linecap:square;stroke-width:2.7;\"/>\r\n   </g>\r\n   <g id=\"line2d_21\">\r\n    <path clip-path=\"url(#pbb3e46549a)\" d=\"M 0 0 \r\n\" style=\"fill:none;stroke:#424242;stroke-linecap:square;stroke-width:2.7;\"/>\r\n   </g>\r\n   <g id=\"line2d_22\">\r\n    <path clip-path=\"url(#pbb3e46549a)\" d=\"M 0 0 \r\n\" style=\"fill:none;stroke:#424242;stroke-linecap:square;stroke-width:2.7;\"/>\r\n   </g>\r\n   <g id=\"line2d_23\">\r\n    <path clip-path=\"url(#pbb3e46549a)\" d=\"M 0 0 \r\n\" style=\"fill:none;stroke:#424242;stroke-linecap:square;stroke-width:2.7;\"/>\r\n   </g>\r\n   <g id=\"line2d_24\">\r\n    <path clip-path=\"url(#pbb3e46549a)\" d=\"M 0 0 \r\n\" style=\"fill:none;stroke:#424242;stroke-linecap:square;stroke-width:2.7;\"/>\r\n   </g>\r\n   <g id=\"line2d_25\">\r\n    <path clip-path=\"url(#pbb3e46549a)\" d=\"M 0 0 \r\n\" style=\"fill:none;stroke:#424242;stroke-linecap:square;stroke-width:2.7;\"/>\r\n   </g>\r\n   <g id=\"line2d_26\">\r\n    <path clip-path=\"url(#pbb3e46549a)\" d=\"M 0 0 \r\n\" style=\"fill:none;stroke:#424242;stroke-linecap:square;stroke-width:2.7;\"/>\r\n   </g>\r\n   <g id=\"line2d_27\">\r\n    <path clip-path=\"url(#pbb3e46549a)\" d=\"M 0 0 \r\n\" style=\"fill:none;stroke:#424242;stroke-linecap:square;stroke-width:2.7;\"/>\r\n   </g>\r\n   <g id=\"patch_13\">\r\n    <path d=\"M 59.690625 442.08 \r\nL 59.690625 7.2 \r\n\" style=\"fill:none;stroke:#000000;stroke-linecap:square;stroke-linejoin:miter;stroke-width:0.8;\"/>\r\n   </g>\r\n   <g id=\"patch_14\">\r\n    <path d=\"M 729.290625 442.08 \r\nL 729.290625 7.2 \r\n\" style=\"fill:none;stroke:#000000;stroke-linecap:square;stroke-linejoin:miter;stroke-width:0.8;\"/>\r\n   </g>\r\n   <g id=\"patch_15\">\r\n    <path d=\"M 59.690625 442.08 \r\nL 729.290625 442.08 \r\n\" style=\"fill:none;stroke:#000000;stroke-linecap:square;stroke-linejoin:miter;stroke-width:0.8;\"/>\r\n   </g>\r\n   <g id=\"patch_16\">\r\n    <path d=\"M 59.690625 7.2 \r\nL 729.290625 7.2 \r\n\" style=\"fill:none;stroke:#000000;stroke-linecap:square;stroke-linejoin:miter;stroke-width:0.8;\"/>\r\n   </g>\r\n  </g>\r\n </g>\r\n <defs>\r\n  <clipPath id=\"pbb3e46549a\">\r\n   <rect height=\"434.88\" width=\"669.6\" x=\"59.690625\" y=\"7.2\"/>\r\n  </clipPath>\r\n </defs>\r\n</svg>\r\n",
      "image/png": "[encoded data removed]"
     },
     "metadata": {
      "needs_background": "light"
     }
    }
   ],
   "source": [
    "plt.figure(figsize=(12,8))\n",
    "ax = sns.barplot(data=maisFrequentes, x='palavra', y='frequencia')\n",
    "ax.set(ylabel='frequencia')\n",
    "plt.show()"
   ]
  },
  {
   "cell_type": "code",
   "execution_count": 23,
   "metadata": {},
   "outputs": [],
   "source": [
    "# Nesse passo é criado uma função que faz a Tokenização e o Stemming\n",
    "def criarBagOfWords(text, stop_words=stopWords):\n",
    "    tokens = tokenizer.tokenize(text)\n",
    "    tokens = [token for token in tokens if token not in stop_words]\n",
    "    tokens = [stemmer.stem(token) for token in tokens]\n",
    "    return ' '.join(tokens)\n",
    "\n",
    "tweets['bag_of_words'] = tweets['tweet_text'].apply(criarBagOfWords)\n",
    "#tweets['bag_of_words_stemmed'] = tweets['tweet_text'].apply(criarBagOfWords)"
   ]
  },
  {
   "cell_type": "code",
   "execution_count": 24,
   "metadata": {},
   "outputs": [],
   "source": [
    "# Bag-of-words: Conjunto não-ordenado de palavras e sua multiplicidade\n",
    "# Cria um \"Bag of Words (Saco de Palavras)\" do nosso texto e ignora números"
   ]
  },
  {
   "cell_type": "code",
   "execution_count": 25,
   "metadata": {},
   "outputs": [
    {
     "output_type": "execute_result",
     "data": {
      "text/plain": "                                          tweet_text sentiment  score  \\\n0  esquerda e direita empatam na suecia ultranaci...    Neutro      0   \n1  ao vivo estadao e tv gazeta realizam terceiro ...    Neutro      0   \n2  fotos apoiadores de jair bolsonaro realizam at...    Neutro      0   \n3  barroso ameaca barrar propaganda se pt insisti...    Neutro      0   \n4  serena williams e multada pelo comportamento d...    Neutro      0   \n\n                                        bag_of_words  \n0        esquerd direit empat suec ultranacion avanc  \n1       viv estada tv gazet realiz terc debat presid  \n2              fot apoi jair bolsonar realiz ato pal  \n3  barr ameac barr propagand pt insist mostr lul ...  \n4          seren will mult comport dur final us open  ",
      "text/html": "<div>\n<style scoped>\n    .dataframe tbody tr th:only-of-type {\n        vertical-align: middle;\n    }\n\n    .dataframe tbody tr th {\n        vertical-align: top;\n    }\n\n    .dataframe thead th {\n        text-align: right;\n    }\n</style>\n<table border=\"1\" class=\"dataframe\">\n  <thead>\n    <tr style=\"text-align: right;\">\n      <th></th>\n      <th>tweet_text</th>\n      <th>sentiment</th>\n      <th>score</th>\n      <th>bag_of_words</th>\n    </tr>\n  </thead>\n  <tbody>\n    <tr>\n      <th>0</th>\n      <td>esquerda e direita empatam na suecia ultranaci...</td>\n      <td>Neutro</td>\n      <td>0</td>\n      <td>esquerd direit empat suec ultranacion avanc</td>\n    </tr>\n    <tr>\n      <th>1</th>\n      <td>ao vivo estadao e tv gazeta realizam terceiro ...</td>\n      <td>Neutro</td>\n      <td>0</td>\n      <td>viv estada tv gazet realiz terc debat presid</td>\n    </tr>\n    <tr>\n      <th>2</th>\n      <td>fotos apoiadores de jair bolsonaro realizam at...</td>\n      <td>Neutro</td>\n      <td>0</td>\n      <td>fot apoi jair bolsonar realiz ato pal</td>\n    </tr>\n    <tr>\n      <th>3</th>\n      <td>barroso ameaca barrar propaganda se pt insisti...</td>\n      <td>Neutro</td>\n      <td>0</td>\n      <td>barr ameac barr propagand pt insist mostr lul ...</td>\n    </tr>\n    <tr>\n      <th>4</th>\n      <td>serena williams e multada pelo comportamento d...</td>\n      <td>Neutro</td>\n      <td>0</td>\n      <td>seren will mult comport dur final us open</td>\n    </tr>\n  </tbody>\n</table>\n</div>"
     },
     "metadata": {},
     "execution_count": 25
    }
   ],
   "source": [
    "tweets.head()"
   ]
  },
  {
   "cell_type": "code",
   "execution_count": 26,
   "metadata": {},
   "outputs": [],
   "source": [
    "todasPalavras = ' '.join([text for text in tweets['bag_of_words']])\n",
    "tokensPalavras = tokenizer.tokenize(todasPalavras)"
   ]
  },
  {
   "cell_type": "code",
   "execution_count": 27,
   "metadata": {},
   "outputs": [
    {
     "output_type": "execute_result",
     "data": {
      "text/plain": "['esquerd',\n 'direit',\n 'empat',\n 'suec',\n 'ultranacion',\n 'avanc',\n 'viv',\n 'estada',\n 'tv',\n 'gazet',\n 'realiz',\n 'terc',\n 'debat',\n 'presid',\n 'fot',\n 'apoi',\n 'jair',\n 'bolsonar',\n 'realiz',\n 'ato',\n 'pal',\n 'barr',\n 'ameac',\n 'barr',\n 'propagand',\n 'pt',\n 'insist',\n 'mostr',\n 'lul',\n 'candidat',\n 'seren',\n 'will',\n 'mult',\n 'comport',\n 'dur',\n 'final',\n 'us',\n 'open',\n 'apoi',\n 'jair',\n 'bolsonar',\n 'realiz',\n 'ato',\n 'tre',\n 'cidad',\n 'vill',\n 'boa',\n 'legitim',\n 'nov',\n 'govern',\n 'pod',\n 'ate',\n 'ser',\n 'question',\n 'polic',\n 'australi',\n 'encontr',\n 'cinc',\n 'corp',\n 'cas',\n 'perth',\n 'megasen',\n 'acumul',\n 'pag',\n 'r',\n 'milho',\n 'jair',\n 'bolsonar',\n 'nit',\n 'melhor',\n 'clin',\n 'diz',\n 'nov',\n 'boletim',\n 'hospit',\n 'suec',\n 'vai',\n 'urn',\n 'mei',\n 'avanc',\n 'extremadireit',\n 'defês',\n 'lul',\n 'ped',\n 'ros',\n 'web',\n 'temp',\n 'substitu',\n 'candidat',\n 'brasileira',\n 'flameng',\n 'despach',\n 'chapeco',\n 'sob',\n 'tabel',\n 'bolsonar',\n 'pass',\n 'mei',\n 'hor',\n 'sent',\n 'and',\n 'cinc',\n 'minut',\n 'polic',\n 'feder',\n 'anunc',\n 'seguranc',\n 'presidencia',\n 'famil',\n 'jair',\n 'bolsonar',\n 'qu',\n 'pf',\n 'escolt',\n 'mulh',\n 'presidencia',\n 'espanh',\n 'venc',\n 'inglaterr',\n 'vir',\n 'lig',\n 'naco',\n 'brasileira',\n 'magra',\n 'defend',\n 'penalt',\n 'evit',\n 'derrot',\n 'cruz',\n 'sport',\n 'advers',\n 'brasil',\n 'cop',\n 'suic',\n 'gole',\n 'island',\n 'lig',\n 'naco',\n 'brasil',\n 'perd',\n 'imens',\n 'vali',\n 'acerv',\n 'mus',\n 'nacion',\n 'rio',\n 'pur',\n 'negligenc',\n 'eua',\n 'discut',\n 'golp',\n 'est',\n 'milit',\n 'venezuel',\n 'diz',\n 'nyt',\n 'cheg',\n 'fim',\n 'cas',\n 'can',\n 'anitt',\n 'autor',\n 'ataqu',\n 'contr',\n 'bolsonar',\n 'cheg',\n 'camp',\n 'grand',\n 'confront',\n 'curd',\n 'forc',\n 'regim',\n 'siri',\n 'deix',\n 'mort',\n 'ali',\n 'bolsonar',\n 'defend',\n 'us',\n 'imag',\n 'atent',\n 'campanh',\n 'pesquis',\n 'indic',\n 'carioc',\n 'quer',\n 'prorrog',\n 'intervenca',\n 'rj',\n 'hom',\n 'arm',\n 'fac',\n 'deix',\n 'fer',\n 'ataqu',\n 'paril',\n 'irma',\n 'exginast',\n 'lal',\n 'souz',\n 'morr',\n 'dur',\n 'pesc',\n 'miguelopolil',\n 'paul',\n 'gued',\n 'visit',\n 'hospit',\n 'bolsonar',\n 'intern',\n 'filh',\n 'publ',\n 'fot',\n 'bolsonar',\n 'sent',\n 'faz',\n 'gest',\n 'imit',\n 'arm',\n 'final',\n 'us',\n 'open',\n 'djokovic',\n 'gar',\n 'lug',\n 'atp',\n 'final',\n 'cheg',\n 'numer',\n 'mort',\n 'terremot',\n 'japa',\n 'campanh',\n 'petist',\n 'nao',\n 'mud',\n 'estrateg',\n 'apo',\n 'atent',\n 'diz',\n 'haddad',\n 'bolsonar',\n 'mant',\n 'boa',\n 'condico',\n 'clin',\n 'nao',\n 'sinal',\n 'infecca',\n 'restaurant',\n 'jud',\n 'atac',\n 'alemanh',\n 'dur',\n 'confront',\n 'chemnitz',\n 'agres',\n 'bolsonar',\n 'alug',\n 'quart',\n 'dua',\n 'seman',\n 'ant',\n 'ataqu',\n 'nov',\n 'documentari',\n 'michael',\n 'moor',\n 'comp',\n 'trump',\n 'hitl',\n 'agres',\n 'bolsonar',\n 'transfer',\n 'pf',\n 'presidi',\n 'feder',\n 'mum',\n 'destru',\n 'mus',\n 'mal',\n 'receb',\n 'carioc',\n 'pt',\n 'pretend',\n 'transform',\n 'haddad',\n 'lul',\n 'neym',\n 'marc',\n 'penalt',\n 'brasil',\n 'inic',\n 'nov',\n 'cicl',\n 'bat',\n 'fregues',\n 'jus',\n 'ouv',\n 'deleg',\n 'lav',\n 'jat',\n 'aca',\n 'mov',\n 'maris',\n 'letic',\n 'steven',\n 'seag',\n 'nome',\n 'envi',\n 'espec',\n 'russ',\n 'eua',\n 'brasil',\n 'venezuel',\n 'morr',\n 'apo',\n 'suspeit',\n 'furt',\n 'rora',\n 'mort',\n 'pass',\n 'doi',\n 'milimetr',\n 'mim',\n 'diz',\n 'jair',\n 'bolsonar',\n 'exasses',\n 'trump',\n 'conden',\n 'dia',\n 'prisa',\n 'ment',\n 'fbi',\n 'rapp',\n 'mac',\n 'mill',\n 'encontr',\n 'mort',\n 'ano',\n 'extecn',\n 'seleca',\n 'ginas',\n 'eua',\n 'process',\n 'abus',\n 'hom',\n 'esfaqu',\n 'bolsonar',\n 'ser',\n 'transfer',\n 'presidi',\n 'feder',\n 'obam',\n 'diz',\n 'trump',\n 'usa',\n 'med',\n 'raiv',\n 'promov',\n 'israel',\n 'fech',\n 'cisjordan',\n 'gaz',\n 'dia',\n 'cont',\n 'ano',\n 'nov',\n 'juda',\n 'lul',\n 'cap',\n 'vej',\n 'sindic',\n 'encarcer',\n 'morr',\n 'mc',\n 'nald',\n 'funk',\n 'tap',\n 'nao',\n 'doi',\n 'defês',\n 'lul',\n 'ped',\n 'segund',\n 'turm',\n 'julg',\n 'recurs',\n 'candidat',\n 'tesl',\n 'sofr',\n 'nov',\n 'abal',\n 'vide',\n 'musk',\n 'fum',\n 'maconh',\n 'onu',\n 'conden',\n 'ataqu',\n 'contr',\n 'jair',\n 'bolsonar',\n 'seleca',\n 'brasil',\n 'visit',\n 'est',\n 'unid',\n 'prim',\n 'jog',\n 'poscop',\n 'saib',\n 'tud',\n 'sobr',\n 'atent',\n 'candidat',\n 'jair',\n 'bolsonar',\n 'minut',\n 'vej',\n 'filh',\n 'tem',\n 'faz',\n 'gest',\n 'imit',\n 'arm',\n 'dur',\n 'desfil',\n 'setembr',\n 'trump',\n 'cham',\n 'livr',\n 'jornal',\n 'bob',\n 'woodward',\n 'fraud',\n 'varej',\n 'onlin',\n 'fech',\n 'parc',\n 'desat',\n 'atras',\n 'entreg',\n 'pm',\n 'diz',\n 'ataqu',\n 'bolsonar',\n 'premedit',\n 'pf',\n 'vai',\n 'investig',\n 'bolsonar',\n 'ser',\n 'transfer',\n 'sao',\n 'paul',\n 'nest',\n 'sext',\n 'diz',\n 'filh',\n 'russiagat',\n 'tod',\n 'hom',\n 'presid',\n 'trump',\n 'democrac',\n 'fer',\n 'vide',\n 'apo',\n 'fac',\n 'bolsonar',\n 'diz',\n 'nunc',\n 'fez',\n 'mal',\n 'ning',\n 'atent',\n 'deix',\n 'incert',\n 'sobr',\n 'retorn',\n 'bolsonar',\n 'campanh',\n 'rua',\n 'eleico',\n 'tod',\n 'pesquis',\n 'presid',\n 'govern',\n 'eleico',\n 'tod',\n 'pesquis',\n 'govern',\n 'acr',\n 'eleico',\n 'tod',\n 'pesquis',\n 'govern',\n 'alago',\n 'eleico',\n 'tod',\n 'pesquis',\n 'govern',\n 'amap',\n 'eleico',\n 'tod',\n 'pesquis',\n 'govern',\n 'min',\n 'geral',\n 'eleico',\n 'tod',\n 'pesquis',\n 'govern',\n 'rora',\n 'eduard',\n 'pae',\n 'isol',\n 'lideranc',\n 'govern',\n 'rj',\n 'apont',\n 'datafolh',\n 'hom',\n 'esfaqu',\n 'bolsonar',\n 'fili',\n 'psol',\n 'correi',\n 'abr',\n 'refil',\n 'permit',\n 'parcel',\n 'debit',\n 'descont',\n 'pt',\n 'dilm',\n 'escolh',\n 'tem',\n 'mal',\n 'comig',\n 'diz',\n 'alckmin',\n 'corinth',\n 'anunc',\n 'contrataca',\n 'jair',\n 'vent',\n 'tem',\n 'lembr',\n 'apoi',\n 'psdb',\n 'govern',\n 'faz',\n 'nov',\n 'vide',\n 'critic',\n 'alckmin',\n 'magazin',\n 'luiz',\n 'prepar',\n 'nov',\n 'promoca',\n 'escur',\n 'stori',\n 'fachin',\n 'neg',\n 'recurs',\n 'lul',\n 'candidat',\n 'companh',\n 'aere',\n 'baix',\n 'cust',\n 'qu',\n 'oper',\n 'voo',\n 'brasil',\n 'chil',\n 'atac',\n 'cristald',\n 'sofr',\n 'depressa',\n 'pens',\n 'mat',\n 'ana',\n 'furt',\n 'comem',\n 'ult',\n 'sessa',\n 'quimioterap',\n 'vitor',\n 'andre',\n 'paquet',\n 'richarlison',\n 'pass',\n 'trot',\n 'seleca',\n 'rein',\n 'unid',\n 'indic',\n 'russ',\n 'cas',\n 'envenen',\n 'exespia',\n 'fot',\n 'tv',\n 'gazet',\n 'realiz',\n 'terc',\n 'debat',\n 'presidencia',\n 'eleico',\n 'tod',\n 'pesquis',\n 'govern',\n 'mat',\n 'gross',\n 'sul',\n 'eleico',\n 'tod',\n 'pesquis',\n 'govern',\n 'rondon',\n 'datafolh',\n 'cam',\n 'psb',\n 'sob',\n 'pe',\n 'mont',\n 'ptb',\n 'probio',\n 'pod',\n 'nao',\n 'ser',\n 'tao',\n 'eficaz',\n 'quant',\n 'cient',\n 'acredit',\n 'trump',\n 'prepar',\n 'demissa',\n 'gener',\n 'mattil',\n 'pentagon',\n 'fif',\n 'cristi',\n 'neym',\n 'outr',\n 'craqu',\n 'protest',\n 'contr',\n 'not',\n 'gam',\n 'class',\n 'ausent',\n 'podera',\n 'retorn',\n 'seri',\n 'prox',\n 'ano',\n 'segund',\n 'sol',\n 'inici',\n 'misteri',\n 'mat',\n 'remy',\n 'samuel',\n 'l',\n 'jackson',\n 'rejuvenesc',\n 'capit',\n 'marvel',\n 'vej',\n 'fot',\n 'film',\n 'cels',\n 'mell',\n 'rela',\n 'terc',\n 'recurs',\n 'lul',\n 'candidat',\n 'lei',\n 'trump',\n 'sug',\n 'mudanc',\n 'lei',\n 'difamaca',\n 'apo',\n 'livr',\n 'explos',\n 'golp',\n 'mcdonald',\n 'promet',\n 'doi',\n 'comb',\n 'grac',\n 'mp',\n 'acus',\n 'alckmin',\n 'improb',\n 'ped',\n 'suspensa',\n 'direit',\n 'poli',\n 'cheg',\n 'sao',\n 'paul',\n 'escol',\n 'popul',\n 'part',\n 'r',\n 'me',\n 'reajust',\n 'diesel',\n 'govern',\n 'anunc',\n 'nov',\n 'tabel',\n 'fret',\n 'min',\n 'datafolh',\n 'cancel',\n 'pesquis',\n 'apo',\n 'candidat',\n 'lul',\n 'ser',\n 'barr',\n 'ond',\n 'prov',\n 'bom',\n 'cort',\n 'carn',\n 'curitib',\n 'conf',\n 'cobert',\n 'complet',\n 'debat',\n 'vicepresidencia',\n 'sit',\n 'vej',\n 'bar',\n 'curt',\n 'music',\n 'viv',\n 'cidad',\n 'fot',\n 'vej',\n 'realiz',\n 'debat',\n 'candidat',\n 'vicepresidenc',\n 'ond',\n 'prov',\n 'melhor',\n 'doc',\n 'curitib',\n 'paul',\n 'rabell',\n 'vic',\n 'alvar',\n 'dia',\n 'defend',\n 'posico',\n 'liberal',\n 'econom',\n 'ana',\n 'amel',\n 'vai',\n 'debat',\n 'elo',\n 'conserv',\n 'alckmin',\n 'campea',\n 'libert',\n 'pod',\n 'enfrent',\n 'afric',\n 'semif',\n 'mund',\n 'ministr',\n 'tse',\n 'vet',\n 'prim',\n 'program',\n 'veicul',\n 'pt',\n 'lul',\n 'robb',\n 'stark',\n 'diz',\n 'nao',\n 'receb',\n 'quas',\n 'nad',\n 'gam',\n 'of',\n 'thron',\n 'lat',\n 'realoc',\n 'funcionari',\n 'demit',\n 'seman',\n 'pass',\n 'vide',\n 'assist',\n 'gol',\n 'indic',\n 'premi',\n 'pusk',\n 'incendi',\n 'destro',\n 'patrimoni',\n 'cult',\n 'ano',\n 'brasil',\n 'cia',\n 'chopp',\n 'melhor',\n 'atend',\n 'capit',\n 'not',\n 'vermelh',\n 'ensin',\n 'valladolid',\n 'anunc',\n 'vend',\n 'aco',\n 'ronald',\n 'fenomen',\n 'mus',\n 'nacion',\n 'abrig',\n 'fossil',\n 'luz',\n 'esquelet',\n 'antig',\n 'amer',\n 'promov',\n 'debat',\n 'candidat',\n 'vicepresid',\n 'apoi',\n 'facebook',\n 'voc',\n 'pod',\n 'particip',\n 'envi',\n 'pergunt',\n 'sera',\n 'feit',\n 'viv',\n 'saud',\n 'princip',\n 'tem',\n 'estre',\n 'alckmin',\n 'tv',\n 'defês',\n 'lul',\n 'nao',\n 'dev',\n 'apresent',\n 'recurs',\n 'fim',\n 'seman',\n 'pt',\n 'fal',\n 'violenc',\n 'contr',\n 'lul',\n 'diz',\n 'vai',\n 'continu',\n 'recorr',\n 'melhor',\n 'pizz',\n 'curitib',\n 'aven',\n 'paul',\n 'pizz',\n 'rela',\n 'tse',\n 'barr',\n 'vot',\n 'rejeit',\n 'candidat',\n 'lul',\n 'vej',\n 'com',\n 'amp',\n 'beb',\n 'melhor',\n 'enderec',\n 'gastronom',\n 'curitib',\n 'formul',\n 'divulg',\n 'calendari',\n 'prox',\n 'tempor',\n 'lentrecot',\n 'paril',\n 'ipanem',\n 'morr',\n 'funk',\n 'mr',\n 'catr',\n 'ano',\n 'eleico',\n 'tod',\n 'pesquis',\n 'govern',\n 'mat',\n 'gross',\n 'eleico',\n 'tod',\n 'pesquis',\n 'govern',\n 'rio',\n 'grand',\n 'sul',\n 'quadr',\n 'saud',\n 'bolsonar',\n 'grav',\n 'estavel',\n 'diz',\n 'cirurgia',\n 'marad',\n 'assin',\n 'club',\n 'sinalo',\n 'mexic',\n 'tem',\n 'diz',\n 'ataqu',\n 'bolsonar',\n 'episodi',\n 'trist',\n 'lamenta',\n 'fac',\n 'bolsonar',\n 'superfic',\n 'nao',\n 'ha',\n 'risc',\n 'mort',\n 'diz',\n 'filh',\n 'deflaca',\n 'pod',\n 'ser',\n 'problem',\n 'econom',\n 'pompe',\n 'penc',\n 'neg',\n 'autor',\n 'artig',\n 'contr',\n 'trump',\n 'exlid',\n 'traf',\n 'roc',\n 'conden',\n 'ano',\n 'prisa',\n 'inquerit',\n 'pf',\n 've',\n 'corrupca',\n 'tem',\n 'padilh',\n 'mor',\n 'franc',\n 'osm',\n 'los',\n 'deix',\n 'carg',\n 'tecn',\n 'corinth',\n 'lat',\n 'vai',\n 'fech',\n 'capit',\n 'multiplu',\n 'incorpor',\n 'program',\n 'fidel',\n 'eua',\n 'vao',\n 'investig',\n 'red',\n 'soc',\n 'restrica',\n ...]"
     },
     "metadata": {},
     "execution_count": 27
    }
   ],
   "source": [
    "tokensPalavras"
   ]
  },
  {
   "cell_type": "code",
   "execution_count": 28,
   "metadata": {},
   "outputs": [],
   "source": [
    "frequenciaPalavras = nltk.FreqDist(todasPalavrasFiltradas)"
   ]
  },
  {
   "cell_type": "code",
   "execution_count": 29,
   "metadata": {},
   "outputs": [],
   "source": [
    "df_frequencia_palavras = pd.DataFrame({\n",
    "    'palavra': list(frequenciaPalavras.keys()),\n",
    "    'frequencia': list(frequenciaPalavras.values())\n",
    "})"
   ]
  },
  {
   "cell_type": "code",
   "execution_count": 30,
   "metadata": {},
   "outputs": [],
   "source": [
    "maisFrequentes = df_frequencia_palavras.nlargest(columns='frequencia', n=10)"
   ]
  },
  {
   "cell_type": "code",
   "execution_count": 31,
   "metadata": {},
   "outputs": [
    {
     "output_type": "display_data",
     "data": {
      "text/plain": "<Figure size 864x576 with 1 Axes>",
      "image/svg+xml": "<?xml version=\"1.0\" encoding=\"utf-8\" standalone=\"no\"?>\r\n<!DOCTYPE svg PUBLIC \"-//W3C//DTD SVG 1.1//EN\"\r\n  \"http://www.w3.org/Graphics/SVG/1.1/DTD/svg11.dtd\">\r\n<!-- Created with matplotlib (https://matplotlib.org/) -->\r\n<svg height=\"479.63625pt\" version=\"1.1\" viewBox=\"0 0 736.490625 479.63625\" width=\"736.490625pt\" xmlns=\"http://www.w3.org/2000/svg\" xmlns:xlink=\"http://www.w3.org/1999/xlink\">\r\n <defs>\r\n  <style type=\"text/css\">\r\n*{stroke-linecap:butt;stroke-linejoin:round;}\r\n  </style>\r\n </defs>\r\n <g id=\"figure_1\">\r\n  <g id=\"patch_1\">\r\n   <path d=\"M 0 479.63625 \r\nL 736.490625 479.63625 \r\nL 736.490625 0 \r\nL 0 0 \r\nz\r\n\" style=\"fill:none;\"/>\r\n  </g>\r\n  <g id=\"axes_1\">\r\n   <g id=\"patch_2\">\r\n    <path d=\"M 59.690625 442.08 \r\nL 729.290625 442.08 \r\nL 729.290625 7.2 \r\nL 59.690625 7.2 \r\nz\r\n\" style=\"fill:#ffffff;\"/>\r\n   </g>\r\n   <g id=\"patch_3\">\r\n    <path clip-path=\"url(#pda6d321023)\" d=\"M 66.386625 442.08 \r\nL 119.954625 442.08 \r\nL 119.954625 27.908571 \r\nL 66.386625 27.908571 \r\nz\r\n\" style=\"fill:#3274a1;\"/>\r\n   </g>\r\n   <g id=\"patch_4\">\r\n    <path clip-path=\"url(#pda6d321023)\" d=\"M 133.346625 442.08 \r\nL 186.914625 442.08 \r\nL 186.914625 203.874705 \r\nL 133.346625 203.874705 \r\nz\r\n\" style=\"fill:#e1812c;\"/>\r\n   </g>\r\n   <g id=\"patch_5\">\r\n    <path clip-path=\"url(#pda6d321023)\" d=\"M 200.306625 442.08 \r\nL 253.874625 442.08 \r\nL 253.874625 267.754495 \r\nL 200.306625 267.754495 \r\nz\r\n\" style=\"fill:#3a923a;\"/>\r\n   </g>\r\n   <g id=\"patch_6\">\r\n    <path clip-path=\"url(#pda6d321023)\" d=\"M 267.266625 442.08 \r\nL 320.834625 442.08 \r\nL 320.834625 278.505848 \r\nL 267.266625 278.505848 \r\nz\r\n\" style=\"fill:#c03d3e;\"/>\r\n   </g>\r\n   <g id=\"patch_7\">\r\n    <path clip-path=\"url(#pda6d321023)\" d=\"M 334.226625 442.08 \r\nL 387.794625 442.08 \r\nL 387.794625 280.181383 \r\nL 334.226625 280.181383 \r\nz\r\n\" style=\"fill:#9372b2;\"/>\r\n   </g>\r\n   <g id=\"patch_8\">\r\n    <path clip-path=\"url(#pda6d321023)\" d=\"M 401.186625 442.08 \r\nL 454.754625 442.08 \r\nL 454.754625 285.90613 \r\nL 401.186625 285.90613 \r\nz\r\n\" style=\"fill:#845b53;\"/>\r\n   </g>\r\n   <g id=\"patch_9\">\r\n    <path clip-path=\"url(#pda6d321023)\" d=\"M 468.146625 442.08 \r\nL 521.714625 442.08 \r\nL 521.714625 299.031158 \r\nL 468.146625 299.031158 \r\nz\r\n\" style=\"fill:#d684bd;\"/>\r\n   </g>\r\n   <g id=\"patch_10\">\r\n    <path clip-path=\"url(#pda6d321023)\" d=\"M 535.106625 442.08 \r\nL 588.674625 442.08 \r\nL 588.674625 315.297815 \r\nL 535.106625 315.297815 \r\nz\r\n\" style=\"fill:#7f7f7f;\"/>\r\n   </g>\r\n   <g id=\"patch_11\">\r\n    <path clip-path=\"url(#pda6d321023)\" d=\"M 602.066625 442.08 \r\nL 655.634625 442.08 \r\nL 655.634625 316.589373 \r\nL 602.066625 316.589373 \r\nz\r\n\" style=\"fill:#a9aa35;\"/>\r\n   </g>\r\n   <g id=\"patch_12\">\r\n    <path clip-path=\"url(#pda6d321023)\" d=\"M 669.026625 442.08 \r\nL 722.594625 442.08 \r\nL 722.594625 329.26061 \r\nL 669.026625 329.26061 \r\nz\r\n\" style=\"fill:#2eabb8;\"/>\r\n   </g>\r\n   <g id=\"matplotlib.axis_1\">\r\n    <g id=\"xtick_1\">\r\n     <g id=\"line2d_1\">\r\n      <defs>\r\n       <path d=\"M 0 0 \r\nL 0 3.5 \r\n\" id=\"m4936a1058b\" style=\"stroke:#000000;stroke-width:0.8;\"/>\r\n      </defs>\r\n      <g>\r\n       <use style=\"stroke:#000000;stroke-width:0.8;\" x=\"93.170625\" xlink:href=\"#m4936a1058b\" y=\"442.08\"/>\r\n      </g>\r\n     </g>\r\n     <g id=\"text_1\">\r\n      <!-- bolsonaro -->\r\n      <defs>\r\n       <path d=\"M 48.6875 27.296875 \r\nQ 48.6875 37.203125 44.609375 42.84375 \r\nQ 40.53125 48.484375 33.40625 48.484375 \r\nQ 26.265625 48.484375 22.1875 42.84375 \r\nQ 18.109375 37.203125 18.109375 27.296875 \r\nQ 18.109375 17.390625 22.1875 11.75 \r\nQ 26.265625 6.109375 33.40625 6.109375 \r\nQ 40.53125 6.109375 44.609375 11.75 \r\nQ 48.6875 17.390625 48.6875 27.296875 \r\nz\r\nM 18.109375 46.390625 \r\nQ 20.953125 51.265625 25.265625 53.625 \r\nQ 29.59375 56 35.59375 56 \r\nQ 45.5625 56 51.78125 48.09375 \r\nQ 58.015625 40.1875 58.015625 27.296875 \r\nQ 58.015625 14.40625 51.78125 6.484375 \r\nQ 45.5625 -1.421875 35.59375 -1.421875 \r\nQ 29.59375 -1.421875 25.265625 0.953125 \r\nQ 20.953125 3.328125 18.109375 8.203125 \r\nL 18.109375 0 \r\nL 9.078125 0 \r\nL 9.078125 75.984375 \r\nL 18.109375 75.984375 \r\nz\r\n\" id=\"DejaVuSans-98\"/>\r\n       <path d=\"M 30.609375 48.390625 \r\nQ 23.390625 48.390625 19.1875 42.75 \r\nQ 14.984375 37.109375 14.984375 27.296875 \r\nQ 14.984375 17.484375 19.15625 11.84375 \r\nQ 23.34375 6.203125 30.609375 6.203125 \r\nQ 37.796875 6.203125 41.984375 11.859375 \r\nQ 46.1875 17.53125 46.1875 27.296875 \r\nQ 46.1875 37.015625 41.984375 42.703125 \r\nQ 37.796875 48.390625 30.609375 48.390625 \r\nz\r\nM 30.609375 56 \r\nQ 42.328125 56 49.015625 48.375 \r\nQ 55.71875 40.765625 55.71875 27.296875 \r\nQ 55.71875 13.875 49.015625 6.21875 \r\nQ 42.328125 -1.421875 30.609375 -1.421875 \r\nQ 18.84375 -1.421875 12.171875 6.21875 \r\nQ 5.515625 13.875 5.515625 27.296875 \r\nQ 5.515625 40.765625 12.171875 48.375 \r\nQ 18.84375 56 30.609375 56 \r\nz\r\n\" id=\"DejaVuSans-111\"/>\r\n       <path d=\"M 9.421875 75.984375 \r\nL 18.40625 75.984375 \r\nL 18.40625 0 \r\nL 9.421875 0 \r\nz\r\n\" id=\"DejaVuSans-108\"/>\r\n       <path d=\"M 44.28125 53.078125 \r\nL 44.28125 44.578125 \r\nQ 40.484375 46.53125 36.375 47.5 \r\nQ 32.28125 48.484375 27.875 48.484375 \r\nQ 21.1875 48.484375 17.84375 46.4375 \r\nQ 14.5 44.390625 14.5 40.28125 \r\nQ 14.5 37.15625 16.890625 35.375 \r\nQ 19.28125 33.59375 26.515625 31.984375 \r\nL 29.59375 31.296875 \r\nQ 39.15625 29.25 43.1875 25.515625 \r\nQ 47.21875 21.78125 47.21875 15.09375 \r\nQ 47.21875 7.46875 41.1875 3.015625 \r\nQ 35.15625 -1.421875 24.609375 -1.421875 \r\nQ 20.21875 -1.421875 15.453125 -0.5625 \r\nQ 10.6875 0.296875 5.421875 2 \r\nL 5.421875 11.28125 \r\nQ 10.40625 8.6875 15.234375 7.390625 \r\nQ 20.0625 6.109375 24.8125 6.109375 \r\nQ 31.15625 6.109375 34.5625 8.28125 \r\nQ 37.984375 10.453125 37.984375 14.40625 \r\nQ 37.984375 18.0625 35.515625 20.015625 \r\nQ 33.0625 21.96875 24.703125 23.78125 \r\nL 21.578125 24.515625 \r\nQ 13.234375 26.265625 9.515625 29.90625 \r\nQ 5.8125 33.546875 5.8125 39.890625 \r\nQ 5.8125 47.609375 11.28125 51.796875 \r\nQ 16.75 56 26.8125 56 \r\nQ 31.78125 56 36.171875 55.265625 \r\nQ 40.578125 54.546875 44.28125 53.078125 \r\nz\r\n\" id=\"DejaVuSans-115\"/>\r\n       <path d=\"M 54.890625 33.015625 \r\nL 54.890625 0 \r\nL 45.90625 0 \r\nL 45.90625 32.71875 \r\nQ 45.90625 40.484375 42.875 44.328125 \r\nQ 39.84375 48.1875 33.796875 48.1875 \r\nQ 26.515625 48.1875 22.3125 43.546875 \r\nQ 18.109375 38.921875 18.109375 30.90625 \r\nL 18.109375 0 \r\nL 9.078125 0 \r\nL 9.078125 54.6875 \r\nL 18.109375 54.6875 \r\nL 18.109375 46.1875 \r\nQ 21.34375 51.125 25.703125 53.5625 \r\nQ 30.078125 56 35.796875 56 \r\nQ 45.21875 56 50.046875 50.171875 \r\nQ 54.890625 44.34375 54.890625 33.015625 \r\nz\r\n\" id=\"DejaVuSans-110\"/>\r\n       <path d=\"M 34.28125 27.484375 \r\nQ 23.390625 27.484375 19.1875 25 \r\nQ 14.984375 22.515625 14.984375 16.5 \r\nQ 14.984375 11.71875 18.140625 8.90625 \r\nQ 21.296875 6.109375 26.703125 6.109375 \r\nQ 34.1875 6.109375 38.703125 11.40625 \r\nQ 43.21875 16.703125 43.21875 25.484375 \r\nL 43.21875 27.484375 \r\nz\r\nM 52.203125 31.203125 \r\nL 52.203125 0 \r\nL 43.21875 0 \r\nL 43.21875 8.296875 \r\nQ 40.140625 3.328125 35.546875 0.953125 \r\nQ 30.953125 -1.421875 24.3125 -1.421875 \r\nQ 15.921875 -1.421875 10.953125 3.296875 \r\nQ 6 8.015625 6 15.921875 \r\nQ 6 25.140625 12.171875 29.828125 \r\nQ 18.359375 34.515625 30.609375 34.515625 \r\nL 43.21875 34.515625 \r\nL 43.21875 35.40625 \r\nQ 43.21875 41.609375 39.140625 45 \r\nQ 35.0625 48.390625 27.6875 48.390625 \r\nQ 23 48.390625 18.546875 47.265625 \r\nQ 14.109375 46.140625 10.015625 43.890625 \r\nL 10.015625 52.203125 \r\nQ 14.9375 54.109375 19.578125 55.046875 \r\nQ 24.21875 56 28.609375 56 \r\nQ 40.484375 56 46.34375 49.84375 \r\nQ 52.203125 43.703125 52.203125 31.203125 \r\nz\r\n\" id=\"DejaVuSans-97\"/>\r\n       <path d=\"M 41.109375 46.296875 \r\nQ 39.59375 47.171875 37.8125 47.578125 \r\nQ 36.03125 48 33.890625 48 \r\nQ 26.265625 48 22.1875 43.046875 \r\nQ 18.109375 38.09375 18.109375 28.8125 \r\nL 18.109375 0 \r\nL 9.078125 0 \r\nL 9.078125 54.6875 \r\nL 18.109375 54.6875 \r\nL 18.109375 46.1875 \r\nQ 20.953125 51.171875 25.484375 53.578125 \r\nQ 30.03125 56 36.53125 56 \r\nQ 37.453125 56 38.578125 55.875 \r\nQ 39.703125 55.765625 41.0625 55.515625 \r\nz\r\n\" id=\"DejaVuSans-114\"/>\r\n      </defs>\r\n      <g transform=\"translate(68.64875 456.678437)scale(0.1 -0.1)\">\r\n       <use xlink:href=\"#DejaVuSans-98\"/>\r\n       <use x=\"63.476562\" xlink:href=\"#DejaVuSans-111\"/>\r\n       <use x=\"124.658203\" xlink:href=\"#DejaVuSans-108\"/>\r\n       <use x=\"152.441406\" xlink:href=\"#DejaVuSans-115\"/>\r\n       <use x=\"204.541016\" xlink:href=\"#DejaVuSans-111\"/>\r\n       <use x=\"265.722656\" xlink:href=\"#DejaVuSans-110\"/>\r\n       <use x=\"329.101562\" xlink:href=\"#DejaVuSans-97\"/>\r\n       <use x=\"390.380859\" xlink:href=\"#DejaVuSans-114\"/>\r\n       <use x=\"429.244141\" xlink:href=\"#DejaVuSans-111\"/>\r\n      </g>\r\n     </g>\r\n    </g>\r\n    <g id=\"xtick_2\">\r\n     <g id=\"line2d_2\">\r\n      <g>\r\n       <use style=\"stroke:#000000;stroke-width:0.8;\" x=\"160.130625\" xlink:href=\"#m4936a1058b\" y=\"442.08\"/>\r\n      </g>\r\n     </g>\r\n     <g id=\"text_2\">\r\n      <!-- haddad -->\r\n      <defs>\r\n       <path d=\"M 54.890625 33.015625 \r\nL 54.890625 0 \r\nL 45.90625 0 \r\nL 45.90625 32.71875 \r\nQ 45.90625 40.484375 42.875 44.328125 \r\nQ 39.84375 48.1875 33.796875 48.1875 \r\nQ 26.515625 48.1875 22.3125 43.546875 \r\nQ 18.109375 38.921875 18.109375 30.90625 \r\nL 18.109375 0 \r\nL 9.078125 0 \r\nL 9.078125 75.984375 \r\nL 18.109375 75.984375 \r\nL 18.109375 46.1875 \r\nQ 21.34375 51.125 25.703125 53.5625 \r\nQ 30.078125 56 35.796875 56 \r\nQ 45.21875 56 50.046875 50.171875 \r\nQ 54.890625 44.34375 54.890625 33.015625 \r\nz\r\n\" id=\"DejaVuSans-104\"/>\r\n       <path d=\"M 45.40625 46.390625 \r\nL 45.40625 75.984375 \r\nL 54.390625 75.984375 \r\nL 54.390625 0 \r\nL 45.40625 0 \r\nL 45.40625 8.203125 \r\nQ 42.578125 3.328125 38.25 0.953125 \r\nQ 33.9375 -1.421875 27.875 -1.421875 \r\nQ 17.96875 -1.421875 11.734375 6.484375 \r\nQ 5.515625 14.40625 5.515625 27.296875 \r\nQ 5.515625 40.1875 11.734375 48.09375 \r\nQ 17.96875 56 27.875 56 \r\nQ 33.9375 56 38.25 53.625 \r\nQ 42.578125 51.265625 45.40625 46.390625 \r\nz\r\nM 14.796875 27.296875 \r\nQ 14.796875 17.390625 18.875 11.75 \r\nQ 22.953125 6.109375 30.078125 6.109375 \r\nQ 37.203125 6.109375 41.296875 11.75 \r\nQ 45.40625 17.390625 45.40625 27.296875 \r\nQ 45.40625 37.203125 41.296875 42.84375 \r\nQ 37.203125 48.484375 30.078125 48.484375 \r\nQ 22.953125 48.484375 18.875 42.84375 \r\nQ 14.796875 37.203125 14.796875 27.296875 \r\nz\r\n\" id=\"DejaVuSans-100\"/>\r\n      </defs>\r\n      <g transform=\"translate(141.311094 456.678437)scale(0.1 -0.1)\">\r\n       <use xlink:href=\"#DejaVuSans-104\"/>\r\n       <use x=\"63.378906\" xlink:href=\"#DejaVuSans-97\"/>\r\n       <use x=\"124.658203\" xlink:href=\"#DejaVuSans-100\"/>\r\n       <use x=\"188.134766\" xlink:href=\"#DejaVuSans-100\"/>\r\n       <use x=\"251.611328\" xlink:href=\"#DejaVuSans-97\"/>\r\n       <use x=\"312.890625\" xlink:href=\"#DejaVuSans-100\"/>\r\n      </g>\r\n     </g>\r\n    </g>\r\n    <g id=\"xtick_3\">\r\n     <g id=\"line2d_3\">\r\n      <g>\r\n       <use style=\"stroke:#000000;stroke-width:0.8;\" x=\"227.090625\" xlink:href=\"#m4936a1058b\" y=\"442.08\"/>\r\n      </g>\r\n     </g>\r\n     <g id=\"text_3\">\r\n      <!-- votar -->\r\n      <defs>\r\n       <path d=\"M 2.984375 54.6875 \r\nL 12.5 54.6875 \r\nL 29.59375 8.796875 \r\nL 46.6875 54.6875 \r\nL 56.203125 54.6875 \r\nL 35.6875 0 \r\nL 23.484375 0 \r\nz\r\n\" id=\"DejaVuSans-118\"/>\r\n       <path d=\"M 18.3125 70.21875 \r\nL 18.3125 54.6875 \r\nL 36.8125 54.6875 \r\nL 36.8125 47.703125 \r\nL 18.3125 47.703125 \r\nL 18.3125 18.015625 \r\nQ 18.3125 11.328125 20.140625 9.421875 \r\nQ 21.96875 7.515625 27.59375 7.515625 \r\nL 36.8125 7.515625 \r\nL 36.8125 0 \r\nL 27.59375 0 \r\nQ 17.1875 0 13.234375 3.875 \r\nQ 9.28125 7.765625 9.28125 18.015625 \r\nL 9.28125 47.703125 \r\nL 2.6875 47.703125 \r\nL 2.6875 54.6875 \r\nL 9.28125 54.6875 \r\nL 9.28125 70.21875 \r\nz\r\n\" id=\"DejaVuSans-116\"/>\r\n      </defs>\r\n      <g transform=\"translate(213.992188 456.678437)scale(0.1 -0.1)\">\r\n       <use xlink:href=\"#DejaVuSans-118\"/>\r\n       <use x=\"59.179688\" xlink:href=\"#DejaVuSans-111\"/>\r\n       <use x=\"120.361328\" xlink:href=\"#DejaVuSans-116\"/>\r\n       <use x=\"159.570312\" xlink:href=\"#DejaVuSans-97\"/>\r\n       <use x=\"220.849609\" xlink:href=\"#DejaVuSans-114\"/>\r\n      </g>\r\n     </g>\r\n    </g>\r\n    <g id=\"xtick_4\">\r\n     <g id=\"line2d_4\">\r\n      <g>\r\n       <use style=\"stroke:#000000;stroke-width:0.8;\" x=\"294.050625\" xlink:href=\"#m4936a1058b\" y=\"442.08\"/>\r\n      </g>\r\n     </g>\r\n     <g id=\"text_4\">\r\n      <!-- candidato -->\r\n      <defs>\r\n       <path d=\"M 48.78125 52.59375 \r\nL 48.78125 44.1875 \r\nQ 44.96875 46.296875 41.140625 47.34375 \r\nQ 37.3125 48.390625 33.40625 48.390625 \r\nQ 24.65625 48.390625 19.8125 42.84375 \r\nQ 14.984375 37.3125 14.984375 27.296875 \r\nQ 14.984375 17.28125 19.8125 11.734375 \r\nQ 24.65625 6.203125 33.40625 6.203125 \r\nQ 37.3125 6.203125 41.140625 7.25 \r\nQ 44.96875 8.296875 48.78125 10.40625 \r\nL 48.78125 2.09375 \r\nQ 45.015625 0.34375 40.984375 -0.53125 \r\nQ 36.96875 -1.421875 32.421875 -1.421875 \r\nQ 20.0625 -1.421875 12.78125 6.34375 \r\nQ 5.515625 14.109375 5.515625 27.296875 \r\nQ 5.515625 40.671875 12.859375 48.328125 \r\nQ 20.21875 56 33.015625 56 \r\nQ 37.15625 56 41.109375 55.140625 \r\nQ 45.0625 54.296875 48.78125 52.59375 \r\nz\r\n\" id=\"DejaVuSans-99\"/>\r\n       <path d=\"M 9.421875 54.6875 \r\nL 18.40625 54.6875 \r\nL 18.40625 0 \r\nL 9.421875 0 \r\nz\r\nM 9.421875 75.984375 \r\nL 18.40625 75.984375 \r\nL 18.40625 64.59375 \r\nL 9.421875 64.59375 \r\nz\r\n\" id=\"DejaVuSans-105\"/>\r\n      </defs>\r\n      <g transform=\"translate(269.2475 456.678437)scale(0.1 -0.1)\">\r\n       <use xlink:href=\"#DejaVuSans-99\"/>\r\n       <use x=\"54.980469\" xlink:href=\"#DejaVuSans-97\"/>\r\n       <use x=\"116.259766\" xlink:href=\"#DejaVuSans-110\"/>\r\n       <use x=\"179.638672\" xlink:href=\"#DejaVuSans-100\"/>\r\n       <use x=\"243.115234\" xlink:href=\"#DejaVuSans-105\"/>\r\n       <use x=\"270.898438\" xlink:href=\"#DejaVuSans-100\"/>\r\n       <use x=\"334.375\" xlink:href=\"#DejaVuSans-97\"/>\r\n       <use x=\"395.654297\" xlink:href=\"#DejaVuSans-116\"/>\r\n       <use x=\"434.863281\" xlink:href=\"#DejaVuSans-111\"/>\r\n      </g>\r\n     </g>\r\n    </g>\r\n    <g id=\"xtick_5\">\r\n     <g id=\"line2d_5\">\r\n      <g>\r\n       <use style=\"stroke:#000000;stroke-width:0.8;\" x=\"361.010625\" xlink:href=\"#m4936a1058b\" y=\"442.08\"/>\r\n      </g>\r\n     </g>\r\n     <g id=\"text_5\">\r\n      <!-- sobre -->\r\n      <defs>\r\n       <path d=\"M 56.203125 29.59375 \r\nL 56.203125 25.203125 \r\nL 14.890625 25.203125 \r\nQ 15.484375 15.921875 20.484375 11.0625 \r\nQ 25.484375 6.203125 34.421875 6.203125 \r\nQ 39.59375 6.203125 44.453125 7.46875 \r\nQ 49.3125 8.734375 54.109375 11.28125 \r\nL 54.109375 2.78125 \r\nQ 49.265625 0.734375 44.1875 -0.34375 \r\nQ 39.109375 -1.421875 33.890625 -1.421875 \r\nQ 20.796875 -1.421875 13.15625 6.1875 \r\nQ 5.515625 13.8125 5.515625 26.8125 \r\nQ 5.515625 40.234375 12.765625 48.109375 \r\nQ 20.015625 56 32.328125 56 \r\nQ 43.359375 56 49.78125 48.890625 \r\nQ 56.203125 41.796875 56.203125 29.59375 \r\nz\r\nM 47.21875 32.234375 \r\nQ 47.125 39.59375 43.09375 43.984375 \r\nQ 39.0625 48.390625 32.421875 48.390625 \r\nQ 24.90625 48.390625 20.390625 44.140625 \r\nQ 15.875 39.890625 15.1875 32.171875 \r\nz\r\n\" id=\"DejaVuSans-101\"/>\r\n      </defs>\r\n      <g transform=\"translate(347.152812 456.678437)scale(0.1 -0.1)\">\r\n       <use xlink:href=\"#DejaVuSans-115\"/>\r\n       <use x=\"52.099609\" xlink:href=\"#DejaVuSans-111\"/>\r\n       <use x=\"113.28125\" xlink:href=\"#DejaVuSans-98\"/>\r\n       <use x=\"176.757812\" xlink:href=\"#DejaVuSans-114\"/>\r\n       <use x=\"215.621094\" xlink:href=\"#DejaVuSans-101\"/>\r\n      </g>\r\n     </g>\r\n    </g>\r\n    <g id=\"xtick_6\">\r\n     <g id=\"line2d_6\">\r\n      <g>\r\n       <use style=\"stroke:#000000;stroke-width:0.8;\" x=\"427.970625\" xlink:href=\"#m4936a1058b\" y=\"442.08\"/>\r\n      </g>\r\n     </g>\r\n     <g id=\"text_6\">\r\n      <!-- politica -->\r\n      <defs>\r\n       <path d=\"M 18.109375 8.203125 \r\nL 18.109375 -20.796875 \r\nL 9.078125 -20.796875 \r\nL 9.078125 54.6875 \r\nL 18.109375 54.6875 \r\nL 18.109375 46.390625 \r\nQ 20.953125 51.265625 25.265625 53.625 \r\nQ 29.59375 56 35.59375 56 \r\nQ 45.5625 56 51.78125 48.09375 \r\nQ 58.015625 40.1875 58.015625 27.296875 \r\nQ 58.015625 14.40625 51.78125 6.484375 \r\nQ 45.5625 -1.421875 35.59375 -1.421875 \r\nQ 29.59375 -1.421875 25.265625 0.953125 \r\nQ 20.953125 3.328125 18.109375 8.203125 \r\nz\r\nM 48.6875 27.296875 \r\nQ 48.6875 37.203125 44.609375 42.84375 \r\nQ 40.53125 48.484375 33.40625 48.484375 \r\nQ 26.265625 48.484375 22.1875 42.84375 \r\nQ 18.109375 37.203125 18.109375 27.296875 \r\nQ 18.109375 17.390625 22.1875 11.75 \r\nQ 26.265625 6.109375 33.40625 6.109375 \r\nQ 40.53125 6.109375 44.609375 11.75 \r\nQ 48.6875 17.390625 48.6875 27.296875 \r\nz\r\n\" id=\"DejaVuSans-112\"/>\r\n      </defs>\r\n      <g transform=\"translate(409.796406 456.678437)scale(0.1 -0.1)\">\r\n       <use xlink:href=\"#DejaVuSans-112\"/>\r\n       <use x=\"63.476562\" xlink:href=\"#DejaVuSans-111\"/>\r\n       <use x=\"124.658203\" xlink:href=\"#DejaVuSans-108\"/>\r\n       <use x=\"152.441406\" xlink:href=\"#DejaVuSans-105\"/>\r\n       <use x=\"180.224609\" xlink:href=\"#DejaVuSans-116\"/>\r\n       <use x=\"219.433594\" xlink:href=\"#DejaVuSans-105\"/>\r\n       <use x=\"247.216797\" xlink:href=\"#DejaVuSans-99\"/>\r\n       <use x=\"302.197266\" xlink:href=\"#DejaVuSans-97\"/>\r\n      </g>\r\n     </g>\r\n    </g>\r\n    <g id=\"xtick_7\">\r\n     <g id=\"line2d_7\">\r\n      <g>\r\n       <use style=\"stroke:#000000;stroke-width:0.8;\" x=\"494.930625\" xlink:href=\"#m4936a1058b\" y=\"442.08\"/>\r\n      </g>\r\n     </g>\r\n     <g id=\"text_7\">\r\n      <!-- gente -->\r\n      <defs>\r\n       <path d=\"M 45.40625 27.984375 \r\nQ 45.40625 37.75 41.375 43.109375 \r\nQ 37.359375 48.484375 30.078125 48.484375 \r\nQ 22.859375 48.484375 18.828125 43.109375 \r\nQ 14.796875 37.75 14.796875 27.984375 \r\nQ 14.796875 18.265625 18.828125 12.890625 \r\nQ 22.859375 7.515625 30.078125 7.515625 \r\nQ 37.359375 7.515625 41.375 12.890625 \r\nQ 45.40625 18.265625 45.40625 27.984375 \r\nz\r\nM 54.390625 6.78125 \r\nQ 54.390625 -7.171875 48.1875 -13.984375 \r\nQ 42 -20.796875 29.203125 -20.796875 \r\nQ 24.46875 -20.796875 20.265625 -20.09375 \r\nQ 16.0625 -19.390625 12.109375 -17.921875 \r\nL 12.109375 -9.1875 \r\nQ 16.0625 -11.328125 19.921875 -12.34375 \r\nQ 23.78125 -13.375 27.78125 -13.375 \r\nQ 36.625 -13.375 41.015625 -8.765625 \r\nQ 45.40625 -4.15625 45.40625 5.171875 \r\nL 45.40625 9.625 \r\nQ 42.625 4.78125 38.28125 2.390625 \r\nQ 33.9375 0 27.875 0 \r\nQ 17.828125 0 11.671875 7.65625 \r\nQ 5.515625 15.328125 5.515625 27.984375 \r\nQ 5.515625 40.671875 11.671875 48.328125 \r\nQ 17.828125 56 27.875 56 \r\nQ 33.9375 56 38.28125 53.609375 \r\nQ 42.625 51.21875 45.40625 46.390625 \r\nL 45.40625 54.6875 \r\nL 54.390625 54.6875 \r\nz\r\n\" id=\"DejaVuSans-103\"/>\r\n      </defs>\r\n      <g transform=\"translate(480.474375 456.678437)scale(0.1 -0.1)\">\r\n       <use xlink:href=\"#DejaVuSans-103\"/>\r\n       <use x=\"63.476562\" xlink:href=\"#DejaVuSans-101\"/>\r\n       <use x=\"125\" xlink:href=\"#DejaVuSans-110\"/>\r\n       <use x=\"188.378906\" xlink:href=\"#DejaVuSans-116\"/>\r\n       <use x=\"227.587891\" xlink:href=\"#DejaVuSans-101\"/>\r\n      </g>\r\n     </g>\r\n    </g>\r\n    <g id=\"xtick_8\">\r\n     <g id=\"line2d_8\">\r\n      <g>\r\n       <use style=\"stroke:#000000;stroke-width:0.8;\" x=\"561.890625\" xlink:href=\"#m4936a1058b\" y=\"442.08\"/>\r\n      </g>\r\n     </g>\r\n     <g id=\"text_8\">\r\n      <!-- brasil -->\r\n      <g transform=\"translate(548.214062 456.678437)scale(0.1 -0.1)\">\r\n       <use xlink:href=\"#DejaVuSans-98\"/>\r\n       <use x=\"63.476562\" xlink:href=\"#DejaVuSans-114\"/>\r\n       <use x=\"104.589844\" xlink:href=\"#DejaVuSans-97\"/>\r\n       <use x=\"165.869141\" xlink:href=\"#DejaVuSans-115\"/>\r\n       <use x=\"217.96875\" xlink:href=\"#DejaVuSans-105\"/>\r\n       <use x=\"245.751953\" xlink:href=\"#DejaVuSans-108\"/>\r\n      </g>\r\n     </g>\r\n    </g>\r\n    <g id=\"xtick_9\">\r\n     <g id=\"line2d_9\">\r\n      <g>\r\n       <use style=\"stroke:#000000;stroke-width:0.8;\" x=\"628.850625\" xlink:href=\"#m4936a1058b\" y=\"442.08\"/>\r\n      </g>\r\n     </g>\r\n     <g id=\"text_9\">\r\n      <!-- turno -->\r\n      <defs>\r\n       <path d=\"M 8.5 21.578125 \r\nL 8.5 54.6875 \r\nL 17.484375 54.6875 \r\nL 17.484375 21.921875 \r\nQ 17.484375 14.15625 20.5 10.265625 \r\nQ 23.53125 6.390625 29.59375 6.390625 \r\nQ 36.859375 6.390625 41.078125 11.03125 \r\nQ 45.3125 15.671875 45.3125 23.6875 \r\nL 45.3125 54.6875 \r\nL 54.296875 54.6875 \r\nL 54.296875 0 \r\nL 45.3125 0 \r\nL 45.3125 8.40625 \r\nQ 42.046875 3.421875 37.71875 1 \r\nQ 33.40625 -1.421875 27.6875 -1.421875 \r\nQ 18.265625 -1.421875 13.375 4.4375 \r\nQ 8.5 10.296875 8.5 21.578125 \r\nz\r\nM 31.109375 56 \r\nz\r\n\" id=\"DejaVuSans-117\"/>\r\n      </defs>\r\n      <g transform=\"translate(615.525625 456.678437)scale(0.1 -0.1)\">\r\n       <use xlink:href=\"#DejaVuSans-116\"/>\r\n       <use x=\"39.208984\" xlink:href=\"#DejaVuSans-117\"/>\r\n       <use x=\"102.587891\" xlink:href=\"#DejaVuSans-114\"/>\r\n       <use x=\"141.951172\" xlink:href=\"#DejaVuSans-110\"/>\r\n       <use x=\"205.330078\" xlink:href=\"#DejaVuSans-111\"/>\r\n      </g>\r\n     </g>\r\n    </g>\r\n    <g id=\"xtick_10\">\r\n     <g id=\"line2d_10\">\r\n      <g>\r\n       <use style=\"stroke:#000000;stroke-width:0.8;\" x=\"695.810625\" xlink:href=\"#m4936a1058b\" y=\"442.08\"/>\r\n      </g>\r\n     </g>\r\n     <g id=\"text_10\">\r\n      <!-- governo -->\r\n      <g transform=\"translate(675.345 456.678437)scale(0.1 -0.1)\">\r\n       <use xlink:href=\"#DejaVuSans-103\"/>\r\n       <use x=\"63.476562\" xlink:href=\"#DejaVuSans-111\"/>\r\n       <use x=\"124.658203\" xlink:href=\"#DejaVuSans-118\"/>\r\n       <use x=\"183.837891\" xlink:href=\"#DejaVuSans-101\"/>\r\n       <use x=\"245.361328\" xlink:href=\"#DejaVuSans-114\"/>\r\n       <use x=\"284.724609\" xlink:href=\"#DejaVuSans-110\"/>\r\n       <use x=\"348.103516\" xlink:href=\"#DejaVuSans-111\"/>\r\n      </g>\r\n     </g>\r\n    </g>\r\n    <g id=\"text_11\">\r\n     <!-- palavra -->\r\n     <g transform=\"translate(375.720313 470.356562)scale(0.1 -0.1)\">\r\n      <use xlink:href=\"#DejaVuSans-112\"/>\r\n      <use x=\"63.476562\" xlink:href=\"#DejaVuSans-97\"/>\r\n      <use x=\"124.755859\" xlink:href=\"#DejaVuSans-108\"/>\r\n      <use x=\"152.539062\" xlink:href=\"#DejaVuSans-97\"/>\r\n      <use x=\"213.818359\" xlink:href=\"#DejaVuSans-118\"/>\r\n      <use x=\"272.998047\" xlink:href=\"#DejaVuSans-114\"/>\r\n      <use x=\"314.111328\" xlink:href=\"#DejaVuSans-97\"/>\r\n     </g>\r\n    </g>\r\n   </g>\r\n   <g id=\"matplotlib.axis_2\">\r\n    <g id=\"ytick_1\">\r\n     <g id=\"line2d_11\">\r\n      <defs>\r\n       <path d=\"M 0 0 \r\nL -3.5 0 \r\n\" id=\"mc54221d618\" style=\"stroke:#000000;stroke-width:0.8;\"/>\r\n      </defs>\r\n      <g>\r\n       <use style=\"stroke:#000000;stroke-width:0.8;\" x=\"59.690625\" xlink:href=\"#mc54221d618\" y=\"442.08\"/>\r\n      </g>\r\n     </g>\r\n     <g id=\"text_12\">\r\n      <!-- 0 -->\r\n      <defs>\r\n       <path d=\"M 31.78125 66.40625 \r\nQ 24.171875 66.40625 20.328125 58.90625 \r\nQ 16.5 51.421875 16.5 36.375 \r\nQ 16.5 21.390625 20.328125 13.890625 \r\nQ 24.171875 6.390625 31.78125 6.390625 \r\nQ 39.453125 6.390625 43.28125 13.890625 \r\nQ 47.125 21.390625 47.125 36.375 \r\nQ 47.125 51.421875 43.28125 58.90625 \r\nQ 39.453125 66.40625 31.78125 66.40625 \r\nz\r\nM 31.78125 74.21875 \r\nQ 44.046875 74.21875 50.515625 64.515625 \r\nQ 56.984375 54.828125 56.984375 36.375 \r\nQ 56.984375 17.96875 50.515625 8.265625 \r\nQ 44.046875 -1.421875 31.78125 -1.421875 \r\nQ 19.53125 -1.421875 13.0625 8.265625 \r\nQ 6.59375 17.96875 6.59375 36.375 \r\nQ 6.59375 54.828125 13.0625 64.515625 \r\nQ 19.53125 74.21875 31.78125 74.21875 \r\nz\r\n\" id=\"DejaVuSans-48\"/>\r\n      </defs>\r\n      <g transform=\"translate(46.328125 445.879219)scale(0.1 -0.1)\">\r\n       <use xlink:href=\"#DejaVuSans-48\"/>\r\n      </g>\r\n     </g>\r\n    </g>\r\n    <g id=\"ytick_2\">\r\n     <g id=\"line2d_12\">\r\n      <g>\r\n       <use style=\"stroke:#000000;stroke-width:0.8;\" x=\"59.690625\" xlink:href=\"#mc54221d618\" y=\"372.266021\"/>\r\n      </g>\r\n     </g>\r\n     <g id=\"text_13\">\r\n      <!-- 2000 -->\r\n      <defs>\r\n       <path d=\"M 19.1875 8.296875 \r\nL 53.609375 8.296875 \r\nL 53.609375 0 \r\nL 7.328125 0 \r\nL 7.328125 8.296875 \r\nQ 12.9375 14.109375 22.625 23.890625 \r\nQ 32.328125 33.6875 34.8125 36.53125 \r\nQ 39.546875 41.84375 41.421875 45.53125 \r\nQ 43.3125 49.21875 43.3125 52.78125 \r\nQ 43.3125 58.59375 39.234375 62.25 \r\nQ 35.15625 65.921875 28.609375 65.921875 \r\nQ 23.96875 65.921875 18.8125 64.3125 \r\nQ 13.671875 62.703125 7.8125 59.421875 \r\nL 7.8125 69.390625 \r\nQ 13.765625 71.78125 18.9375 73 \r\nQ 24.125 74.21875 28.421875 74.21875 \r\nQ 39.75 74.21875 46.484375 68.546875 \r\nQ 53.21875 62.890625 53.21875 53.421875 \r\nQ 53.21875 48.921875 51.53125 44.890625 \r\nQ 49.859375 40.875 45.40625 35.40625 \r\nQ 44.1875 33.984375 37.640625 27.21875 \r\nQ 31.109375 20.453125 19.1875 8.296875 \r\nz\r\n\" id=\"DejaVuSans-50\"/>\r\n      </defs>\r\n      <g transform=\"translate(27.240625 376.06524)scale(0.1 -0.1)\">\r\n       <use xlink:href=\"#DejaVuSans-50\"/>\r\n       <use x=\"63.623047\" xlink:href=\"#DejaVuSans-48\"/>\r\n       <use x=\"127.246094\" xlink:href=\"#DejaVuSans-48\"/>\r\n       <use x=\"190.869141\" xlink:href=\"#DejaVuSans-48\"/>\r\n      </g>\r\n     </g>\r\n    </g>\r\n    <g id=\"ytick_3\">\r\n     <g id=\"line2d_13\">\r\n      <g>\r\n       <use style=\"stroke:#000000;stroke-width:0.8;\" x=\"59.690625\" xlink:href=\"#mc54221d618\" y=\"302.452043\"/>\r\n      </g>\r\n     </g>\r\n     <g id=\"text_14\">\r\n      <!-- 4000 -->\r\n      <defs>\r\n       <path d=\"M 37.796875 64.3125 \r\nL 12.890625 25.390625 \r\nL 37.796875 25.390625 \r\nz\r\nM 35.203125 72.90625 \r\nL 47.609375 72.90625 \r\nL 47.609375 25.390625 \r\nL 58.015625 25.390625 \r\nL 58.015625 17.1875 \r\nL 47.609375 17.1875 \r\nL 47.609375 0 \r\nL 37.796875 0 \r\nL 37.796875 17.1875 \r\nL 4.890625 17.1875 \r\nL 4.890625 26.703125 \r\nz\r\n\" id=\"DejaVuSans-52\"/>\r\n      </defs>\r\n      <g transform=\"translate(27.240625 306.251261)scale(0.1 -0.1)\">\r\n       <use xlink:href=\"#DejaVuSans-52\"/>\r\n       <use x=\"63.623047\" xlink:href=\"#DejaVuSans-48\"/>\r\n       <use x=\"127.246094\" xlink:href=\"#DejaVuSans-48\"/>\r\n       <use x=\"190.869141\" xlink:href=\"#DejaVuSans-48\"/>\r\n      </g>\r\n     </g>\r\n    </g>\r\n    <g id=\"ytick_4\">\r\n     <g id=\"line2d_14\">\r\n      <g>\r\n       <use style=\"stroke:#000000;stroke-width:0.8;\" x=\"59.690625\" xlink:href=\"#mc54221d618\" y=\"232.638064\"/>\r\n      </g>\r\n     </g>\r\n     <g id=\"text_15\">\r\n      <!-- 6000 -->\r\n      <defs>\r\n       <path d=\"M 33.015625 40.375 \r\nQ 26.375 40.375 22.484375 35.828125 \r\nQ 18.609375 31.296875 18.609375 23.390625 \r\nQ 18.609375 15.53125 22.484375 10.953125 \r\nQ 26.375 6.390625 33.015625 6.390625 \r\nQ 39.65625 6.390625 43.53125 10.953125 \r\nQ 47.40625 15.53125 47.40625 23.390625 \r\nQ 47.40625 31.296875 43.53125 35.828125 \r\nQ 39.65625 40.375 33.015625 40.375 \r\nz\r\nM 52.59375 71.296875 \r\nL 52.59375 62.3125 \r\nQ 48.875 64.0625 45.09375 64.984375 \r\nQ 41.3125 65.921875 37.59375 65.921875 \r\nQ 27.828125 65.921875 22.671875 59.328125 \r\nQ 17.53125 52.734375 16.796875 39.40625 \r\nQ 19.671875 43.65625 24.015625 45.921875 \r\nQ 28.375 48.1875 33.59375 48.1875 \r\nQ 44.578125 48.1875 50.953125 41.515625 \r\nQ 57.328125 34.859375 57.328125 23.390625 \r\nQ 57.328125 12.15625 50.6875 5.359375 \r\nQ 44.046875 -1.421875 33.015625 -1.421875 \r\nQ 20.359375 -1.421875 13.671875 8.265625 \r\nQ 6.984375 17.96875 6.984375 36.375 \r\nQ 6.984375 53.65625 15.1875 63.9375 \r\nQ 23.390625 74.21875 37.203125 74.21875 \r\nQ 40.921875 74.21875 44.703125 73.484375 \r\nQ 48.484375 72.75 52.59375 71.296875 \r\nz\r\n\" id=\"DejaVuSans-54\"/>\r\n      </defs>\r\n      <g transform=\"translate(27.240625 236.437283)scale(0.1 -0.1)\">\r\n       <use xlink:href=\"#DejaVuSans-54\"/>\r\n       <use x=\"63.623047\" xlink:href=\"#DejaVuSans-48\"/>\r\n       <use x=\"127.246094\" xlink:href=\"#DejaVuSans-48\"/>\r\n       <use x=\"190.869141\" xlink:href=\"#DejaVuSans-48\"/>\r\n      </g>\r\n     </g>\r\n    </g>\r\n    <g id=\"ytick_5\">\r\n     <g id=\"line2d_15\">\r\n      <g>\r\n       <use style=\"stroke:#000000;stroke-width:0.8;\" x=\"59.690625\" xlink:href=\"#mc54221d618\" y=\"162.824085\"/>\r\n      </g>\r\n     </g>\r\n     <g id=\"text_16\">\r\n      <!-- 8000 -->\r\n      <defs>\r\n       <path d=\"M 31.78125 34.625 \r\nQ 24.75 34.625 20.71875 30.859375 \r\nQ 16.703125 27.09375 16.703125 20.515625 \r\nQ 16.703125 13.921875 20.71875 10.15625 \r\nQ 24.75 6.390625 31.78125 6.390625 \r\nQ 38.8125 6.390625 42.859375 10.171875 \r\nQ 46.921875 13.96875 46.921875 20.515625 \r\nQ 46.921875 27.09375 42.890625 30.859375 \r\nQ 38.875 34.625 31.78125 34.625 \r\nz\r\nM 21.921875 38.8125 \r\nQ 15.578125 40.375 12.03125 44.71875 \r\nQ 8.5 49.078125 8.5 55.328125 \r\nQ 8.5 64.0625 14.71875 69.140625 \r\nQ 20.953125 74.21875 31.78125 74.21875 \r\nQ 42.671875 74.21875 48.875 69.140625 \r\nQ 55.078125 64.0625 55.078125 55.328125 \r\nQ 55.078125 49.078125 51.53125 44.71875 \r\nQ 48 40.375 41.703125 38.8125 \r\nQ 48.828125 37.15625 52.796875 32.3125 \r\nQ 56.78125 27.484375 56.78125 20.515625 \r\nQ 56.78125 9.90625 50.3125 4.234375 \r\nQ 43.84375 -1.421875 31.78125 -1.421875 \r\nQ 19.734375 -1.421875 13.25 4.234375 \r\nQ 6.78125 9.90625 6.78125 20.515625 \r\nQ 6.78125 27.484375 10.78125 32.3125 \r\nQ 14.796875 37.15625 21.921875 38.8125 \r\nz\r\nM 18.3125 54.390625 \r\nQ 18.3125 48.734375 21.84375 45.5625 \r\nQ 25.390625 42.390625 31.78125 42.390625 \r\nQ 38.140625 42.390625 41.71875 45.5625 \r\nQ 45.3125 48.734375 45.3125 54.390625 \r\nQ 45.3125 60.0625 41.71875 63.234375 \r\nQ 38.140625 66.40625 31.78125 66.40625 \r\nQ 25.390625 66.40625 21.84375 63.234375 \r\nQ 18.3125 60.0625 18.3125 54.390625 \r\nz\r\n\" id=\"DejaVuSans-56\"/>\r\n      </defs>\r\n      <g transform=\"translate(27.240625 166.623304)scale(0.1 -0.1)\">\r\n       <use xlink:href=\"#DejaVuSans-56\"/>\r\n       <use x=\"63.623047\" xlink:href=\"#DejaVuSans-48\"/>\r\n       <use x=\"127.246094\" xlink:href=\"#DejaVuSans-48\"/>\r\n       <use x=\"190.869141\" xlink:href=\"#DejaVuSans-48\"/>\r\n      </g>\r\n     </g>\r\n    </g>\r\n    <g id=\"ytick_6\">\r\n     <g id=\"line2d_16\">\r\n      <g>\r\n       <use style=\"stroke:#000000;stroke-width:0.8;\" x=\"59.690625\" xlink:href=\"#mc54221d618\" y=\"93.010107\"/>\r\n      </g>\r\n     </g>\r\n     <g id=\"text_17\">\r\n      <!-- 10000 -->\r\n      <defs>\r\n       <path d=\"M 12.40625 8.296875 \r\nL 28.515625 8.296875 \r\nL 28.515625 63.921875 \r\nL 10.984375 60.40625 \r\nL 10.984375 69.390625 \r\nL 28.421875 72.90625 \r\nL 38.28125 72.90625 \r\nL 38.28125 8.296875 \r\nL 54.390625 8.296875 \r\nL 54.390625 0 \r\nL 12.40625 0 \r\nz\r\n\" id=\"DejaVuSans-49\"/>\r\n      </defs>\r\n      <g transform=\"translate(20.878125 96.809325)scale(0.1 -0.1)\">\r\n       <use xlink:href=\"#DejaVuSans-49\"/>\r\n       <use x=\"63.623047\" xlink:href=\"#DejaVuSans-48\"/>\r\n       <use x=\"127.246094\" xlink:href=\"#DejaVuSans-48\"/>\r\n       <use x=\"190.869141\" xlink:href=\"#DejaVuSans-48\"/>\r\n       <use x=\"254.492188\" xlink:href=\"#DejaVuSans-48\"/>\r\n      </g>\r\n     </g>\r\n    </g>\r\n    <g id=\"ytick_7\">\r\n     <g id=\"line2d_17\">\r\n      <g>\r\n       <use style=\"stroke:#000000;stroke-width:0.8;\" x=\"59.690625\" xlink:href=\"#mc54221d618\" y=\"23.196128\"/>\r\n      </g>\r\n     </g>\r\n     <g id=\"text_18\">\r\n      <!-- 12000 -->\r\n      <g transform=\"translate(20.878125 26.995347)scale(0.1 -0.1)\">\r\n       <use xlink:href=\"#DejaVuSans-49\"/>\r\n       <use x=\"63.623047\" xlink:href=\"#DejaVuSans-50\"/>\r\n       <use x=\"127.246094\" xlink:href=\"#DejaVuSans-48\"/>\r\n       <use x=\"190.869141\" xlink:href=\"#DejaVuSans-48\"/>\r\n       <use x=\"254.492188\" xlink:href=\"#DejaVuSans-48\"/>\r\n      </g>\r\n     </g>\r\n    </g>\r\n    <g id=\"text_19\">\r\n     <!-- frequencia -->\r\n     <defs>\r\n      <path d=\"M 37.109375 75.984375 \r\nL 37.109375 68.5 \r\nL 28.515625 68.5 \r\nQ 23.6875 68.5 21.796875 66.546875 \r\nQ 19.921875 64.59375 19.921875 59.515625 \r\nL 19.921875 54.6875 \r\nL 34.71875 54.6875 \r\nL 34.71875 47.703125 \r\nL 19.921875 47.703125 \r\nL 19.921875 0 \r\nL 10.890625 0 \r\nL 10.890625 47.703125 \r\nL 2.296875 47.703125 \r\nL 2.296875 54.6875 \r\nL 10.890625 54.6875 \r\nL 10.890625 58.5 \r\nQ 10.890625 67.625 15.140625 71.796875 \r\nQ 19.390625 75.984375 28.609375 75.984375 \r\nz\r\n\" id=\"DejaVuSans-102\"/>\r\n      <path d=\"M 14.796875 27.296875 \r\nQ 14.796875 17.390625 18.875 11.75 \r\nQ 22.953125 6.109375 30.078125 6.109375 \r\nQ 37.203125 6.109375 41.296875 11.75 \r\nQ 45.40625 17.390625 45.40625 27.296875 \r\nQ 45.40625 37.203125 41.296875 42.84375 \r\nQ 37.203125 48.484375 30.078125 48.484375 \r\nQ 22.953125 48.484375 18.875 42.84375 \r\nQ 14.796875 37.203125 14.796875 27.296875 \r\nz\r\nM 45.40625 8.203125 \r\nQ 42.578125 3.328125 38.25 0.953125 \r\nQ 33.9375 -1.421875 27.875 -1.421875 \r\nQ 17.96875 -1.421875 11.734375 6.484375 \r\nQ 5.515625 14.40625 5.515625 27.296875 \r\nQ 5.515625 40.1875 11.734375 48.09375 \r\nQ 17.96875 56 27.875 56 \r\nQ 33.9375 56 38.25 53.625 \r\nQ 42.578125 51.265625 45.40625 46.390625 \r\nL 45.40625 54.6875 \r\nL 54.390625 54.6875 \r\nL 54.390625 -20.796875 \r\nL 45.40625 -20.796875 \r\nz\r\n\" id=\"DejaVuSans-113\"/>\r\n     </defs>\r\n     <g transform=\"translate(14.798438 251.210312)rotate(-90)scale(0.1 -0.1)\">\r\n      <use xlink:href=\"#DejaVuSans-102\"/>\r\n      <use x=\"35.205078\" xlink:href=\"#DejaVuSans-114\"/>\r\n      <use x=\"74.068359\" xlink:href=\"#DejaVuSans-101\"/>\r\n      <use x=\"135.591797\" xlink:href=\"#DejaVuSans-113\"/>\r\n      <use x=\"199.068359\" xlink:href=\"#DejaVuSans-117\"/>\r\n      <use x=\"262.447266\" xlink:href=\"#DejaVuSans-101\"/>\r\n      <use x=\"323.970703\" xlink:href=\"#DejaVuSans-110\"/>\r\n      <use x=\"387.349609\" xlink:href=\"#DejaVuSans-99\"/>\r\n      <use x=\"442.330078\" xlink:href=\"#DejaVuSans-105\"/>\r\n      <use x=\"470.113281\" xlink:href=\"#DejaVuSans-97\"/>\r\n     </g>\r\n    </g>\r\n   </g>\r\n   <g id=\"line2d_18\">\r\n    <path clip-path=\"url(#pda6d321023)\" d=\"M 0 0 \r\n\" style=\"fill:none;stroke:#424242;stroke-linecap:square;stroke-width:2.7;\"/>\r\n   </g>\r\n   <g id=\"line2d_19\">\r\n    <path clip-path=\"url(#pda6d321023)\" d=\"M 0 0 \r\n\" style=\"fill:none;stroke:#424242;stroke-linecap:square;stroke-width:2.7;\"/>\r\n   </g>\r\n   <g id=\"line2d_20\">\r\n    <path clip-path=\"url(#pda6d321023)\" d=\"M 0 0 \r\n\" style=\"fill:none;stroke:#424242;stroke-linecap:square;stroke-width:2.7;\"/>\r\n   </g>\r\n   <g id=\"line2d_21\">\r\n    <path clip-path=\"url(#pda6d321023)\" d=\"M 0 0 \r\n\" style=\"fill:none;stroke:#424242;stroke-linecap:square;stroke-width:2.7;\"/>\r\n   </g>\r\n   <g id=\"line2d_22\">\r\n    <path clip-path=\"url(#pda6d321023)\" d=\"M 0 0 \r\n\" style=\"fill:none;stroke:#424242;stroke-linecap:square;stroke-width:2.7;\"/>\r\n   </g>\r\n   <g id=\"line2d_23\">\r\n    <path clip-path=\"url(#pda6d321023)\" d=\"M 0 0 \r\n\" style=\"fill:none;stroke:#424242;stroke-linecap:square;stroke-width:2.7;\"/>\r\n   </g>\r\n   <g id=\"line2d_24\">\r\n    <path clip-path=\"url(#pda6d321023)\" d=\"M 0 0 \r\n\" style=\"fill:none;stroke:#424242;stroke-linecap:square;stroke-width:2.7;\"/>\r\n   </g>\r\n   <g id=\"line2d_25\">\r\n    <path clip-path=\"url(#pda6d321023)\" d=\"M 0 0 \r\n\" style=\"fill:none;stroke:#424242;stroke-linecap:square;stroke-width:2.7;\"/>\r\n   </g>\r\n   <g id=\"line2d_26\">\r\n    <path clip-path=\"url(#pda6d321023)\" d=\"M 0 0 \r\n\" style=\"fill:none;stroke:#424242;stroke-linecap:square;stroke-width:2.7;\"/>\r\n   </g>\r\n   <g id=\"line2d_27\">\r\n    <path clip-path=\"url(#pda6d321023)\" d=\"M 0 0 \r\n\" style=\"fill:none;stroke:#424242;stroke-linecap:square;stroke-width:2.7;\"/>\r\n   </g>\r\n   <g id=\"patch_13\">\r\n    <path d=\"M 59.690625 442.08 \r\nL 59.690625 7.2 \r\n\" style=\"fill:none;stroke:#000000;stroke-linecap:square;stroke-linejoin:miter;stroke-width:0.8;\"/>\r\n   </g>\r\n   <g id=\"patch_14\">\r\n    <path d=\"M 729.290625 442.08 \r\nL 729.290625 7.2 \r\n\" style=\"fill:none;stroke:#000000;stroke-linecap:square;stroke-linejoin:miter;stroke-width:0.8;\"/>\r\n   </g>\r\n   <g id=\"patch_15\">\r\n    <path d=\"M 59.690625 442.08 \r\nL 729.290625 442.08 \r\n\" style=\"fill:none;stroke:#000000;stroke-linecap:square;stroke-linejoin:miter;stroke-width:0.8;\"/>\r\n   </g>\r\n   <g id=\"patch_16\">\r\n    <path d=\"M 59.690625 7.2 \r\nL 729.290625 7.2 \r\n\" style=\"fill:none;stroke:#000000;stroke-linecap:square;stroke-linejoin:miter;stroke-width:0.8;\"/>\r\n   </g>\r\n  </g>\r\n </g>\r\n <defs>\r\n  <clipPath id=\"pda6d321023\">\r\n   <rect height=\"434.88\" width=\"669.6\" x=\"59.690625\" y=\"7.2\"/>\r\n  </clipPath>\r\n </defs>\r\n</svg>\r\n",
      "image/png": "[encoded data removed]"
     },
     "metadata": {
      "needs_background": "light"
     }
    }
   ],
   "source": [
    "plt.figure(figsize=(12,8))\n",
    "ax = sns.barplot(data=maisFrequentes, x='palavra', y='frequencia')\n",
    "ax.set(ylabel='frequencia')\n",
    "plt.show()"
   ]
  },
  {
   "cell_type": "code",
   "execution_count": 32,
   "metadata": {},
   "outputs": [
    {
     "output_type": "execute_result",
     "data": {
      "text/plain": "TfidfVectorizer(analyzer='word', binary=False, decode_error='strict',\n                dtype=<class 'numpy.float64'>, encoding='utf-8',\n                input='content', lowercase=False, max_df=1.0, max_features=500,\n                min_df=1, ngram_range=(1, 2), norm='l2', preprocessor=None,\n                smooth_idf=True, stop_words=None, strip_accents=None,\n                sublinear_tf=False, token_pattern='(?u)\\\\b\\\\w\\\\w+\\\\b',\n                tokenizer=None, use_idf=True, vocabulary=None)"
     },
     "metadata": {},
     "execution_count": 32
    }
   ],
   "source": [
    "from sklearn.feature_extraction.text import TfidfVectorizer\n",
    "vectorizer = TfidfVectorizer(lowercase=False, max_features=500, ngram_range=(1,2))\n",
    "\n",
    "vectorizer"
   ]
  },
  {
   "cell_type": "code",
   "execution_count": 33,
   "metadata": {},
   "outputs": [
    {
     "output_type": "execute_result",
     "data": {
      "text/plain": "<99147x500 sparse matrix of type '<class 'numpy.float64'>'\n\twith 915623 stored elements in Compressed Sparse Row format>"
     },
     "metadata": {},
     "execution_count": 33
    }
   ],
   "source": [
    "bag_of_words = vectorizer.fit_transform(tweets['tweet_text'])\n",
    "\n",
    "bag_of_words"
   ]
  },
  {
   "cell_type": "code",
   "execution_count": 34,
   "metadata": {},
   "outputs": [],
   "source": [
    "from sklearn.model_selection import train_test_split\n",
    "X = bag_of_words\n",
    "y = tweets['score']\n",
    "\n",
    "X_train, X_test, y_train, y_test = train_test_split(X, y, test_size=0.2, stratify=y)"
   ]
  },
  {
   "cell_type": "code",
   "execution_count": 35,
   "metadata": {},
   "outputs": [
    {
     "output_type": "execute_result",
     "data": {
      "text/plain": "0.33535047907211296"
     },
     "metadata": {},
     "execution_count": 35
    }
   ],
   "source": [
    "from sklearn.dummy import DummyClassifier\n",
    "dummy_classifier = DummyClassifier()\n",
    "dummy_classifier.fit(X_train, y_train)\n",
    "dummy_classifier.score(X_test, y_test)"
   ]
  },
  {
   "cell_type": "code",
   "execution_count": 36,
   "metadata": {},
   "outputs": [
    {
     "output_type": "execute_result",
     "data": {
      "text/plain": "0.7892586989409985"
     },
     "metadata": {},
     "execution_count": 36
    }
   ],
   "source": [
    "from sklearn.linear_model import LogisticRegression\n",
    "model = LogisticRegression(solver='lbfgs')\n",
    "model.fit(X_train, y_train)\n",
    "model.score(X_test, y_test)"
   ]
  },
  {
   "cell_type": "code",
   "execution_count": 37,
   "metadata": {},
   "outputs": [
    {
     "output_type": "execute_result",
     "data": {
      "text/plain": "                 0\nacha     -0.042557\nachei     1.516687\nacho      1.675915\nacho que  1.252358\nacredito  1.375156\n...            ...\nvotar em -0.495397\nvotar no  0.448704\nvoto     -0.486034\nvotos     0.588282\nvou       1.002151\n\n[500 rows x 1 columns]",
      "text/html": "<div>\n<style scoped>\n    .dataframe tbody tr th:only-of-type {\n        vertical-align: middle;\n    }\n\n    .dataframe tbody tr th {\n        vertical-align: top;\n    }\n\n    .dataframe thead th {\n        text-align: right;\n    }\n</style>\n<table border=\"1\" class=\"dataframe\">\n  <thead>\n    <tr style=\"text-align: right;\">\n      <th></th>\n      <th>0</th>\n    </tr>\n  </thead>\n  <tbody>\n    <tr>\n      <th>acha</th>\n      <td>-0.042557</td>\n    </tr>\n    <tr>\n      <th>achei</th>\n      <td>1.516687</td>\n    </tr>\n    <tr>\n      <th>acho</th>\n      <td>1.675915</td>\n    </tr>\n    <tr>\n      <th>acho que</th>\n      <td>1.252358</td>\n    </tr>\n    <tr>\n      <th>acredito</th>\n      <td>1.375156</td>\n    </tr>\n    <tr>\n      <th>...</th>\n      <td>...</td>\n    </tr>\n    <tr>\n      <th>votar em</th>\n      <td>-0.495397</td>\n    </tr>\n    <tr>\n      <th>votar no</th>\n      <td>0.448704</td>\n    </tr>\n    <tr>\n      <th>voto</th>\n      <td>-0.486034</td>\n    </tr>\n    <tr>\n      <th>votos</th>\n      <td>0.588282</td>\n    </tr>\n    <tr>\n      <th>vou</th>\n      <td>1.002151</td>\n    </tr>\n  </tbody>\n</table>\n<p>500 rows × 1 columns</p>\n</div>"
     },
     "metadata": {},
     "execution_count": 37
    }
   ],
   "source": [
    "weights = pd.DataFrame(\n",
    "    model.coef_[0].T,\n",
    "    index=vectorizer.get_feature_names()\n",
    ")\n",
    "\n",
    "weights"
   ]
  },
  {
   "cell_type": "code",
   "execution_count": 38,
   "metadata": {},
   "outputs": [
    {
     "output_type": "execute_result",
     "data": {
      "text/plain": "     triste  infelizmente    queria      poxa        ta        eu     gente  \\\n0  6.510649      5.169561  4.381498  3.680221  3.429278  3.246902  2.933856   \n\n   bolsominion      ciro        to  \n0     2.702597  2.666987  2.625794  ",
      "text/html": "<div>\n<style scoped>\n    .dataframe tbody tr th:only-of-type {\n        vertical-align: middle;\n    }\n\n    .dataframe tbody tr th {\n        vertical-align: top;\n    }\n\n    .dataframe thead th {\n        text-align: right;\n    }\n</style>\n<table border=\"1\" class=\"dataframe\">\n  <thead>\n    <tr style=\"text-align: right;\">\n      <th></th>\n      <th>triste</th>\n      <th>infelizmente</th>\n      <th>queria</th>\n      <th>poxa</th>\n      <th>ta</th>\n      <th>eu</th>\n      <th>gente</th>\n      <th>bolsominion</th>\n      <th>ciro</th>\n      <th>to</th>\n    </tr>\n  </thead>\n  <tbody>\n    <tr>\n      <th>0</th>\n      <td>6.510649</td>\n      <td>5.169561</td>\n      <td>4.381498</td>\n      <td>3.680221</td>\n      <td>3.429278</td>\n      <td>3.246902</td>\n      <td>2.933856</td>\n      <td>2.702597</td>\n      <td>2.666987</td>\n      <td>2.625794</td>\n    </tr>\n  </tbody>\n</table>\n</div>"
     },
     "metadata": {},
     "execution_count": 38
    }
   ],
   "source": [
    "weights.nlargest(10, 0).T"
   ]
  },
  {
   "cell_type": "code",
   "execution_count": 39,
   "metadata": {},
   "outputs": [
    {
     "output_type": "execute_result",
     "data": {
      "text/plain": "       diz      veja      para        de       eua     dolar     sobre  \\\n0 -4.81332 -2.463704 -2.231646 -1.712813 -1.543152 -1.533182 -1.499214   \n\n     mostra      pede        ao  \n0 -1.403916 -1.399724 -1.348973  ",
      "text/html": "<div>\n<style scoped>\n    .dataframe tbody tr th:only-of-type {\n        vertical-align: middle;\n    }\n\n    .dataframe tbody tr th {\n        vertical-align: top;\n    }\n\n    .dataframe thead th {\n        text-align: right;\n    }\n</style>\n<table border=\"1\" class=\"dataframe\">\n  <thead>\n    <tr style=\"text-align: right;\">\n      <th></th>\n      <th>diz</th>\n      <th>veja</th>\n      <th>para</th>\n      <th>de</th>\n      <th>eua</th>\n      <th>dolar</th>\n      <th>sobre</th>\n      <th>mostra</th>\n      <th>pede</th>\n      <th>ao</th>\n    </tr>\n  </thead>\n  <tbody>\n    <tr>\n      <th>0</th>\n      <td>-4.81332</td>\n      <td>-2.463704</td>\n      <td>-2.231646</td>\n      <td>-1.712813</td>\n      <td>-1.543152</td>\n      <td>-1.533182</td>\n      <td>-1.499214</td>\n      <td>-1.403916</td>\n      <td>-1.399724</td>\n      <td>-1.348973</td>\n    </tr>\n  </tbody>\n</table>\n</div>"
     },
     "metadata": {},
     "execution_count": 39
    }
   ],
   "source": [
    "weights.nsmallest(10, 0).T"
   ]
  },
  {
   "cell_type": "code",
   "execution_count": 40,
   "metadata": {},
   "outputs": [],
   "source": [
    "from sklearn import naive_bayes\n",
    "from sklearn.metrics import roc_auc_score"
   ]
  },
  {
   "cell_type": "code",
   "execution_count": 41,
   "metadata": {},
   "outputs": [
    {
     "output_type": "execute_result",
     "data": {
      "text/plain": "                                              tweet_text sentiment  score  \\\n0      esquerda e direita empatam na suecia ultranaci...    Neutro      0   \n1      ao vivo estadao e tv gazeta realizam terceiro ...    Neutro      0   \n2      fotos apoiadores de jair bolsonaro realizam at...    Neutro      0   \n3      barroso ameaca barrar propaganda se pt insisti...    Neutro      0   \n4      serena williams e multada pelo comportamento d...    Neutro      0   \n...                                                  ...       ...    ...   \n99142  as concorrentes estao prontas para tudo p love...  Positivo      1   \n99143    falei de um ja pensando em conectar com o go...  Positivo      1   \n99144       eu comecei isentao pesquisei bastante bai...  Positivo      1   \n99145  que coisa mais triste uma amiga defendendo um ...  Negativo     -1   \n99146             obrigado pela declaracao de intencoes   Positivo      1   \n\n                                            bag_of_words  \n0            esquerd direit empat suec ultranacion avanc  \n1           viv estada tv gazet realiz terc debat presid  \n2                  fot apoi jair bolsonar realiz ato pal  \n3      barr ameac barr propagand pt insist mostr lul ...  \n4              seren will mult comport dur final us open  \n...                                                  ...  \n99142                concorr esta pront tud p lov on top  \n99143  fal ja pens conect govern outr acab embol nom ...  \n99144  comec isenta pesquis bast baix mont app notic ...  \n99145             cois trist amig defend bocal fasc merd  \n99146                            obrig declaraca intenco  \n\n[99147 rows x 4 columns]",
      "text/html": "<div>\n<style scoped>\n    .dataframe tbody tr th:only-of-type {\n        vertical-align: middle;\n    }\n\n    .dataframe tbody tr th {\n        vertical-align: top;\n    }\n\n    .dataframe thead th {\n        text-align: right;\n    }\n</style>\n<table border=\"1\" class=\"dataframe\">\n  <thead>\n    <tr style=\"text-align: right;\">\n      <th></th>\n      <th>tweet_text</th>\n      <th>sentiment</th>\n      <th>score</th>\n      <th>bag_of_words</th>\n    </tr>\n  </thead>\n  <tbody>\n    <tr>\n      <th>0</th>\n      <td>esquerda e direita empatam na suecia ultranaci...</td>\n      <td>Neutro</td>\n      <td>0</td>\n      <td>esquerd direit empat suec ultranacion avanc</td>\n    </tr>\n    <tr>\n      <th>1</th>\n      <td>ao vivo estadao e tv gazeta realizam terceiro ...</td>\n      <td>Neutro</td>\n      <td>0</td>\n      <td>viv estada tv gazet realiz terc debat presid</td>\n    </tr>\n    <tr>\n      <th>2</th>\n      <td>fotos apoiadores de jair bolsonaro realizam at...</td>\n      <td>Neutro</td>\n      <td>0</td>\n      <td>fot apoi jair bolsonar realiz ato pal</td>\n    </tr>\n    <tr>\n      <th>3</th>\n      <td>barroso ameaca barrar propaganda se pt insisti...</td>\n      <td>Neutro</td>\n      <td>0</td>\n      <td>barr ameac barr propagand pt insist mostr lul ...</td>\n    </tr>\n    <tr>\n      <th>4</th>\n      <td>serena williams e multada pelo comportamento d...</td>\n      <td>Neutro</td>\n      <td>0</td>\n      <td>seren will mult comport dur final us open</td>\n    </tr>\n    <tr>\n      <th>...</th>\n      <td>...</td>\n      <td>...</td>\n      <td>...</td>\n      <td>...</td>\n    </tr>\n    <tr>\n      <th>99142</th>\n      <td>as concorrentes estao prontas para tudo p love...</td>\n      <td>Positivo</td>\n      <td>1</td>\n      <td>concorr esta pront tud p lov on top</td>\n    </tr>\n    <tr>\n      <th>99143</th>\n      <td>falei de um ja pensando em conectar com o go...</td>\n      <td>Positivo</td>\n      <td>1</td>\n      <td>fal ja pens conect govern outr acab embol nom ...</td>\n    </tr>\n    <tr>\n      <th>99144</th>\n      <td>eu comecei isentao pesquisei bastante bai...</td>\n      <td>Positivo</td>\n      <td>1</td>\n      <td>comec isenta pesquis bast baix mont app notic ...</td>\n    </tr>\n    <tr>\n      <th>99145</th>\n      <td>que coisa mais triste uma amiga defendendo um ...</td>\n      <td>Negativo</td>\n      <td>-1</td>\n      <td>cois trist amig defend bocal fasc merd</td>\n    </tr>\n    <tr>\n      <th>99146</th>\n      <td>obrigado pela declaracao de intencoes</td>\n      <td>Positivo</td>\n      <td>1</td>\n      <td>obrig declaraca intenco</td>\n    </tr>\n  </tbody>\n</table>\n<p>99147 rows × 4 columns</p>\n</div>"
     },
     "metadata": {},
     "execution_count": 41
    }
   ],
   "source": [
    "tweets"
   ]
  },
  {
   "cell_type": "code",
   "execution_count": 42,
   "metadata": {},
   "outputs": [],
   "source": [
    "vectorizer = TfidfVectorizer(use_idf=True, lowercase=True, strip_accents='ascii', stop_words=stopWords)"
   ]
  },
  {
   "cell_type": "code",
   "execution_count": 43,
   "metadata": {},
   "outputs": [
    {
     "output_type": "execute_result",
     "data": {
      "text/plain": "TfidfVectorizer(analyzer='word', binary=False, decode_error='strict',\n                dtype=<class 'numpy.float64'>, encoding='utf-8',\n                input='content', lowercase=True, max_df=1.0, max_features=None,\n                min_df=1, ngram_range=(1, 1), norm='l2', preprocessor=None,\n                smooth_idf=True,\n                stop_words={'a', 'ao', 'aos', 'aquela', 'aquelas', 'aquele',\n                            'aqueles', 'aquilo', 'as', 'até', 'com', 'como',\n                            'da', 'das', 'de', 'dela', 'delas', 'dele', 'deles',\n                            'depois', 'do', 'dos', 'e', 'ela', 'elas', 'ele',\n                            'eles', 'em', 'entre', 'era', ...},\n                strip_accents='ascii', sublinear_tf=False,\n                token_pattern='(?u)\\\\b\\\\w\\\\w+\\\\b', tokenizer=None, use_idf=True,\n                vocabulary=None)"
     },
     "metadata": {},
     "execution_count": 43
    }
   ],
   "source": [
    "vectorizer"
   ]
  },
  {
   "cell_type": "code",
   "execution_count": 44,
   "metadata": {},
   "outputs": [],
   "source": [
    "y = tweets['score']"
   ]
  },
  {
   "cell_type": "code",
   "execution_count": 45,
   "metadata": {},
   "outputs": [],
   "source": [
    "X = vectorizer.fit_transform(tweets['tweet_text'])"
   ]
  },
  {
   "cell_type": "code",
   "execution_count": 46,
   "metadata": {},
   "outputs": [
    {
     "output_type": "stream",
     "name": "stdout",
     "text": "(99147,)\n(99147, 56173)\n"
    }
   ],
   "source": [
    "print(y.shape)\n",
    "print(X.shape)"
   ]
  },
  {
   "cell_type": "code",
   "execution_count": 47,
   "metadata": {},
   "outputs": [],
   "source": [
    "X_train, X_test, y_train, y_test = train_test_split(X, y, random_state=42)"
   ]
  },
  {
   "cell_type": "code",
   "execution_count": 48,
   "metadata": {},
   "outputs": [
    {
     "output_type": "execute_result",
     "data": {
      "text/plain": "MultinomialNB(alpha=1.0, class_prior=None, fit_prior=True)"
     },
     "metadata": {},
     "execution_count": 48
    }
   ],
   "source": [
    "clf = naive_bayes.MultinomialNB()\n",
    "clf.fit(X_train, y_train)"
   ]
  }
 ],
 "metadata": {
  "language_info": {
   "name": "python",
   "codemirror_mode": {
    "name": "ipython",
    "version": 3
   },
   "version": "3.8.2-final"
  },
  "orig_nbformat": 2,
  "file_extension": ".py",
  "mimetype": "text/x-python",
  "name": "python",
  "npconvert_exporter": "python",
  "pygments_lexer": "ipython3",
  "version": 3,
  "kernelspec": {
   "name": "python38264bit2a25272bf2b345eeaade93773a9e856a",
   "display_name": "Python 3.8.2 64-bit"
  }
 },
 "nbformat": 4,
 "nbformat_minor": 2
}