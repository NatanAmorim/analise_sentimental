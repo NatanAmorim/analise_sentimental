{
 "nbformat": 4,
 "nbformat_minor": 2,
 "metadata": {
  "language_info": {
   "name": "python",
   "codemirror_mode": {
    "name": "ipython",
    "version": 3
   },
   "version": "3.7.6-final"
  },
  "orig_nbformat": 2,
  "file_extension": ".py",
  "mimetype": "text/x-python",
  "name": "python",
  "npconvert_exporter": "python",
  "pygments_lexer": "ipython3",
  "version": 3,
  "kernelspec": {
   "name": "python3",
   "display_name": "Python 3"
  }
 },
 "cells": [
  {
   "cell_type": "code",
   "execution_count": 40,
   "metadata": {},
   "outputs": [
    {
     "output_type": "stream",
     "name": "stdout",
     "text": "Requirement already satisfied: nltk in c:\\users\\natan\\anaconda3\\lib\\site-packages (3.5)\nRequirement already satisfied: click in c:\\users\\natan\\anaconda3\\lib\\site-packages (from nltk) (7.0)\nRequirement already satisfied: joblib in c:\\users\\natan\\anaconda3\\lib\\site-packages (from nltk) (0.14.1)\nRequirement already satisfied: regex in c:\\users\\natan\\anaconda3\\lib\\site-packages (from nltk) (2020.4.4)\nRequirement already satisfied: tqdm in c:\\users\\natan\\anaconda3\\lib\\site-packages (from nltk) (4.42.1)\n[nltk_data] Downloading package stopwords to\n[nltk_data]     C:\\Users\\natan\\AppData\\Roaming\\nltk_data...\n[nltk_data]   Package stopwords is already up-to-date!\n"
    }
   ],
   "source": [
    "!pip install nltk\n",
    "import nltk # Ferramentas de PLN\n",
    "nltk.download('stopwords')\n",
    "from sklearn.feature_extraction.text import CountVectorizer"
   ]
  },
  {
   "cell_type": "code",
   "execution_count": 72,
   "metadata": {},
   "outputs": [],
   "source": [
    "stopWords =  nltk.corpus.stopwords.words(\"portuguese\")\n",
    "vetorizador = CountVectorizer(stop_words=stopWords, ngram_range=(1,2))"
   ]
  },
  {
   "cell_type": "code",
   "execution_count": 74,
   "metadata": {},
   "outputs": [
    {
     "output_type": "stream",
     "name": "stdout",
     "text": "['acontecimento', 'caminho', 'desse', 'esquecerei', 'fatigadas', 'meio', 'nunca', 'pedra', 'retinas', 'tão', 'vida']\n[1 6 1 2 1 6 2 7 1 1 1]\n"
    }
   ],
   "source": [
    "texto = ['no', 'meio', 'do', 'caminho', 'tinha', 'uma', 'pedra', 'tinha', 'uma', 'pedra', 'no', 'meio', 'do', 'caminho', 'tinha', 'uma', 'pedra', 'no', 'meio', 'do', 'caminho', 'tinha', 'uma', 'pedra', 'nunca', 'me', 'esquecerei', 'desse', 'acontecimento', 'na', 'vida', 'de', 'minhas', 'retinas', 'tão', 'fatigadas', 'nunca', 'me', 'esquecerei', 'que', 'no', 'meio', 'do', 'caminho', 'tinha', 'uma', 'pedra', 'tinha', 'uma', 'pedra', 'no', 'meio', 'do', 'caminho', 'no', 'meio', 'do', 'caminho', 'tinha', 'uma', 'pedra']\n",
    "\n",
    "data_cv = vetorizador.fit_transform(texto)\n",
    "#print(vetorizador.vocabulary_) # Cria um dicionario com a contagem da frequencia\n",
    "print(vetorizador.get_feature_names()) \n",
    "print(data_cv.toarray().sum(axis=0))\n"
   ]
  }
 ]
}