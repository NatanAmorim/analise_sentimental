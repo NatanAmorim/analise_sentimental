{
 "cells": [
  {
   "cell_type": "markdown",
   "metadata": {},
   "source": [
    "# Web Scraping\n",
    "- esse Jupyter Notebook mostra como é feita o web scraping."
   ]
  },
  {
   "cell_type": "code",
   "execution_count": null,
   "metadata": {},
   "outputs": [],
   "source": [
    "## Beautiful Soup\n",
    "! pip install beautifulsoup4\n",
    "\n",
    "print(\"\\n\" + '\\033[1m' + '\\033[93m' +  \"Downloads feitos com sucesso!\")"
   ]
  },
  {
   "cell_type": "code",
   "execution_count": null,
   "metadata": {},
   "outputs": [],
   "source": [
    "! pip install requests\n",
    "import requests"
   ]
  },
  {
   "cell_type": "code",
   "execution_count": null,
   "metadata": {},
   "outputs": [],
   "source": [
    "import requests\n",
    "from bs4 import BeautifulSoup\n",
    "import re\n",
    "\n",
    "print(\"\\n\" + '\\033[1m' + '\\033[93m' + \"Importações feitas com sucesso!\")"
   ]
  },
  {
   "cell_type": "code",
   "execution_count": null,
   "metadata": {
    "tags": [
     "outputPrepend"
    ]
   },
   "outputs": [],
   "source": [
    "url = 'https://g1.globo.com/pop-arte/musica/noticia/2020/04/19/roberto-carlos-live-e-neste-domingo-19-com-transmissao-no-globoplay-e-no-domingao-veja-detalhes.ghtml'\n",
    "\n",
    "pagina = requests.get(url).text\n",
    "\n",
    ""
   ]
  },
  {
   "cell_type": "code",
   "execution_count": null,
   "metadata": {},
   "outputs": [],
   "source": [
    "\n",
    "soup = BeautifulSoup(pagina, features=\"html.parser\")\n",
    "result = soup.findAll(\"div\", {\"class\":\"content-text\"})\n",
    ""
   ]
  },
  {
   "cell_type": "code",
   "execution_count": null,
   "metadata": {},
   "outputs": [],
   "source": [
    "lista = list()\n",
    "for linha in result:\n",
    "    # Extraindo o texto do paragrado\n",
    "    linha = linha.find('p').text\n",
    "    # Deixando tudo em minúsculo\n",
    "    linha = linha.lower()\n",
    "    # Removendo a pontuação (EX: \"!?.,/|#$%¨&\")\n",
    "    linha = re.sub(r'[^\\w\\s]', '', linha)\n",
    "    # #removendo links e etec\n",
    "    linha = re.sub('\\[.*?\\]', '', linha)\n",
    "    linha = re.sub('\\w*\\d\\w*', '', linha)\n",
    "    linha = re.sub(r'^https?:\\/\\/.*[\\r\\n]*', '', linha, flags=re.MULTILINE)\n",
    "    lista.append(linha)\n",
    "\n",
    "print (lista)"
   ]
  }
 ],
 "metadata": {
  "language_info": {
   "name": "python",
   "codemirror_mode": {
    "name": "ipython",
    "version": 3
   },
   "version": "3.8.2-final"
  },
  "orig_nbformat": 2,
  "file_extension": ".py",
  "mimetype": "text/x-python",
  "name": "python",
  "npconvert_exporter": "python",
  "pygments_lexer": "ipython3",
  "version": 3,
  "kernelspec": {
   "name": "python38264bit2a25272bf2b345eeaade93773a9e856a",
   "display_name": "Python 3.8.2 64-bit"
  }
 },
 "nbformat": 4,
 "nbformat_minor": 2
}