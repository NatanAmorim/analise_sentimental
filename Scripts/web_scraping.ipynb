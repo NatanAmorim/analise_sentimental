{
 "cells": [
  {
   "cell_type": "markdown",
   "metadata": {},
   "source": [
    "# Web Scraping\n",
    "- esse Jupyter Notebook mostra como é feita o web scraping."
   ]
  },
  {
   "cell_type": "code",
   "execution_count": 1,
   "metadata": {},
   "outputs": [
    {
     "output_type": "stream",
     "name": "stdout",
     "text": "Requirement already satisfied: beautifulsoup4 in c:\\users\\natan\\appdata\\local\\programs\\python\\python38\\lib\\site-packages (4.9.0)\n\u001b[1m\u001b[93mDownloads feitos com sucesso!\nRequirement already satisfied: soupsieve>1.2 in c:\\users\\natan\\appdata\\local\\programs\\python\\python38\\lib\\site-packages (from beautifulsoup4) (2.0)\n\n"
    }
   ],
   "source": [
    "## Beautiful Soup\n",
    "! pip install beautifulsoup4\n",
    "\n",
    "print(\"\\n\" + '\\033[1m' + '\\033[93m' +  \"Downloads feitos com sucesso!\")"
   ]
  },
  {
   "cell_type": "code",
   "execution_count": 2,
   "metadata": {},
   "outputs": [
    {
     "output_type": "stream",
     "name": "stdout",
     "text": "Requirement already satisfied: requests in c:\\users\\natan\\appdata\\local\\programs\\python\\python38\\lib\\site-packages (2.23.0)\nRequirement already satisfied: idna<3,>=2.5 in c:\\users\\natan\\appdata\\local\\programs\\python\\python38\\lib\\site-packages (from requests) (2.9)\nRequirement already satisfied: chardet<4,>=3.0.2 in c:\\users\\natan\\appdata\\local\\programs\\python\\python38\\lib\\site-packages (from requests) (3.0.4)\nRequirement already satisfied: certifi>=2017.4.17 in c:\\users\\natan\\appdata\\local\\programs\\python\\python38\\lib\\site-packages (from requests) (2020.4.5.1)\nRequirement already satisfied: urllib3!=1.25.0,!=1.25.1,<1.26,>=1.21.1 in c:\\users\\natan\\appdata\\local\\programs\\python\\python38\\lib\\site-packages (from requests) (1.25.9)\n"
    }
   ],
   "source": [
    "! pip install requests\n",
    "import requests"
   ]
  },
  {
   "cell_type": "code",
   "execution_count": 3,
   "metadata": {},
   "outputs": [
    {
     "output_type": "stream",
     "name": "stdout",
     "text": "\n\u001b[1m\u001b[93mImportações feitas com sucesso!\n"
    }
   ],
   "source": [
    "import requests\n",
    "from bs4 import BeautifulSoup\n",
    "import re\n",
    "\n",
    "print(\"\\n\" + '\\033[1m' + '\\033[93m' + \"Importações feitas com sucesso!\")"
   ]
  },
  {
   "cell_type": "code",
   "execution_count": 4,
   "metadata": {
    "tags": [
     "outputPrepend"
    ]
   },
   "outputs": [],
   "source": [
    "url = 'https://g1.globo.com/pop-arte/musica/noticia/2020/04/19/roberto-carlos-live-e-neste-domingo-19-com-transmissao-no-globoplay-e-no-domingao-veja-detalhes.ghtml'\n",
    "\n",
    "pagina = requests.get(url).text\n",
    "\n",
    ""
   ]
  },
  {
   "cell_type": "code",
   "execution_count": 5,
   "metadata": {},
   "outputs": [],
   "source": [
    "\n",
    "soup = BeautifulSoup(pagina, features=\"html.parser\")\n",
    "result = soup.findAll(\"div\", {\"class\":\"content-text\"})\n",
    ""
   ]
  },
  {
   "cell_type": "code",
   "execution_count": 6,
   "metadata": {},
   "outputs": [
    {
     "output_type": "stream",
     "name": "stdout",
     "text": "[' roberto carlos vai comemorar seu aniversário de  anos neste domingo  com a tv globo e o globoplay o cantor estará em seu estúdio na urca no rio de janeiro ', ' live de roberto carlos  como assistir o público poderá acompanhar a apresentação completa com duração prevista de  minutos no globoplay veja o link o domingão do faustão exibirá na tv globo ao vivo às  as duas primeiras músicas ', ' com uma produção mínima e cercado de cuidados roberto carlos estará acompanhado apenas do maestro eduardo lages e de tutuca borba nos teclados ', ' além de curtir os sucessos e comemorar o aniversário junto com roberto carlos o público será convidado a se juntar à corrente de solidariedade que toma conta do brasil e do mundo e conhecer o paraquemdoarcombr plataforma criada pela globo que reúne projetos de institutos fundações entidades e movimentos sociais que estão atuando e precisam de apoio para minimizar os impactos da pandemia ']\n"
    }
   ],
   "source": [
    "lista = list()\n",
    "for linha in result:\n",
    "    # Extraindo o texto do paragrado\n",
    "    linha = linha.find('p').text\n",
    "    # Deixando tudo em minúsculo\n",
    "    linha = linha.lower()\n",
    "    # Removendo a pontuação (EX: \"!?.,/|#$%¨&\")\n",
    "    linha = re.sub(r'[^\\w\\s]', '', linha)\n",
    "    # #removendo links e etec\n",
    "    linha = re.sub('\\[.*?\\]', '', linha)\n",
    "    linha = re.sub('\\w*\\d\\w*', '', linha)\n",
    "    linha = re.sub(r'^https?:\\/\\/.*[\\r\\n]*', '', linha, flags=re.MULTILINE)\n",
    "    lista.append(linha)\n",
    "\n",
    "print (lista)"
   ]
  }
 ],
 "metadata": {
  "language_info": {
   "name": "python",
   "codemirror_mode": {
    "name": "ipython",
    "version": 3
   },
   "version": "3.8.2-final"
  },
  "orig_nbformat": 2,
  "file_extension": ".py",
  "mimetype": "text/x-python",
  "name": "python",
  "npconvert_exporter": "python",
  "pygments_lexer": "ipython3",
  "version": 3,
  "kernelspec": {
   "name": "python38264bit2a25272bf2b345eeaade93773a9e856a",
   "display_name": "Python 3.8.2 64-bit"
  }
 },
 "nbformat": 4,
 "nbformat_minor": 2
}